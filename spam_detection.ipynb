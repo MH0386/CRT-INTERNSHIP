{
 "cells": [
  {
   "cell_type": "code",
   "execution_count": 1,
   "metadata": {
    "ExecuteTime": {
     "end_time": "2023-07-22T16:49:51.278028900Z",
     "start_time": "2023-07-22T16:49:51.159449100Z"
    },
    "execution": {
     "iopub.execute_input": "2023-07-21T22:10:30.692464Z",
     "iopub.status.busy": "2023-07-21T22:10:30.688580Z",
     "iopub.status.idle": "2023-07-21T22:10:30.705859Z",
     "shell.execute_reply": "2023-07-21T22:10:30.704299Z",
     "shell.execute_reply.started": "2023-07-21T22:10:30.692394Z"
    },
    "papermill": {
     "duration": 12.169917,
     "end_time": "2021-02-08T08:52:40.750380",
     "exception": false,
     "start_time": "2021-02-08T08:52:28.580463",
     "status": "completed"
    },
    "tags": [],
    "trusted": true
   },
   "outputs": [
    {
     "name": "stderr",
     "output_type": "stream",
     "text": [
      "2023-07-23 20:18:21.076158: I tensorflow/core/platform/cpu_feature_guard.cc:182] This TensorFlow binary is optimized to use available CPU instructions in performance-critical operations.\n",
      "To enable the following instructions: AVX2 FMA, in other operations, rebuild TensorFlow with the appropriate compiler flags.\n",
      "2023-07-23 20:18:23.286967: W tensorflow/compiler/tf2tensorrt/utils/py_utils.cc:38] TF-TRT Warning: Could not find TensorRT\n"
     ]
    }
   ],
   "source": [
    "import tensorflow as tf\n",
    "import numpy as np\n",
    "import polars as pl\n",
    "import matplotlib.pyplot as plt\n",
    "from sklearn.model_selection import train_test_split\n",
    "from tensorflow.keras.layers import TextVectorization\n",
    "import seaborn as sns\n",
    "from keras.utils import to_categorical"
   ]
  },
  {
   "cell_type": "code",
   "execution_count": 2,
   "metadata": {
    "ExecuteTime": {
     "end_time": "2023-07-22T16:49:51.423666400Z",
     "start_time": "2023-07-22T16:49:51.165453800Z"
    },
    "execution": {
     "iopub.execute_input": "2023-07-21T22:10:30.710058Z",
     "iopub.status.busy": "2023-07-21T22:10:30.709011Z",
     "iopub.status.idle": "2023-07-21T22:10:30.726753Z",
     "shell.execute_reply": "2023-07-21T22:10:30.725129Z",
     "shell.execute_reply.started": "2023-07-21T22:10:30.709997Z"
    },
    "papermill": {
     "duration": 0.088819,
     "end_time": "2021-02-08T08:52:40.856378",
     "exception": false,
     "start_time": "2021-02-08T08:52:40.767559",
     "status": "completed"
    },
    "tags": [],
    "trusted": true
   },
   "outputs": [],
   "source": [
    "data = pl.read_csv('SPAM text message 20170820 - Data.csv')"
   ]
  },
  {
   "cell_type": "code",
   "execution_count": 3,
   "metadata": {
    "ExecuteTime": {
     "end_time": "2023-07-22T16:49:51.458202500Z",
     "start_time": "2023-07-22T16:49:51.261486700Z"
    },
    "execution": {
     "iopub.execute_input": "2023-07-21T22:10:30.729677Z",
     "iopub.status.busy": "2023-07-21T22:10:30.729195Z",
     "iopub.status.idle": "2023-07-21T22:10:30.742943Z",
     "shell.execute_reply": "2023-07-21T22:10:30.741354Z",
     "shell.execute_reply.started": "2023-07-21T22:10:30.729637Z"
    },
    "papermill": {
     "duration": 0.071468,
     "end_time": "2021-02-08T08:52:40.955785",
     "exception": false,
     "start_time": "2021-02-08T08:52:40.884317",
     "status": "completed"
    },
    "tags": [],
    "trusted": true
   },
   "outputs": [
    {
     "data": {
      "text/html": [
       "<div><style>\n",
       ".dataframe > thead > tr > th,\n",
       ".dataframe > tbody > tr > td {\n",
       "  text-align: right;\n",
       "}\n",
       "</style>\n",
       "<small>shape: (5_572, 2)</small><table border=\"1\" class=\"dataframe\"><thead><tr><th>Category</th><th>Message</th></tr><tr><td>str</td><td>str</td></tr></thead><tbody><tr><td>&quot;ham&quot;</td><td>&quot;Go until juron…</td></tr><tr><td>&quot;ham&quot;</td><td>&quot;Ok lar... Joki…</td></tr><tr><td>&quot;spam&quot;</td><td>&quot;Free entry in …</td></tr><tr><td>&quot;ham&quot;</td><td>&quot;U dun say so e…</td></tr><tr><td>&quot;ham&quot;</td><td>&quot;Nah I don&#x27;t th…</td></tr><tr><td>&quot;spam&quot;</td><td>&quot;FreeMsg Hey th…</td></tr><tr><td>&quot;ham&quot;</td><td>&quot;Even my brothe…</td></tr><tr><td>&quot;ham&quot;</td><td>&quot;As per your re…</td></tr><tr><td>&quot;spam&quot;</td><td>&quot;WINNER!! As a …</td></tr><tr><td>&quot;spam&quot;</td><td>&quot;Had your mobil…</td></tr><tr><td>&quot;ham&quot;</td><td>&quot;I&#x27;m gonna be h…</td></tr><tr><td>&quot;spam&quot;</td><td>&quot;SIX chances to…</td></tr><tr><td>&hellip;</td><td>&hellip;</td></tr><tr><td>&quot;ham&quot;</td><td>&quot;Anything lor. …</td></tr><tr><td>&quot;ham&quot;</td><td>&quot;Get me out of …</td></tr><tr><td>&quot;ham&quot;</td><td>&quot;Ok lor... Sony…</td></tr><tr><td>&quot;ham&quot;</td><td>&quot;Ard 6 like dat…</td></tr><tr><td>&quot;ham&quot;</td><td>&quot;Why don&#x27;t you …</td></tr><tr><td>&quot;ham&quot;</td><td>&quot;Huh y lei...&quot;</td></tr><tr><td>&quot;spam&quot;</td><td>&quot;REMINDER FROM …</td></tr><tr><td>&quot;spam&quot;</td><td>&quot;This is the 2n…</td></tr><tr><td>&quot;ham&quot;</td><td>&quot;Will ü b going…</td></tr><tr><td>&quot;ham&quot;</td><td>&quot;Pity, * was in…</td></tr><tr><td>&quot;ham&quot;</td><td>&quot;The guy did so…</td></tr><tr><td>&quot;ham&quot;</td><td>&quot;Rofl. Its true…</td></tr></tbody></table></div>"
      ],
      "text/plain": [
       "shape: (5_572, 2)\n",
       "┌──────────┬───────────────────────────────────┐\n",
       "│ Category ┆ Message                           │\n",
       "│ ---      ┆ ---                               │\n",
       "│ str      ┆ str                               │\n",
       "╞══════════╪═══════════════════════════════════╡\n",
       "│ ham      ┆ Go until jurong point, crazy.. A… │\n",
       "│ ham      ┆ Ok lar... Joking wif u oni...     │\n",
       "│ spam     ┆ Free entry in 2 a wkly comp to w… │\n",
       "│ ham      ┆ U dun say so early hor... U c al… │\n",
       "│ …        ┆ …                                 │\n",
       "│ ham      ┆ Will ü b going to esplanade fr h… │\n",
       "│ ham      ┆ Pity, * was in mood for that. So… │\n",
       "│ ham      ┆ The guy did some bitching but I … │\n",
       "│ ham      ┆ Rofl. Its true to its name        │\n",
       "└──────────┴───────────────────────────────────┘"
      ]
     },
     "execution_count": 3,
     "metadata": {},
     "output_type": "execute_result"
    }
   ],
   "source": [
    "data"
   ]
  },
  {
   "cell_type": "code",
   "execution_count": 4,
   "metadata": {
    "ExecuteTime": {
     "end_time": "2023-07-22T16:49:51.459713400Z",
     "start_time": "2023-07-22T16:49:51.268487900Z"
    },
    "execution": {
     "iopub.execute_input": "2023-07-21T22:10:30.746633Z",
     "iopub.status.busy": "2023-07-21T22:10:30.746140Z",
     "iopub.status.idle": "2023-07-21T22:10:30.759819Z",
     "shell.execute_reply": "2023-07-21T22:10:30.758637Z",
     "shell.execute_reply.started": "2023-07-21T22:10:30.746582Z"
    },
    "papermill": {
     "duration": 0.106915,
     "end_time": "2021-02-08T08:52:41.080492",
     "exception": false,
     "start_time": "2021-02-08T08:52:40.973577",
     "status": "completed"
    },
    "tags": [],
    "trusted": true
   },
   "outputs": [
    {
     "data": {
      "text/html": [
       "<div><style>\n",
       ".dataframe > thead > tr > th,\n",
       ".dataframe > tbody > tr > td {\n",
       "  text-align: right;\n",
       "}\n",
       "</style>\n",
       "<small>shape: (2, 2)</small><table border=\"1\" class=\"dataframe\"><thead><tr><th>Category</th><th>count</th></tr><tr><td>str</td><td>u32</td></tr></thead><tbody><tr><td>&quot;spam&quot;</td><td>747</td></tr><tr><td>&quot;ham&quot;</td><td>4825</td></tr></tbody></table></div>"
      ],
      "text/plain": [
       "shape: (2, 2)\n",
       "┌──────────┬───────┐\n",
       "│ Category ┆ count │\n",
       "│ ---      ┆ ---   │\n",
       "│ str      ┆ u32   │\n",
       "╞══════════╪═══════╡\n",
       "│ spam     ┆ 747   │\n",
       "│ ham      ┆ 4825  │\n",
       "└──────────┴───────┘"
      ]
     },
     "execution_count": 4,
     "metadata": {},
     "output_type": "execute_result"
    }
   ],
   "source": [
    "data.groupby('Category').count()"
   ]
  },
  {
   "cell_type": "code",
   "execution_count": 5,
   "metadata": {
    "ExecuteTime": {
     "end_time": "2023-07-22T16:49:51.459713400Z",
     "start_time": "2023-07-22T16:49:51.305756400Z"
    },
    "execution": {
     "iopub.execute_input": "2023-07-21T22:10:30.762478Z",
     "iopub.status.busy": "2023-07-21T22:10:30.762020Z",
     "iopub.status.idle": "2023-07-21T22:10:30.773022Z",
     "shell.execute_reply": "2023-07-21T22:10:30.771809Z",
     "shell.execute_reply.started": "2023-07-21T22:10:30.762435Z"
    },
    "papermill": {
     "duration": 0.045957,
     "end_time": "2021-02-08T08:52:41.608830",
     "exception": false,
     "start_time": "2021-02-08T08:52:41.562873",
     "status": "completed"
    },
    "tags": [],
    "trusted": true
   },
   "outputs": [],
   "source": [
    "ham_msg = data.filter(pl.col('Category') == 'ham')\n",
    "spam_msg = data.filter(pl.col('Category') == 'spam')"
   ]
  },
  {
   "cell_type": "code",
   "execution_count": 6,
   "metadata": {
    "ExecuteTime": {
     "end_time": "2023-07-22T16:49:51.459713400Z",
     "start_time": "2023-07-22T16:49:51.324168Z"
    },
    "execution": {
     "iopub.execute_input": "2023-07-21T22:10:30.775678Z",
     "iopub.status.busy": "2023-07-21T22:10:30.775214Z",
     "iopub.status.idle": "2023-07-21T22:10:30.787353Z",
     "shell.execute_reply": "2023-07-21T22:10:30.786145Z",
     "shell.execute_reply.started": "2023-07-21T22:10:30.775637Z"
    },
    "papermill": {
     "duration": 0.044657,
     "end_time": "2021-02-08T08:52:41.684788",
     "exception": false,
     "start_time": "2021-02-08T08:52:41.640131",
     "status": "completed"
    },
    "tags": [],
    "trusted": true
   },
   "outputs": [],
   "source": [
    "#randomly taking data from ham_ msg\n",
    "ham_msg = ham_msg.sample(n=len(spam_msg))"
   ]
  },
  {
   "cell_type": "code",
   "execution_count": 7,
   "metadata": {
    "ExecuteTime": {
     "end_time": "2023-07-22T16:49:51.460727600Z",
     "start_time": "2023-07-22T16:49:51.329168600Z"
    },
    "execution": {
     "iopub.execute_input": "2023-07-21T22:10:30.791214Z",
     "iopub.status.busy": "2023-07-21T22:10:30.790459Z",
     "iopub.status.idle": "2023-07-21T22:10:30.802644Z",
     "shell.execute_reply": "2023-07-21T22:10:30.801502Z",
     "shell.execute_reply.started": "2023-07-21T22:10:30.791168Z"
    },
    "papermill": {
     "duration": 0.042903,
     "end_time": "2021-02-08T08:52:41.760274",
     "exception": false,
     "start_time": "2021-02-08T08:52:41.717371",
     "status": "completed"
    },
    "tags": [],
    "trusted": true
   },
   "outputs": [
    {
     "name": "stdout",
     "output_type": "stream",
     "text": [
      "(747, 2) (747, 2)\n"
     ]
    }
   ],
   "source": [
    "print(ham_msg.shape, spam_msg.shape)"
   ]
  },
  {
   "cell_type": "code",
   "execution_count": 8,
   "metadata": {
    "ExecuteTime": {
     "end_time": "2023-07-22T16:49:51.460727600Z",
     "start_time": "2023-07-22T16:49:51.338174700Z"
    },
    "collapsed": false,
    "execution": {
     "iopub.execute_input": "2023-07-21T22:10:30.805095Z",
     "iopub.status.busy": "2023-07-21T22:10:30.804387Z",
     "iopub.status.idle": "2023-07-21T22:10:30.821067Z",
     "shell.execute_reply": "2023-07-21T22:10:30.819755Z",
     "shell.execute_reply.started": "2023-07-21T22:10:30.805053Z"
    },
    "jupyter": {
     "outputs_hidden": false
    },
    "trusted": true
   },
   "outputs": [
    {
     "data": {
      "text/html": [
       "<div><style>\n",
       ".dataframe > thead > tr > th,\n",
       ".dataframe > tbody > tr > td {\n",
       "  text-align: right;\n",
       "}\n",
       "</style>\n",
       "<small>shape: (5_572, 2)</small><table border=\"1\" class=\"dataframe\"><thead><tr><th>Category</th><th>Message</th></tr><tr><td>str</td><td>str</td></tr></thead><tbody><tr><td>&quot;ham&quot;</td><td>&quot;Go until juron…</td></tr><tr><td>&quot;ham&quot;</td><td>&quot;Ok lar... Joki…</td></tr><tr><td>&quot;spam&quot;</td><td>&quot;Free entry in …</td></tr><tr><td>&quot;ham&quot;</td><td>&quot;U dun say so e…</td></tr><tr><td>&quot;ham&quot;</td><td>&quot;Nah I don&#x27;t th…</td></tr><tr><td>&quot;spam&quot;</td><td>&quot;FreeMsg Hey th…</td></tr><tr><td>&quot;ham&quot;</td><td>&quot;Even my brothe…</td></tr><tr><td>&quot;ham&quot;</td><td>&quot;As per your re…</td></tr><tr><td>&quot;spam&quot;</td><td>&quot;WINNER!! As a …</td></tr><tr><td>&quot;spam&quot;</td><td>&quot;Had your mobil…</td></tr><tr><td>&quot;ham&quot;</td><td>&quot;I&#x27;m gonna be h…</td></tr><tr><td>&quot;spam&quot;</td><td>&quot;SIX chances to…</td></tr><tr><td>&hellip;</td><td>&hellip;</td></tr><tr><td>&quot;ham&quot;</td><td>&quot;Anything lor. …</td></tr><tr><td>&quot;ham&quot;</td><td>&quot;Get me out of …</td></tr><tr><td>&quot;ham&quot;</td><td>&quot;Ok lor... Sony…</td></tr><tr><td>&quot;ham&quot;</td><td>&quot;Ard 6 like dat…</td></tr><tr><td>&quot;ham&quot;</td><td>&quot;Why don&#x27;t you …</td></tr><tr><td>&quot;ham&quot;</td><td>&quot;Huh y lei...&quot;</td></tr><tr><td>&quot;spam&quot;</td><td>&quot;REMINDER FROM …</td></tr><tr><td>&quot;spam&quot;</td><td>&quot;This is the 2n…</td></tr><tr><td>&quot;ham&quot;</td><td>&quot;Will ü b going…</td></tr><tr><td>&quot;ham&quot;</td><td>&quot;Pity, * was in…</td></tr><tr><td>&quot;ham&quot;</td><td>&quot;The guy did so…</td></tr><tr><td>&quot;ham&quot;</td><td>&quot;Rofl. Its true…</td></tr></tbody></table></div>"
      ],
      "text/plain": [
       "shape: (5_572, 2)\n",
       "┌──────────┬───────────────────────────────────┐\n",
       "│ Category ┆ Message                           │\n",
       "│ ---      ┆ ---                               │\n",
       "│ str      ┆ str                               │\n",
       "╞══════════╪═══════════════════════════════════╡\n",
       "│ ham      ┆ Go until jurong point, crazy.. A… │\n",
       "│ ham      ┆ Ok lar... Joking wif u oni...     │\n",
       "│ spam     ┆ Free entry in 2 a wkly comp to w… │\n",
       "│ ham      ┆ U dun say so early hor... U c al… │\n",
       "│ …        ┆ …                                 │\n",
       "│ ham      ┆ Will ü b going to esplanade fr h… │\n",
       "│ ham      ┆ Pity, * was in mood for that. So… │\n",
       "│ ham      ┆ The guy did some bitching but I … │\n",
       "│ ham      ┆ Rofl. Its true to its name        │\n",
       "└──────────┴───────────────────────────────────┘"
      ]
     },
     "execution_count": 8,
     "metadata": {},
     "output_type": "execute_result"
    }
   ],
   "source": [
    "data"
   ]
  },
  {
   "cell_type": "code",
   "execution_count": 9,
   "metadata": {
    "ExecuteTime": {
     "end_time": "2023-07-22T16:49:51.461727Z",
     "start_time": "2023-07-22T16:49:51.350345600Z"
    },
    "collapsed": false,
    "execution": {
     "iopub.execute_input": "2023-07-21T22:10:30.823899Z",
     "iopub.status.busy": "2023-07-21T22:10:30.823354Z",
     "iopub.status.idle": "2023-07-21T22:10:30.833783Z",
     "shell.execute_reply": "2023-07-21T22:10:30.831790Z",
     "shell.execute_reply.started": "2023-07-21T22:10:30.823851Z"
    },
    "jupyter": {
     "outputs_hidden": false
    },
    "trusted": true
   },
   "outputs": [],
   "source": [
    "balanced_data = ham_msg.vstack(spam_msg)\n",
    "balanced_data = balanced_data.with_columns(\n",
    "    pl.when(pl.col(\"Category\") == 'spam').then(1).otherwise(0).alias('Category')\n",
    ")"
   ]
  },
  {
   "cell_type": "code",
   "execution_count": 10,
   "metadata": {
    "ExecuteTime": {
     "end_time": "2023-07-22T16:49:51.461727Z",
     "start_time": "2023-07-22T16:49:51.365348200Z"
    },
    "collapsed": false,
    "execution": {
     "iopub.execute_input": "2023-07-21T22:10:30.838694Z",
     "iopub.status.busy": "2023-07-21T22:10:30.838211Z",
     "iopub.status.idle": "2023-07-21T22:10:30.853491Z",
     "shell.execute_reply": "2023-07-21T22:10:30.851637Z",
     "shell.execute_reply.started": "2023-07-21T22:10:30.838655Z"
    },
    "jupyter": {
     "outputs_hidden": false
    },
    "trusted": true
   },
   "outputs": [
    {
     "data": {
      "text/html": [
       "<div><style>\n",
       ".dataframe > thead > tr > th,\n",
       ".dataframe > tbody > tr > td {\n",
       "  text-align: right;\n",
       "}\n",
       "</style>\n",
       "<small>shape: (1_494, 2)</small><table border=\"1\" class=\"dataframe\"><thead><tr><th>Category</th><th>Message</th></tr><tr><td>i32</td><td>str</td></tr></thead><tbody><tr><td>0</td><td>&quot;R u here yet? …</td></tr><tr><td>0</td><td>&quot;Ok lar... Joki…</td></tr><tr><td>0</td><td>&quot;U dun say so e…</td></tr><tr><td>0</td><td>&quot;Nah I don&#x27;t th…</td></tr><tr><td>0</td><td>&quot;Kindly send so…</td></tr><tr><td>0</td><td>&quot;Long after I q…</td></tr><tr><td>0</td><td>&quot;Die... I accid…</td></tr><tr><td>0</td><td>&quot;I&#x27;ve been sear…</td></tr><tr><td>0</td><td>&quot;I HAVE A DATE …</td></tr><tr><td>0</td><td>&quot;Yo chad which …</td></tr><tr><td>0</td><td>&quot;Ü go home liao…</td></tr><tr><td>0</td><td>&quot;Leave it. U wi…</td></tr><tr><td>&hellip;</td><td>&hellip;</td></tr><tr><td>1</td><td>&quot;URGENT We are …</td></tr><tr><td>1</td><td>&quot;2p per min to …</td></tr><tr><td>1</td><td>&quot;Marvel Mobile …</td></tr><tr><td>1</td><td>&quot;SMS SERVICES. …</td></tr><tr><td>1</td><td>&quot;PRIVATE! Your …</td></tr><tr><td>1</td><td>&quot;You are awarde…</td></tr><tr><td>1</td><td>&quot;PRIVATE! Your …</td></tr><tr><td>1</td><td>&quot;Want explicit …</td></tr><tr><td>1</td><td>&quot;ASKED 3MOBILE …</td></tr><tr><td>1</td><td>&quot;Had your contr…</td></tr><tr><td>1</td><td>&quot;REMINDER FROM …</td></tr><tr><td>1</td><td>&quot;This is the 2n…</td></tr></tbody></table></div>"
      ],
      "text/plain": [
       "shape: (1_494, 2)\n",
       "┌──────────┬───────────────────────────────────┐\n",
       "│ Category ┆ Message                           │\n",
       "│ ---      ┆ ---                               │\n",
       "│ i32      ┆ str                               │\n",
       "╞══════════╪═══════════════════════════════════╡\n",
       "│ 0        ┆ R u here yet? I'm wearing blue s… │\n",
       "│ 0        ┆ Ok lar... Joking wif u oni...     │\n",
       "│ 0        ┆ U dun say so early hor... U c al… │\n",
       "│ 0        ┆ Nah I don't think he goes to usf… │\n",
       "│ …        ┆ …                                 │\n",
       "│ 1        ┆ ASKED 3MOBILE IF 0870 CHATLINES … │\n",
       "│ 1        ┆ Had your contract mobile 11 Mnth… │\n",
       "│ 1        ┆ REMINDER FROM O2: To get 2.50 po… │\n",
       "│ 1        ┆ This is the 2nd time we have tri… │\n",
       "└──────────┴───────────────────────────────────┘"
      ]
     },
     "execution_count": 10,
     "metadata": {},
     "output_type": "execute_result"
    }
   ],
   "source": [
    "balanced_data"
   ]
  },
  {
   "cell_type": "code",
   "execution_count": 11,
   "metadata": {
    "ExecuteTime": {
     "end_time": "2023-07-22T16:55:12.355733900Z",
     "start_time": "2023-07-22T16:55:12.294705800Z"
    },
    "execution": {
     "iopub.execute_input": "2023-07-21T22:10:30.856172Z",
     "iopub.status.busy": "2023-07-21T22:10:30.855759Z",
     "iopub.status.idle": "2023-07-21T22:10:30.869575Z",
     "shell.execute_reply": "2023-07-21T22:10:30.867719Z",
     "shell.execute_reply.started": "2023-07-21T22:10:30.856138Z"
    },
    "papermill": {
     "duration": 0.037443,
     "end_time": "2021-02-08T08:52:42.184497",
     "exception": false,
     "start_time": "2021-02-08T08:52:42.147054",
     "status": "completed"
    },
    "tags": [],
    "trusted": true
   },
   "outputs": [],
   "source": [
    "X_train, X_test, Y_train, Y_test = train_test_split(\n",
    "    balanced_data['Message'], \n",
    "    balanced_data['Category'],\n",
    "    test_size=0.2,\n",
    "    random_state=42\n",
    ")"
   ]
  },
  {
   "cell_type": "code",
   "execution_count": 12,
   "metadata": {
    "ExecuteTime": {
     "end_time": "2023-07-22T16:58:09.582366300Z",
     "start_time": "2023-07-22T16:58:09.517374300Z"
    },
    "collapsed": false
   },
   "outputs": [
    {
     "data": {
      "text/plain": [
       "array([\"Sorry, I'll call later\", 'Cuz ibored. And don wanna study',\n",
       "       'Hello darling how are you today? I would love to have a chat, why dont you tell me what you look like and what you are in to sexy?',\n",
       "       ...,\n",
       "       'You have an important customer service announcement from PREMIER. Call FREEPHONE 0800 542 0578 now!',\n",
       "       'URGENT! Your Mobile number has been awarded with a £2000 prize GUARANTEED. Call 09061790126 from land line. Claim 3030. Valid 12hrs only 150ppm',\n",
       "       'How come it takes so little time for a child who is afraid of the dark to become a teenager who wants to stay out all night?'],\n",
       "      dtype=object)"
      ]
     },
     "execution_count": 12,
     "metadata": {},
     "output_type": "execute_result"
    }
   ],
   "source": [
    "X_train = np.array(X_train, dtype=np.chararray)\n",
    "X_test = np.array(X_test, dtype=np.chararray)\n",
    "X_train"
   ]
  },
  {
   "cell_type": "code",
   "execution_count": 13,
   "metadata": {
    "ExecuteTime": {
     "end_time": "2023-07-22T16:58:12.024765900Z",
     "start_time": "2023-07-22T16:58:11.996677200Z"
    },
    "execution": {
     "iopub.execute_input": "2023-07-21T22:10:30.873464Z",
     "iopub.status.busy": "2023-07-21T22:10:30.872588Z",
     "iopub.status.idle": "2023-07-21T22:10:31.008908Z",
     "shell.execute_reply": "2023-07-21T22:10:31.007097Z",
     "shell.execute_reply.started": "2023-07-21T22:10:30.873406Z"
    },
    "trusted": true
   },
   "outputs": [
    {
     "name": "stderr",
     "output_type": "stream",
     "text": [
      "2023-07-23 20:18:28.541266: I tensorflow/compiler/xla/stream_executor/cuda/cuda_gpu_executor.cc:981] could not open file to read NUMA node: /sys/bus/pci/devices/0000:01:00.0/numa_node\n",
      "Your kernel may have been built without NUMA support.\n",
      "2023-07-23 20:18:29.332411: W tensorflow/core/common_runtime/gpu/gpu_device.cc:1960] Cannot dlopen some GPU libraries. Please make sure the missing libraries mentioned above are installed properly if you would like to use GPU. Follow the guide at https://www.tensorflow.org/install/gpu for how to download and setup the required libraries for your platform.\n",
      "Skipping registering GPU devices...\n"
     ]
    }
   ],
   "source": [
    "max_features = 5000  # Maximum vocab size.\n",
    "max_len = 50\n",
    "\n",
    "# Create the layer.\n",
    "vectorize_layer = tf.keras.layers.TextVectorization(\n",
    "    max_tokens=max_features,\n",
    "    output_mode='int',\n",
    "    output_sequence_length=max_len\n",
    ")\n",
    "vectorize_layer.adapt(X_test)\n",
    "vectorizd_X_test = vectorize_layer(X_test)\n",
    "\n",
    "vectorize_layer.adapt(X_train)\n",
    "vectorizd_X_train = vectorize_layer(X_train)"
   ]
  },
  {
   "cell_type": "code",
   "execution_count": 14,
   "metadata": {},
   "outputs": [],
   "source": [
    "Y_train = np.array(Y_train, dtype=np.int64)\n",
    "Y_test = np.array(Y_test, dtype=np.int64)"
   ]
  },
  {
   "cell_type": "code",
   "execution_count": 22,
   "metadata": {
    "ExecuteTime": {
     "end_time": "2023-07-22T16:58:45.603911900Z",
     "start_time": "2023-07-22T16:58:45.463562800Z"
    },
    "execution": {
     "iopub.execute_input": "2023-07-21T22:10:31.142429Z",
     "iopub.status.busy": "2023-07-21T22:10:31.141861Z",
     "iopub.status.idle": "2023-07-21T22:10:31.211471Z",
     "shell.execute_reply": "2023-07-21T22:10:31.209952Z",
     "shell.execute_reply.started": "2023-07-21T22:10:31.142394Z"
    },
    "papermill": {
     "duration": 0.207504,
     "end_time": "2021-02-08T08:52:42.884963",
     "exception": false,
     "start_time": "2021-02-08T08:52:42.677459",
     "status": "completed"
    },
    "tags": [],
    "trusted": true
   },
   "outputs": [],
   "source": [
    "#model\n",
    "model = tf.keras.models.Sequential(\n",
    "    [\n",
    "        tf.keras.layers.Dense(\n",
    "            120, \n",
    "            activation='relu',\n",
    "            kernel_regularizer=tf.keras.regularizers.L1(),\n",
    "            ),\n",
    "        tf.keras.layers.Dense(\n",
    "            120, \n",
    "            activation='relu',            \n",
    "            kernel_regularizer=tf.keras.regularizers.L1(),\n",
    "            ),\n",
    "        tf.keras.layers.Dense(\n",
    "            120, \n",
    "            activation='relu',            \n",
    "            kernel_regularizer=tf.keras.regularizers.L1(),\n",
    "            ),\n",
    "        tf.keras.layers.Dense(\n",
    "            1,\n",
    "            activation='sigmoid'\n",
    "            )\n",
    "    ]\n",
    ")"
   ]
  },
  {
   "cell_type": "code",
   "execution_count": 29,
   "metadata": {
    "ExecuteTime": {
     "end_time": "2023-07-22T16:58:45.621372400Z",
     "start_time": "2023-07-22T16:58:45.533566600Z"
    },
    "execution": {
     "iopub.execute_input": "2023-07-21T22:10:31.214132Z",
     "iopub.status.busy": "2023-07-21T22:10:31.213282Z",
     "iopub.status.idle": "2023-07-21T22:10:31.232538Z",
     "shell.execute_reply": "2023-07-21T22:10:31.230979Z",
     "shell.execute_reply.started": "2023-07-21T22:10:31.214084Z"
    },
    "papermill": {
     "duration": 0.064816,
     "end_time": "2021-02-08T08:52:42.990022",
     "exception": false,
     "start_time": "2021-02-08T08:52:42.925206",
     "status": "completed"
    },
    "tags": [],
    "trusted": true
   },
   "outputs": [],
   "source": [
    "model.compile(\n",
    "    loss=tf.keras.losses.BinaryCrossentropy(),\n",
    "    metrics=[tf.keras.metrics.Accuracy()],\n",
    "    optimizer = tf.keras.optimizers.Adam()\n",
    ")"
   ]
  },
  {
   "cell_type": "code",
   "execution_count": 30,
   "metadata": {
    "ExecuteTime": {
     "end_time": "2023-07-22T16:58:57.924788300Z",
     "start_time": "2023-07-22T16:58:57.847980300Z"
    },
    "collapsed": false
   },
   "outputs": [
    {
     "name": "stdout",
     "output_type": "stream",
     "text": [
      "tf.Tensor(\n",
      "[[ 153   94    6 ...    0    0    0]\n",
      " [3394 3029   12 ...    0    0    0]\n",
      " [ 308 1590   89 ...    0    0    0]\n",
      " ...\n",
      " [   3   15  150 ...    0    0    0]\n",
      " [  67    8   33 ...    0    0    0]\n",
      " [  89   86   28 ...    0    0    0]], shape=(1195, 50), dtype=int64)\n",
      "Epoch 1/100\n"
     ]
    },
    {
     "name": "stderr",
     "output_type": "stream",
     "text": [
      "/home/mohamed/anaconda3/lib/python3.11/site-packages/keras/src/backend.py:5805: UserWarning: \"`binary_crossentropy` received `from_logits=True`, but the `output` argument was produced by a Sigmoid activation and thus does not represent logits. Was this intended?\n",
      "  output, from_logits = _get_logits(\n"
     ]
    },
    {
     "name": "stdout",
     "output_type": "stream",
     "text": [
      "38/38 [==============================] - 2s 6ms/step - loss: 3.8853 - accuracy: 0.0452\n",
      "Epoch 2/100\n",
      "38/38 [==============================] - 0s 5ms/step - loss: 3.4012 - accuracy: 0.0368\n",
      "Epoch 3/100\n",
      "38/38 [==============================] - 0s 5ms/step - loss: 3.1478 - accuracy: 0.0385\n",
      "Epoch 4/100\n",
      "38/38 [==============================] - 0s 4ms/step - loss: 2.9561 - accuracy: 0.0285\n",
      "Epoch 5/100\n",
      "38/38 [==============================] - 0s 4ms/step - loss: 2.7766 - accuracy: 0.0268\n",
      "Epoch 6/100\n",
      "38/38 [==============================] - 0s 4ms/step - loss: 2.6024 - accuracy: 0.0259\n",
      "Epoch 7/100\n",
      "38/38 [==============================] - 0s 5ms/step - loss: 2.5066 - accuracy: 0.0209\n",
      "Epoch 8/100\n",
      "38/38 [==============================] - 0s 4ms/step - loss: 2.3129 - accuracy: 0.0268\n",
      "Epoch 9/100\n",
      "38/38 [==============================] - 0s 5ms/step - loss: 2.1968 - accuracy: 0.0218\n",
      "Epoch 10/100\n",
      "38/38 [==============================] - 0s 6ms/step - loss: 2.0466 - accuracy: 0.0134\n",
      "Epoch 11/100\n",
      "38/38 [==============================] - 0s 4ms/step - loss: 1.9559 - accuracy: 0.0201\n",
      "Epoch 12/100\n",
      "38/38 [==============================] - 0s 5ms/step - loss: 1.8584 - accuracy: 0.0067\n",
      "Epoch 13/100\n",
      "38/38 [==============================] - 0s 5ms/step - loss: 1.7637 - accuracy: 0.0109\n",
      "Epoch 14/100\n",
      "38/38 [==============================] - 0s 6ms/step - loss: 1.6914 - accuracy: 0.0117\n",
      "Epoch 15/100\n",
      "38/38 [==============================] - 0s 6ms/step - loss: 1.5968 - accuracy: 0.0100\n",
      "Epoch 16/100\n",
      "19/38 [==============>...............] - ETA: 0s - loss: 1.5112 - accuracy: 0.0164"
     ]
    },
    {
     "ename": "KeyboardInterrupt",
     "evalue": "",
     "output_type": "error",
     "traceback": [
      "\u001b[0;31m---------------------------------------------------------------------------\u001b[0m",
      "\u001b[0;31mKeyboardInterrupt\u001b[0m                         Traceback (most recent call last)",
      "Cell \u001b[0;32mIn[30], line 2\u001b[0m\n\u001b[1;32m      1\u001b[0m \u001b[39mprint\u001b[39m(vectorizd_X_train)\n\u001b[0;32m----> 2\u001b[0m history \u001b[39m=\u001b[39m model\u001b[39m.\u001b[39mfit(\n\u001b[1;32m      3\u001b[0m     vectorizd_X_train,\n\u001b[1;32m      4\u001b[0m     Y_train,\n\u001b[1;32m      5\u001b[0m     epochs\u001b[39m=\u001b[39m\u001b[39m100\u001b[39m,\n\u001b[1;32m      6\u001b[0m )\n",
      "File \u001b[0;32m~/anaconda3/lib/python3.11/site-packages/keras/src/utils/traceback_utils.py:65\u001b[0m, in \u001b[0;36mfilter_traceback.<locals>.error_handler\u001b[0;34m(*args, **kwargs)\u001b[0m\n\u001b[1;32m     63\u001b[0m filtered_tb \u001b[39m=\u001b[39m \u001b[39mNone\u001b[39;00m\n\u001b[1;32m     64\u001b[0m \u001b[39mtry\u001b[39;00m:\n\u001b[0;32m---> 65\u001b[0m     \u001b[39mreturn\u001b[39;00m fn(\u001b[39m*\u001b[39margs, \u001b[39m*\u001b[39m\u001b[39m*\u001b[39mkwargs)\n\u001b[1;32m     66\u001b[0m \u001b[39mexcept\u001b[39;00m \u001b[39mException\u001b[39;00m \u001b[39mas\u001b[39;00m e:\n\u001b[1;32m     67\u001b[0m     filtered_tb \u001b[39m=\u001b[39m _process_traceback_frames(e\u001b[39m.\u001b[39m__traceback__)\n",
      "File \u001b[0;32m~/anaconda3/lib/python3.11/site-packages/keras/src/engine/training.py:1733\u001b[0m, in \u001b[0;36mModel.fit\u001b[0;34m(self, x, y, batch_size, epochs, verbose, callbacks, validation_split, validation_data, shuffle, class_weight, sample_weight, initial_epoch, steps_per_epoch, validation_steps, validation_batch_size, validation_freq, max_queue_size, workers, use_multiprocessing)\u001b[0m\n\u001b[1;32m   1731\u001b[0m callbacks\u001b[39m.\u001b[39mon_epoch_begin(epoch)\n\u001b[1;32m   1732\u001b[0m \u001b[39mwith\u001b[39;00m data_handler\u001b[39m.\u001b[39mcatch_stop_iteration():\n\u001b[0;32m-> 1733\u001b[0m     \u001b[39mfor\u001b[39;00m step \u001b[39min\u001b[39;00m data_handler\u001b[39m.\u001b[39msteps():\n\u001b[1;32m   1734\u001b[0m         \u001b[39mwith\u001b[39;00m tf\u001b[39m.\u001b[39mprofiler\u001b[39m.\u001b[39mexperimental\u001b[39m.\u001b[39mTrace(\n\u001b[1;32m   1735\u001b[0m             \u001b[39m\"\u001b[39m\u001b[39mtrain\u001b[39m\u001b[39m\"\u001b[39m,\n\u001b[1;32m   1736\u001b[0m             epoch_num\u001b[39m=\u001b[39mepoch,\n\u001b[0;32m   (...)\u001b[0m\n\u001b[1;32m   1739\u001b[0m             _r\u001b[39m=\u001b[39m\u001b[39m1\u001b[39m,\n\u001b[1;32m   1740\u001b[0m         ):\n\u001b[1;32m   1741\u001b[0m             callbacks\u001b[39m.\u001b[39mon_train_batch_begin(step)\n",
      "File \u001b[0;32m~/anaconda3/lib/python3.11/site-packages/keras/src/engine/data_adapter.py:1401\u001b[0m, in \u001b[0;36mDataHandler.steps\u001b[0;34m(self)\u001b[0m\n\u001b[1;32m   1399\u001b[0m \u001b[39mif\u001b[39;00m \u001b[39mself\u001b[39m\u001b[39m.\u001b[39m_insufficient_data:  \u001b[39m# Set by `catch_stop_iteration`.\u001b[39;00m\n\u001b[1;32m   1400\u001b[0m     \u001b[39mbreak\u001b[39;00m\n\u001b[0;32m-> 1401\u001b[0m original_spe \u001b[39m=\u001b[39m \u001b[39mself\u001b[39m\u001b[39m.\u001b[39m_steps_per_execution\u001b[39m.\u001b[39mnumpy()\u001b[39m.\u001b[39mitem()\n\u001b[1;32m   1402\u001b[0m can_run_full_execution \u001b[39m=\u001b[39m (\n\u001b[1;32m   1403\u001b[0m     original_spe \u001b[39m==\u001b[39m \u001b[39m1\u001b[39m\n\u001b[1;32m   1404\u001b[0m     \u001b[39mor\u001b[39;00m \u001b[39mself\u001b[39m\u001b[39m.\u001b[39m_inferred_steps \u001b[39mis\u001b[39;00m \u001b[39mNone\u001b[39;00m\n\u001b[1;32m   1405\u001b[0m     \u001b[39mor\u001b[39;00m \u001b[39mself\u001b[39m\u001b[39m.\u001b[39m_inferred_steps \u001b[39m-\u001b[39m \u001b[39mself\u001b[39m\u001b[39m.\u001b[39m_current_step \u001b[39m>\u001b[39m\u001b[39m=\u001b[39m original_spe\n\u001b[1;32m   1406\u001b[0m )\n\u001b[1;32m   1408\u001b[0m \u001b[39mif\u001b[39;00m can_run_full_execution:\n",
      "\u001b[0;31mKeyboardInterrupt\u001b[0m: "
     ]
    }
   ],
   "source": [
    "\n",
    "print(vectorizd_X_train)\n",
    "history = model.fit(\n",
    "    vectorizd_X_train,\n",
    "    Y_train,\n",
    "    epochs=100,\n",
    ")"
   ]
  },
  {
   "cell_type": "code",
   "execution_count": null,
   "metadata": {
    "execution": {
     "iopub.status.busy": "2023-07-21T22:10:31.398905Z",
     "iopub.status.idle": "2023-07-21T22:10:31.399369Z",
     "shell.execute_reply": "2023-07-21T22:10:31.399153Z",
     "shell.execute_reply.started": "2023-07-21T22:10:31.399133Z"
    },
    "papermill": {
     "duration": 0.134887,
     "end_time": "2021-02-08T08:52:49.954736",
     "exception": false,
     "start_time": "2021-02-08T08:52:49.819849",
     "status": "completed"
    },
    "tags": [],
    "trusted": true
   },
   "outputs": [
    {
     "name": "stdout",
     "output_type": "stream",
     "text": [
      "10/10 [==============================] - 0s 3ms/step - loss: 4.2121 - accuracy: 0.0000e+00\n"
     ]
    },
    {
     "data": {
      "text/plain": [
       "[4.212086200714111, 0.0]"
      ]
     },
     "execution_count": 25,
     "metadata": {},
     "output_type": "execute_result"
    }
   ],
   "source": [
    "model.evaluate(\n",
    "    vectorizd_X_test,\n",
    "    Y_test\n",
    ")"
   ]
  },
  {
   "cell_type": "code",
   "execution_count": null,
   "metadata": {
    "execution": {
     "iopub.status.busy": "2023-07-21T22:10:31.401332Z",
     "iopub.status.idle": "2023-07-21T22:10:31.402119Z",
     "shell.execute_reply": "2023-07-21T22:10:31.401753Z",
     "shell.execute_reply.started": "2023-07-21T22:10:31.401723Z"
    },
    "papermill": {
     "duration": 0.228343,
     "end_time": "2021-02-08T08:52:50.233981",
     "exception": false,
     "start_time": "2021-02-08T08:52:50.005638",
     "status": "completed"
    },
    "tags": [],
    "trusted": true
   },
   "outputs": [
    {
     "data": {
      "text/plain": [
       "Text(0.5, 0, 'epoch')"
      ]
     },
     "execution_count": 26,
     "metadata": {},
     "output_type": "execute_result"
    },
    {
     "data": {
      "image/png": "[encoded data removed]",
      "text/plain": [
       "<Figure size 640x480 with 1 Axes>"
      ]
     },
     "metadata": {},
     "output_type": "display_data"
    }
   ],
   "source": [
    "plt.plot(history.history['accuracy'])\n",
    "plt.title('model accuracy')\n",
    "plt.ylabel('accuracy')\n",
    "plt.xlabel('epoch')"
   ]
  },
  {
   "cell_type": "code",
   "execution_count": null,
   "metadata": {
    "execution": {
     "iopub.status.busy": "2023-07-21T22:10:31.404331Z",
     "iopub.status.idle": "2023-07-21T22:10:31.404925Z",
     "shell.execute_reply": "2023-07-21T22:10:31.404653Z",
     "shell.execute_reply.started": "2023-07-21T22:10:31.404625Z"
    },
    "papermill": {
     "duration": 0.060302,
     "end_time": "2021-02-08T08:52:50.344966",
     "exception": false,
     "start_time": "2021-02-08T08:52:50.284664",
     "status": "completed"
    },
    "tags": [],
    "trusted": true
   },
   "outputs": [],
   "source": [
    "predict_msg = [\n",
    "    \"Go until jurong point, crazy.. Available only in bugis n great world la e buffet... Cine there got amore wat...\",\n",
    "    \"Ok lar... Joking wif u oni...\",\n",
    "    \"Free entry in 2 a wkly comp to win FA Cup final tkts 21st May 2005. Text FA to 87121 to receive entry question(std txt rate)T&C's apply 08452810075over18's\"]"
   ]
  },
  {
   "cell_type": "code",
   "execution_count": null,
   "metadata": {
    "execution": {
     "iopub.status.busy": "2023-07-21T22:10:31.407782Z",
     "iopub.status.idle": "2023-07-21T22:10:31.408369Z",
     "shell.execute_reply": "2023-07-21T22:10:31.408108Z",
     "shell.execute_reply.started": "2023-07-21T22:10:31.408081Z"
    },
    "papermill": {
     "duration": 0.18574,
     "end_time": "2021-02-08T08:52:50.578092",
     "exception": false,
     "start_time": "2021-02-08T08:52:50.392352",
     "status": "completed"
    },
    "tags": [],
    "trusted": true
   },
   "outputs": [
    {
     "name": "stdout",
     "output_type": "stream",
     "text": [
      "1/1 [==============================] - 0s 77ms/step\n"
     ]
    },
    {
     "data": {
      "text/plain": [
       "array([[0.22428803],\n",
       "       [0.20431146],\n",
       "       [0.23703411]], dtype=float32)"
      ]
     },
     "execution_count": 28,
     "metadata": {},
     "output_type": "execute_result"
    }
   ],
   "source": [
    "vectorize_layer.adapt(predict_msg)\n",
    "vectorizd_predict_msg = vectorize_layer(predict_msg)\n",
    "\n",
    "model.predict(vectorizd_predict_msg)"
   ]
  }
 ],
 "metadata": {
  "kernelspec": {
   "display_name": "Python 3",
   "language": "python",
   "name": "python3"
  },
  "language_info": {
   "codemirror_mode": {
    "name": "ipython",
    "version": 3
   },
   "file_extension": ".py",
   "mimetype": "text/x-python",
   "name": "python",
   "nbconvert_exporter": "python",
   "pygments_lexer": "ipython3",
   "version": "3.10.12"
  },
  "papermill": {
   "default_parameters": {},
   "duration": 32.053119,
   "end_time": "2021-02-08T08:52:52.370459",
   "environment_variables": {},
   "exception": null,
   "input_path": "__notebook__.ipynb",
   "output_path": "__notebook__.ipynb",
   "parameters": {},
   "start_time": "2021-02-08T08:52:20.317340",
   "version": "2.2.2"
  }
 },
 "nbformat": 4,
 "nbformat_minor": 4
}
