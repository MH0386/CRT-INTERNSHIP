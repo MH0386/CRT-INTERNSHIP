{
 "cells": [
  {
   "cell_type": "code",
   "execution_count": 69,
   "metadata": {
    "ExecuteTime": {
     "end_time": "2023-07-22T16:49:51.278028900Z",
     "start_time": "2023-07-22T16:49:51.159449100Z"
    },
    "execution": {
     "iopub.execute_input": "2023-07-21T22:10:30.692464Z",
     "iopub.status.busy": "2023-07-21T22:10:30.688580Z",
     "iopub.status.idle": "2023-07-21T22:10:30.705859Z",
     "shell.execute_reply": "2023-07-21T22:10:30.704299Z",
     "shell.execute_reply.started": "2023-07-21T22:10:30.692394Z"
    },
    "papermill": {
     "duration": 12.169917,
     "end_time": "2021-02-08T08:52:40.750380",
     "exception": false,
     "start_time": "2021-02-08T08:52:28.580463",
     "status": "completed"
    },
    "tags": [],
    "trusted": true
   },
   "outputs": [],
   "source": [
    "import tensorflow as tf\n",
    "import numpy as np\n",
    "import polars as pl\n",
    "import matplotlib.pyplot as plt\n",
    "from sklearn.model_selection import train_test_split\n",
    "from tensorflow.keras.layers import TextVectorization\n",
    "import seaborn as sns"
   ]
  },
  {
   "cell_type": "code",
   "execution_count": 70,
   "metadata": {
    "ExecuteTime": {
     "end_time": "2023-07-22T16:49:51.423666400Z",
     "start_time": "2023-07-22T16:49:51.165453800Z"
    },
    "execution": {
     "iopub.execute_input": "2023-07-21T22:10:30.710058Z",
     "iopub.status.busy": "2023-07-21T22:10:30.709011Z",
     "iopub.status.idle": "2023-07-21T22:10:30.726753Z",
     "shell.execute_reply": "2023-07-21T22:10:30.725129Z",
     "shell.execute_reply.started": "2023-07-21T22:10:30.709997Z"
    },
    "papermill": {
     "duration": 0.088819,
     "end_time": "2021-02-08T08:52:40.856378",
     "exception": false,
     "start_time": "2021-02-08T08:52:40.767559",
     "status": "completed"
    },
    "tags": [],
    "trusted": true
   },
   "outputs": [],
   "source": [
    "data = pl.read_csv('SPAM text message 20170820 - Data.csv')"
   ]
  },
  {
   "cell_type": "code",
   "execution_count": 71,
   "metadata": {
    "ExecuteTime": {
     "end_time": "2023-07-22T16:49:51.458202500Z",
     "start_time": "2023-07-22T16:49:51.261486700Z"
    },
    "execution": {
     "iopub.execute_input": "2023-07-21T22:10:30.729677Z",
     "iopub.status.busy": "2023-07-21T22:10:30.729195Z",
     "iopub.status.idle": "2023-07-21T22:10:30.742943Z",
     "shell.execute_reply": "2023-07-21T22:10:30.741354Z",
     "shell.execute_reply.started": "2023-07-21T22:10:30.729637Z"
    },
    "papermill": {
     "duration": 0.071468,
     "end_time": "2021-02-08T08:52:40.955785",
     "exception": false,
     "start_time": "2021-02-08T08:52:40.884317",
     "status": "completed"
    },
    "tags": [],
    "trusted": true
   },
   "outputs": [
    {
     "data": {
      "text/html": [
       "<div><style>\n",
       ".dataframe > thead > tr > th,\n",
       ".dataframe > tbody > tr > td {\n",
       "  text-align: right;\n",
       "}\n",
       "</style>\n",
       "<small>shape: (5_572, 2)</small><table border=\"1\" class=\"dataframe\"><thead><tr><th>Category</th><th>Message</th></tr><tr><td>str</td><td>str</td></tr></thead><tbody><tr><td>&quot;ham&quot;</td><td>&quot;Go until juron…</td></tr><tr><td>&quot;ham&quot;</td><td>&quot;Ok lar... Joki…</td></tr><tr><td>&quot;spam&quot;</td><td>&quot;Free entry in …</td></tr><tr><td>&quot;ham&quot;</td><td>&quot;U dun say so e…</td></tr><tr><td>&quot;ham&quot;</td><td>&quot;Nah I don&#x27;t th…</td></tr><tr><td>&quot;spam&quot;</td><td>&quot;FreeMsg Hey th…</td></tr><tr><td>&quot;ham&quot;</td><td>&quot;Even my brothe…</td></tr><tr><td>&quot;ham&quot;</td><td>&quot;As per your re…</td></tr><tr><td>&quot;spam&quot;</td><td>&quot;WINNER!! As a …</td></tr><tr><td>&quot;spam&quot;</td><td>&quot;Had your mobil…</td></tr><tr><td>&quot;ham&quot;</td><td>&quot;I&#x27;m gonna be h…</td></tr><tr><td>&quot;spam&quot;</td><td>&quot;SIX chances to…</td></tr><tr><td>&hellip;</td><td>&hellip;</td></tr><tr><td>&quot;ham&quot;</td><td>&quot;Anything lor. …</td></tr><tr><td>&quot;ham&quot;</td><td>&quot;Get me out of …</td></tr><tr><td>&quot;ham&quot;</td><td>&quot;Ok lor... Sony…</td></tr><tr><td>&quot;ham&quot;</td><td>&quot;Ard 6 like dat…</td></tr><tr><td>&quot;ham&quot;</td><td>&quot;Why don&#x27;t you …</td></tr><tr><td>&quot;ham&quot;</td><td>&quot;Huh y lei...&quot;</td></tr><tr><td>&quot;spam&quot;</td><td>&quot;REMINDER FROM …</td></tr><tr><td>&quot;spam&quot;</td><td>&quot;This is the 2n…</td></tr><tr><td>&quot;ham&quot;</td><td>&quot;Will ü b going…</td></tr><tr><td>&quot;ham&quot;</td><td>&quot;Pity, * was in…</td></tr><tr><td>&quot;ham&quot;</td><td>&quot;The guy did so…</td></tr><tr><td>&quot;ham&quot;</td><td>&quot;Rofl. Its true…</td></tr></tbody></table></div>"
      ],
      "text/plain": [
       "shape: (5_572, 2)\n",
       "┌──────────┬───────────────────────────────────┐\n",
       "│ Category ┆ Message                           │\n",
       "│ ---      ┆ ---                               │\n",
       "│ str      ┆ str                               │\n",
       "╞══════════╪═══════════════════════════════════╡\n",
       "│ ham      ┆ Go until jurong point, crazy.. A… │\n",
       "│ ham      ┆ Ok lar... Joking wif u oni...     │\n",
       "│ spam     ┆ Free entry in 2 a wkly comp to w… │\n",
       "│ ham      ┆ U dun say so early hor... U c al… │\n",
       "│ …        ┆ …                                 │\n",
       "│ ham      ┆ Will ü b going to esplanade fr h… │\n",
       "│ ham      ┆ Pity, * was in mood for that. So… │\n",
       "│ ham      ┆ The guy did some bitching but I … │\n",
       "│ ham      ┆ Rofl. Its true to its name        │\n",
       "└──────────┴───────────────────────────────────┘"
      ]
     },
     "execution_count": 71,
     "metadata": {},
     "output_type": "execute_result"
    }
   ],
   "source": [
    "data"
   ]
  },
  {
   "cell_type": "code",
   "execution_count": 72,
   "metadata": {
    "ExecuteTime": {
     "end_time": "2023-07-22T16:49:51.459713400Z",
     "start_time": "2023-07-22T16:49:51.268487900Z"
    },
    "execution": {
     "iopub.execute_input": "2023-07-21T22:10:30.746633Z",
     "iopub.status.busy": "2023-07-21T22:10:30.746140Z",
     "iopub.status.idle": "2023-07-21T22:10:30.759819Z",
     "shell.execute_reply": "2023-07-21T22:10:30.758637Z",
     "shell.execute_reply.started": "2023-07-21T22:10:30.746582Z"
    },
    "papermill": {
     "duration": 0.106915,
     "end_time": "2021-02-08T08:52:41.080492",
     "exception": false,
     "start_time": "2021-02-08T08:52:40.973577",
     "status": "completed"
    },
    "tags": [],
    "trusted": true
   },
   "outputs": [
    {
     "data": {
      "text/html": [
       "<div><style>\n",
       ".dataframe > thead > tr > th,\n",
       ".dataframe > tbody > tr > td {\n",
       "  text-align: right;\n",
       "}\n",
       "</style>\n",
       "<small>shape: (2, 2)</small><table border=\"1\" class=\"dataframe\"><thead><tr><th>Category</th><th>count</th></tr><tr><td>str</td><td>u32</td></tr></thead><tbody><tr><td>&quot;spam&quot;</td><td>747</td></tr><tr><td>&quot;ham&quot;</td><td>4825</td></tr></tbody></table></div>"
      ],
      "text/plain": [
       "shape: (2, 2)\n",
       "┌──────────┬───────┐\n",
       "│ Category ┆ count │\n",
       "│ ---      ┆ ---   │\n",
       "│ str      ┆ u32   │\n",
       "╞══════════╪═══════╡\n",
       "│ spam     ┆ 747   │\n",
       "│ ham      ┆ 4825  │\n",
       "└──────────┴───────┘"
      ]
     },
     "execution_count": 72,
     "metadata": {},
     "output_type": "execute_result"
    }
   ],
   "source": [
    "data.groupby('Category').count()"
   ]
  },
  {
   "cell_type": "code",
   "execution_count": 73,
   "metadata": {
    "ExecuteTime": {
     "end_time": "2023-07-22T16:49:51.459713400Z",
     "start_time": "2023-07-22T16:49:51.305756400Z"
    },
    "execution": {
     "iopub.execute_input": "2023-07-21T22:10:30.762478Z",
     "iopub.status.busy": "2023-07-21T22:10:30.762020Z",
     "iopub.status.idle": "2023-07-21T22:10:30.773022Z",
     "shell.execute_reply": "2023-07-21T22:10:30.771809Z",
     "shell.execute_reply.started": "2023-07-21T22:10:30.762435Z"
    },
    "papermill": {
     "duration": 0.045957,
     "end_time": "2021-02-08T08:52:41.608830",
     "exception": false,
     "start_time": "2021-02-08T08:52:41.562873",
     "status": "completed"
    },
    "tags": [],
    "trusted": true
   },
   "outputs": [],
   "source": [
    "ham_msg = data.filter(pl.col('Category') == 'ham')\n",
    "spam_msg = data.filter(pl.col('Category') == 'spam')"
   ]
  },
  {
   "cell_type": "code",
   "execution_count": 74,
   "metadata": {
    "ExecuteTime": {
     "end_time": "2023-07-22T16:49:51.459713400Z",
     "start_time": "2023-07-22T16:49:51.324168Z"
    },
    "execution": {
     "iopub.execute_input": "2023-07-21T22:10:30.775678Z",
     "iopub.status.busy": "2023-07-21T22:10:30.775214Z",
     "iopub.status.idle": "2023-07-21T22:10:30.787353Z",
     "shell.execute_reply": "2023-07-21T22:10:30.786145Z",
     "shell.execute_reply.started": "2023-07-21T22:10:30.775637Z"
    },
    "papermill": {
     "duration": 0.044657,
     "end_time": "2021-02-08T08:52:41.684788",
     "exception": false,
     "start_time": "2021-02-08T08:52:41.640131",
     "status": "completed"
    },
    "tags": [],
    "trusted": true
   },
   "outputs": [],
   "source": [
    "#randomly taking data from ham_ msg\n",
    "ham_msg = ham_msg.sample(n=len(spam_msg))"
   ]
  },
  {
   "cell_type": "code",
   "execution_count": 75,
   "metadata": {
    "ExecuteTime": {
     "end_time": "2023-07-22T16:49:51.460727600Z",
     "start_time": "2023-07-22T16:49:51.329168600Z"
    },
    "execution": {
     "iopub.execute_input": "2023-07-21T22:10:30.791214Z",
     "iopub.status.busy": "2023-07-21T22:10:30.790459Z",
     "iopub.status.idle": "2023-07-21T22:10:30.802644Z",
     "shell.execute_reply": "2023-07-21T22:10:30.801502Z",
     "shell.execute_reply.started": "2023-07-21T22:10:30.791168Z"
    },
    "papermill": {
     "duration": 0.042903,
     "end_time": "2021-02-08T08:52:41.760274",
     "exception": false,
     "start_time": "2021-02-08T08:52:41.717371",
     "status": "completed"
    },
    "tags": [],
    "trusted": true
   },
   "outputs": [
    {
     "name": "stdout",
     "output_type": "stream",
     "text": [
      "(747, 2) (747, 2)\n"
     ]
    }
   ],
   "source": [
    "print(ham_msg.shape, spam_msg.shape)"
   ]
  },
  {
   "cell_type": "code",
   "execution_count": 76,
   "metadata": {
    "ExecuteTime": {
     "end_time": "2023-07-22T16:49:51.460727600Z",
     "start_time": "2023-07-22T16:49:51.338174700Z"
    },
    "collapsed": false,
    "execution": {
     "iopub.execute_input": "2023-07-21T22:10:30.805095Z",
     "iopub.status.busy": "2023-07-21T22:10:30.804387Z",
     "iopub.status.idle": "2023-07-21T22:10:30.821067Z",
     "shell.execute_reply": "2023-07-21T22:10:30.819755Z",
     "shell.execute_reply.started": "2023-07-21T22:10:30.805053Z"
    },
    "jupyter": {
     "outputs_hidden": false
    },
    "trusted": true
   },
   "outputs": [
    {
     "data": {
      "text/html": [
       "<div><style>\n",
       ".dataframe > thead > tr > th,\n",
       ".dataframe > tbody > tr > td {\n",
       "  text-align: right;\n",
       "}\n",
       "</style>\n",
       "<small>shape: (5_572, 2)</small><table border=\"1\" class=\"dataframe\"><thead><tr><th>Category</th><th>Message</th></tr><tr><td>str</td><td>str</td></tr></thead><tbody><tr><td>&quot;ham&quot;</td><td>&quot;Go until juron…</td></tr><tr><td>&quot;ham&quot;</td><td>&quot;Ok lar... Joki…</td></tr><tr><td>&quot;spam&quot;</td><td>&quot;Free entry in …</td></tr><tr><td>&quot;ham&quot;</td><td>&quot;U dun say so e…</td></tr><tr><td>&quot;ham&quot;</td><td>&quot;Nah I don&#x27;t th…</td></tr><tr><td>&quot;spam&quot;</td><td>&quot;FreeMsg Hey th…</td></tr><tr><td>&quot;ham&quot;</td><td>&quot;Even my brothe…</td></tr><tr><td>&quot;ham&quot;</td><td>&quot;As per your re…</td></tr><tr><td>&quot;spam&quot;</td><td>&quot;WINNER!! As a …</td></tr><tr><td>&quot;spam&quot;</td><td>&quot;Had your mobil…</td></tr><tr><td>&quot;ham&quot;</td><td>&quot;I&#x27;m gonna be h…</td></tr><tr><td>&quot;spam&quot;</td><td>&quot;SIX chances to…</td></tr><tr><td>&hellip;</td><td>&hellip;</td></tr><tr><td>&quot;ham&quot;</td><td>&quot;Anything lor. …</td></tr><tr><td>&quot;ham&quot;</td><td>&quot;Get me out of …</td></tr><tr><td>&quot;ham&quot;</td><td>&quot;Ok lor... Sony…</td></tr><tr><td>&quot;ham&quot;</td><td>&quot;Ard 6 like dat…</td></tr><tr><td>&quot;ham&quot;</td><td>&quot;Why don&#x27;t you …</td></tr><tr><td>&quot;ham&quot;</td><td>&quot;Huh y lei...&quot;</td></tr><tr><td>&quot;spam&quot;</td><td>&quot;REMINDER FROM …</td></tr><tr><td>&quot;spam&quot;</td><td>&quot;This is the 2n…</td></tr><tr><td>&quot;ham&quot;</td><td>&quot;Will ü b going…</td></tr><tr><td>&quot;ham&quot;</td><td>&quot;Pity, * was in…</td></tr><tr><td>&quot;ham&quot;</td><td>&quot;The guy did so…</td></tr><tr><td>&quot;ham&quot;</td><td>&quot;Rofl. Its true…</td></tr></tbody></table></div>"
      ],
      "text/plain": [
       "shape: (5_572, 2)\n",
       "┌──────────┬───────────────────────────────────┐\n",
       "│ Category ┆ Message                           │\n",
       "│ ---      ┆ ---                               │\n",
       "│ str      ┆ str                               │\n",
       "╞══════════╪═══════════════════════════════════╡\n",
       "│ ham      ┆ Go until jurong point, crazy.. A… │\n",
       "│ ham      ┆ Ok lar... Joking wif u oni...     │\n",
       "│ spam     ┆ Free entry in 2 a wkly comp to w… │\n",
       "│ ham      ┆ U dun say so early hor... U c al… │\n",
       "│ …        ┆ …                                 │\n",
       "│ ham      ┆ Will ü b going to esplanade fr h… │\n",
       "│ ham      ┆ Pity, * was in mood for that. So… │\n",
       "│ ham      ┆ The guy did some bitching but I … │\n",
       "│ ham      ┆ Rofl. Its true to its name        │\n",
       "└──────────┴───────────────────────────────────┘"
      ]
     },
     "execution_count": 76,
     "metadata": {},
     "output_type": "execute_result"
    }
   ],
   "source": [
    "data"
   ]
  },
  {
   "cell_type": "code",
   "execution_count": 77,
   "metadata": {
    "ExecuteTime": {
     "end_time": "2023-07-22T16:49:51.461727Z",
     "start_time": "2023-07-22T16:49:51.350345600Z"
    },
    "collapsed": false,
    "execution": {
     "iopub.execute_input": "2023-07-21T22:10:30.823899Z",
     "iopub.status.busy": "2023-07-21T22:10:30.823354Z",
     "iopub.status.idle": "2023-07-21T22:10:30.833783Z",
     "shell.execute_reply": "2023-07-21T22:10:30.831790Z",
     "shell.execute_reply.started": "2023-07-21T22:10:30.823851Z"
    },
    "jupyter": {
     "outputs_hidden": false
    },
    "trusted": true
   },
   "outputs": [],
   "source": [
    "balanced_data = ham_msg.vstack(spam_msg)\n",
    "balanced_data = balanced_data.with_columns(\n",
    "    pl.when(pl.col(\"Category\") == 'spam').then(1).otherwise(0).alias('Category')\n",
    ")"
   ]
  },
  {
   "cell_type": "code",
   "execution_count": 78,
   "metadata": {
    "ExecuteTime": {
     "end_time": "2023-07-22T16:49:51.461727Z",
     "start_time": "2023-07-22T16:49:51.365348200Z"
    },
    "collapsed": false,
    "execution": {
     "iopub.execute_input": "2023-07-21T22:10:30.838694Z",
     "iopub.status.busy": "2023-07-21T22:10:30.838211Z",
     "iopub.status.idle": "2023-07-21T22:10:30.853491Z",
     "shell.execute_reply": "2023-07-21T22:10:30.851637Z",
     "shell.execute_reply.started": "2023-07-21T22:10:30.838655Z"
    },
    "jupyter": {
     "outputs_hidden": false
    },
    "trusted": true
   },
   "outputs": [
    {
     "data": {
      "text/html": [
       "<div><style>\n",
       ".dataframe > thead > tr > th,\n",
       ".dataframe > tbody > tr > td {\n",
       "  text-align: right;\n",
       "}\n",
       "</style>\n",
       "<small>shape: (1_494, 2)</small><table border=\"1\" class=\"dataframe\"><thead><tr><th>Category</th><th>Message</th></tr><tr><td>i32</td><td>str</td></tr></thead><tbody><tr><td>0</td><td>&quot;Or u ask they …</td></tr><tr><td>0</td><td>&quot;Ok lar... Joki…</td></tr><tr><td>0</td><td>&quot;I&#x27;m fine. Hope…</td></tr><tr><td>0</td><td>&quot;In the end she…</td></tr><tr><td>0</td><td>&quot;HARD BUT TRUE:…</td></tr><tr><td>0</td><td>&quot;As per your re…</td></tr><tr><td>0</td><td>&quot;MY NEW YEARS E…</td></tr><tr><td>0</td><td>&quot;Erm. I thought…</td></tr><tr><td>0</td><td>&quot;Honey ? Sweeth…</td></tr><tr><td>0</td><td>&quot;Tell my  bad c…</td></tr><tr><td>0</td><td>&quot;Did you show h…</td></tr><tr><td>0</td><td>&quot;No da. . Vijay…</td></tr><tr><td>&hellip;</td><td>&hellip;</td></tr><tr><td>1</td><td>&quot;URGENT We are …</td></tr><tr><td>1</td><td>&quot;2p per min to …</td></tr><tr><td>1</td><td>&quot;Marvel Mobile …</td></tr><tr><td>1</td><td>&quot;SMS SERVICES. …</td></tr><tr><td>1</td><td>&quot;PRIVATE! Your …</td></tr><tr><td>1</td><td>&quot;You are awarde…</td></tr><tr><td>1</td><td>&quot;PRIVATE! Your …</td></tr><tr><td>1</td><td>&quot;Want explicit …</td></tr><tr><td>1</td><td>&quot;ASKED 3MOBILE …</td></tr><tr><td>1</td><td>&quot;Had your contr…</td></tr><tr><td>1</td><td>&quot;REMINDER FROM …</td></tr><tr><td>1</td><td>&quot;This is the 2n…</td></tr></tbody></table></div>"
      ],
      "text/plain": [
       "shape: (1_494, 2)\n",
       "┌──────────┬───────────────────────────────────┐\n",
       "│ Category ┆ Message                           │\n",
       "│ ---      ┆ ---                               │\n",
       "│ i32      ┆ str                               │\n",
       "╞══════════╪═══════════════════════════════════╡\n",
       "│ 0        ┆ Or u ask they all if next sat ca… │\n",
       "│ 0        ┆ Ok lar... Joking wif u oni...     │\n",
       "│ 0        ┆ I'm fine. Hope you are also       │\n",
       "│ 0        ┆ In the end she might still vomit… │\n",
       "│ …        ┆ …                                 │\n",
       "│ 1        ┆ ASKED 3MOBILE IF 0870 CHATLINES … │\n",
       "│ 1        ┆ Had your contract mobile 11 Mnth… │\n",
       "│ 1        ┆ REMINDER FROM O2: To get 2.50 po… │\n",
       "│ 1        ┆ This is the 2nd time we have tri… │\n",
       "└──────────┴───────────────────────────────────┘"
      ]
     },
     "execution_count": 78,
     "metadata": {},
     "output_type": "execute_result"
    }
   ],
   "source": [
    "balanced_data"
   ]
  },
  {
   "cell_type": "code",
   "execution_count": 79,
   "metadata": {
    "ExecuteTime": {
     "end_time": "2023-07-22T16:55:12.355733900Z",
     "start_time": "2023-07-22T16:55:12.294705800Z"
    },
    "execution": {
     "iopub.execute_input": "2023-07-21T22:10:30.856172Z",
     "iopub.status.busy": "2023-07-21T22:10:30.855759Z",
     "iopub.status.idle": "2023-07-21T22:10:30.869575Z",
     "shell.execute_reply": "2023-07-21T22:10:30.867719Z",
     "shell.execute_reply.started": "2023-07-21T22:10:30.856138Z"
    },
    "papermill": {
     "duration": 0.037443,
     "end_time": "2021-02-08T08:52:42.184497",
     "exception": false,
     "start_time": "2021-02-08T08:52:42.147054",
     "status": "completed"
    },
    "tags": [],
    "trusted": true
   },
   "outputs": [],
   "source": [
    "X_train, X_test, Y_train, Y_test = train_test_split(\n",
    "    balanced_data['Message'], \n",
    "    balanced_data['Category'],\n",
    "    test_size=0.2,\n",
    "    random_state=42\n",
    ")"
   ]
  },
  {
   "cell_type": "code",
   "execution_count": 80,
   "metadata": {
    "ExecuteTime": {
     "end_time": "2023-07-22T16:58:09.582366300Z",
     "start_time": "2023-07-22T16:58:09.517374300Z"
    },
    "collapsed": false
   },
   "outputs": [
    {
     "data": {
      "text/plain": [
       "array(['Good words.... But words may leave u in dismay many times.',\n",
       "       'Mm yes dear look how i am hugging you both. :-P',\n",
       "       'Hello darling how are you today? I would love to have a chat, why dont you tell me what you look like and what you are in to sexy?',\n",
       "       ...,\n",
       "       'You have an important customer service announcement from PREMIER. Call FREEPHONE 0800 542 0578 now!',\n",
       "       'URGENT! Your Mobile number has been awarded with a £2000 prize GUARANTEED. Call 09061790126 from land line. Claim 3030. Valid 12hrs only 150ppm',\n",
       "       'How come it takes so little time for a child who is afraid of the dark to become a teenager who wants to stay out all night?'],\n",
       "      dtype=object)"
      ]
     },
     "execution_count": 80,
     "metadata": {},
     "output_type": "execute_result"
    }
   ],
   "source": [
    "X_train = np.array(X_train, dtype=np.chararray)\n",
    "X_test = np.array(X_test, dtype=np.chararray)\n",
    "X_train"
   ]
  },
  {
   "cell_type": "code",
   "execution_count": 81,
   "metadata": {
    "ExecuteTime": {
     "end_time": "2023-07-22T16:58:12.024765900Z",
     "start_time": "2023-07-22T16:58:11.996677200Z"
    },
    "execution": {
     "iopub.execute_input": "2023-07-21T22:10:30.873464Z",
     "iopub.status.busy": "2023-07-21T22:10:30.872588Z",
     "iopub.status.idle": "2023-07-21T22:10:31.008908Z",
     "shell.execute_reply": "2023-07-21T22:10:31.007097Z",
     "shell.execute_reply.started": "2023-07-21T22:10:30.873406Z"
    },
    "trusted": true
   },
   "outputs": [
    {
     "data": {
      "text/plain": [
       "<tf.Tensor: shape=(1195, 910), dtype=int64, numpy=\n",
       "array([[  93,  942,   53, ...,    0,    0,    0],\n",
       "       [1459,  156,  106, ...,    0,    0,    0],\n",
       "       [ 520, 1118,   95, ...,    0,    0,    0],\n",
       "       ...,\n",
       "       [   4,   15,  145, ...,    0,    0,    0],\n",
       "       [  74,    8,   36, ...,    0,    0,    0],\n",
       "       [  95,  111,   28, ...,    0,    0,    0]])>"
      ]
     },
     "execution_count": 81,
     "metadata": {},
     "output_type": "execute_result"
    }
   ],
   "source": [
    "max_features = 5000  # Maximum vocab size.\n",
    "max_len = max([len(message) for message in balanced_data['Message']])  # Sequence length to pad the outputs to.\n",
    "\n",
    "# Create the layer.\n",
    "vectorize_layer = tf.keras.layers.TextVectorization(\n",
    "    max_tokens=max_features,\n",
    "    output_mode='int',\n",
    "    output_sequence_length=max_len\n",
    ")\n",
    "vectorize_layer.adapt(X_test)\n",
    "vectorizd_X_test = vectorize_layer(X_test)\n",
    "\n",
    "vectorize_layer.adapt(X_train)\n",
    "vectorizd_X_train = vectorize_layer(X_train)"
   ]
  },
  {
   "cell_type": "code",
   "execution_count": 82,
   "metadata": {},
   "outputs": [],
   "source": [
    "Y_train = np.array(Y_train, dtype=np.int64)\n",
    "Y_test = np.array(Y_test, dtype=np.int64)"
   ]
  },
  {
   "cell_type": "code",
   "execution_count": 83,
   "metadata": {
    "ExecuteTime": {
     "end_time": "2023-07-22T16:58:45.603911900Z",
     "start_time": "2023-07-22T16:58:45.463562800Z"
    },
    "execution": {
     "iopub.execute_input": "2023-07-21T22:10:31.142429Z",
     "iopub.status.busy": "2023-07-21T22:10:31.141861Z",
     "iopub.status.idle": "2023-07-21T22:10:31.211471Z",
     "shell.execute_reply": "2023-07-21T22:10:31.209952Z",
     "shell.execute_reply.started": "2023-07-21T22:10:31.142394Z"
    },
    "papermill": {
     "duration": 0.207504,
     "end_time": "2021-02-08T08:52:42.884963",
     "exception": false,
     "start_time": "2021-02-08T08:52:42.677459",
     "status": "completed"
    },
    "tags": [],
    "trusted": true
   },
   "outputs": [],
   "source": [
    "#model\n",
    "model = tf.keras.models.Sequential(\n",
    "    [\n",
    "        tf.keras.layers.Dense(\n",
    "            64, \n",
    "            activation='relu', \n",
    "            input_shape=(max_len,),\n",
    "            kernel_regularizer=tf.keras.regularizers.L1(),\n",
    "            bias_regularizer=tf.keras.regularizers.L1()\n",
    "            ),\n",
    "        tf.keras.layers.Dense(\n",
    "            64, \n",
    "            activation='relu',\n",
    "            kernel_regularizer=tf.keras.regularizers.L1(),\n",
    "            bias_regularizer=tf.keras.regularizers.L1()\n",
    "            ),\n",
    "        tf.keras.layers.Dense(\n",
    "            64, \n",
    "            activation='relu',\n",
    "            kernel_regularizer=tf.keras.regularizers.L1(),\n",
    "            bias_regularizer=tf.keras.regularizers.L1()\n",
    "            ),\n",
    "        tf.keras.layers.Dense(\n",
    "            2,\n",
    "            activation='softmax'\n",
    "            )\n",
    "    ]\n",
    ")"
   ]
  },
  {
   "cell_type": "code",
   "execution_count": 84,
   "metadata": {
    "ExecuteTime": {
     "end_time": "2023-07-22T16:58:45.621372400Z",
     "start_time": "2023-07-22T16:58:45.533566600Z"
    },
    "execution": {
     "iopub.execute_input": "2023-07-21T22:10:31.214132Z",
     "iopub.status.busy": "2023-07-21T22:10:31.213282Z",
     "iopub.status.idle": "2023-07-21T22:10:31.232538Z",
     "shell.execute_reply": "2023-07-21T22:10:31.230979Z",
     "shell.execute_reply.started": "2023-07-21T22:10:31.214084Z"
    },
    "papermill": {
     "duration": 0.064816,
     "end_time": "2021-02-08T08:52:42.990022",
     "exception": false,
     "start_time": "2021-02-08T08:52:42.925206",
     "status": "completed"
    },
    "tags": [],
    "trusted": true
   },
   "outputs": [],
   "source": [
    "model.compile(\n",
    "    loss=tf.keras.losses.SparseCategoricalCrossentropy(),\n",
    "    metrics=[tf.keras.metrics.Accuracy()],\n",
    "    optimizer = tf.keras.optimizers.Adam()\n",
    ")"
   ]
  },
  {
   "cell_type": "code",
   "execution_count": 85,
   "metadata": {
    "ExecuteTime": {
     "end_time": "2023-07-22T16:58:57.924788300Z",
     "start_time": "2023-07-22T16:58:57.847980300Z"
    },
    "collapsed": false
   },
   "outputs": [
    {
     "name": "stdout",
     "output_type": "stream",
     "text": [
      "Epoch 1/100\n"
     ]
    },
    {
     "ename": "ValueError",
     "evalue": "in user code:\n\n    File \"/home/mohamed/anaconda3/lib/python3.11/site-packages/keras/src/engine/training.py\", line 1338, in train_function  *\n        return step_function(self, iterator)\n    File \"/home/mohamed/anaconda3/lib/python3.11/site-packages/keras/src/engine/training.py\", line 1322, in step_function  **\n        outputs = model.distribute_strategy.run(run_step, args=(data,))\n    File \"/home/mohamed/anaconda3/lib/python3.11/site-packages/keras/src/engine/training.py\", line 1303, in run_step  **\n        outputs = model.train_step(data)\n    File \"/home/mohamed/anaconda3/lib/python3.11/site-packages/keras/src/engine/training.py\", line 1085, in train_step\n        return self.compute_metrics(x, y, y_pred, sample_weight)\n    File \"/home/mohamed/anaconda3/lib/python3.11/site-packages/keras/src/engine/training.py\", line 1179, in compute_metrics\n        self.compiled_metrics.update_state(y, y_pred, sample_weight)\n    File \"/home/mohamed/anaconda3/lib/python3.11/site-packages/keras/src/engine/compile_utils.py\", line 605, in update_state\n        metric_obj.update_state(y_t, y_p, sample_weight=mask)\n    File \"/home/mohamed/anaconda3/lib/python3.11/site-packages/keras/src/utils/metrics_utils.py\", line 77, in decorated\n        update_op = update_state_fn(*args, **kwargs)\n    File \"/home/mohamed/anaconda3/lib/python3.11/site-packages/keras/src/metrics/base_metric.py\", line 140, in update_state_fn\n        return ag_update_state(*args, **kwargs)\n    File \"/home/mohamed/anaconda3/lib/python3.11/site-packages/keras/src/metrics/base_metric.py\", line 723, in update_state  **\n        matches = ag_fn(y_true, y_pred, **self._fn_kwargs)\n    File \"/home/mohamed/anaconda3/lib/python3.11/site-packages/keras/src/metrics/accuracy_metrics.py\", line 361, in accuracy  **\n        y_true.shape.assert_is_compatible_with(y_pred.shape)\n\n    ValueError: Shapes (None, 1) and (None, 2) are incompatible\n",
     "output_type": "error",
     "traceback": [
      "\u001b[0;31m---------------------------------------------------------------------------\u001b[0m",
      "\u001b[0;31mValueError\u001b[0m                                Traceback (most recent call last)",
      "Cell \u001b[0;32mIn[85], line 1\u001b[0m\n\u001b[0;32m----> 1\u001b[0m history \u001b[39m=\u001b[39m model\u001b[39m.\u001b[39mfit(\n\u001b[1;32m      2\u001b[0m     vectorizd_X_train,\n\u001b[1;32m      3\u001b[0m     Y_train,\n\u001b[1;32m      4\u001b[0m     epochs\u001b[39m=\u001b[39m\u001b[39m100\u001b[39m,\n\u001b[1;32m      5\u001b[0m )\n",
      "File \u001b[0;32m~/anaconda3/lib/python3.11/site-packages/keras/src/utils/traceback_utils.py:70\u001b[0m, in \u001b[0;36mfilter_traceback.<locals>.error_handler\u001b[0;34m(*args, **kwargs)\u001b[0m\n\u001b[1;32m     67\u001b[0m     filtered_tb \u001b[39m=\u001b[39m _process_traceback_frames(e\u001b[39m.\u001b[39m__traceback__)\n\u001b[1;32m     68\u001b[0m     \u001b[39m# To get the full stack trace, call:\u001b[39;00m\n\u001b[1;32m     69\u001b[0m     \u001b[39m# `tf.debugging.disable_traceback_filtering()`\u001b[39;00m\n\u001b[0;32m---> 70\u001b[0m     \u001b[39mraise\u001b[39;00m e\u001b[39m.\u001b[39mwith_traceback(filtered_tb) \u001b[39mfrom\u001b[39;00m \u001b[39mNone\u001b[39;00m\n\u001b[1;32m     71\u001b[0m \u001b[39mfinally\u001b[39;00m:\n\u001b[1;32m     72\u001b[0m     \u001b[39mdel\u001b[39;00m filtered_tb\n",
      "File \u001b[0;32m/tmp/__autograph_generated_file54x_1g4w.py:15\u001b[0m, in \u001b[0;36mouter_factory.<locals>.inner_factory.<locals>.tf__train_function\u001b[0;34m(iterator)\u001b[0m\n\u001b[1;32m     13\u001b[0m \u001b[39mtry\u001b[39;00m:\n\u001b[1;32m     14\u001b[0m     do_return \u001b[39m=\u001b[39m \u001b[39mTrue\u001b[39;00m\n\u001b[0;32m---> 15\u001b[0m     retval_ \u001b[39m=\u001b[39m ag__\u001b[39m.\u001b[39mconverted_call(ag__\u001b[39m.\u001b[39mld(step_function), (ag__\u001b[39m.\u001b[39mld(\u001b[39mself\u001b[39m), ag__\u001b[39m.\u001b[39mld(iterator)), \u001b[39mNone\u001b[39;00m, fscope)\n\u001b[1;32m     16\u001b[0m \u001b[39mexcept\u001b[39;00m:\n\u001b[1;32m     17\u001b[0m     do_return \u001b[39m=\u001b[39m \u001b[39mFalse\u001b[39;00m\n",
      "\u001b[0;31mValueError\u001b[0m: in user code:\n\n    File \"/home/mohamed/anaconda3/lib/python3.11/site-packages/keras/src/engine/training.py\", line 1338, in train_function  *\n        return step_function(self, iterator)\n    File \"/home/mohamed/anaconda3/lib/python3.11/site-packages/keras/src/engine/training.py\", line 1322, in step_function  **\n        outputs = model.distribute_strategy.run(run_step, args=(data,))\n    File \"/home/mohamed/anaconda3/lib/python3.11/site-packages/keras/src/engine/training.py\", line 1303, in run_step  **\n        outputs = model.train_step(data)\n    File \"/home/mohamed/anaconda3/lib/python3.11/site-packages/keras/src/engine/training.py\", line 1085, in train_step\n        return self.compute_metrics(x, y, y_pred, sample_weight)\n    File \"/home/mohamed/anaconda3/lib/python3.11/site-packages/keras/src/engine/training.py\", line 1179, in compute_metrics\n        self.compiled_metrics.update_state(y, y_pred, sample_weight)\n    File \"/home/mohamed/anaconda3/lib/python3.11/site-packages/keras/src/engine/compile_utils.py\", line 605, in update_state\n        metric_obj.update_state(y_t, y_p, sample_weight=mask)\n    File \"/home/mohamed/anaconda3/lib/python3.11/site-packages/keras/src/utils/metrics_utils.py\", line 77, in decorated\n        update_op = update_state_fn(*args, **kwargs)\n    File \"/home/mohamed/anaconda3/lib/python3.11/site-packages/keras/src/metrics/base_metric.py\", line 140, in update_state_fn\n        return ag_update_state(*args, **kwargs)\n    File \"/home/mohamed/anaconda3/lib/python3.11/site-packages/keras/src/metrics/base_metric.py\", line 723, in update_state  **\n        matches = ag_fn(y_true, y_pred, **self._fn_kwargs)\n    File \"/home/mohamed/anaconda3/lib/python3.11/site-packages/keras/src/metrics/accuracy_metrics.py\", line 361, in accuracy  **\n        y_true.shape.assert_is_compatible_with(y_pred.shape)\n\n    ValueError: Shapes (None, 1) and (None, 2) are incompatible\n"
     ]
    }
   ],
   "source": [
    "history = model.fit(\n",
    "    vectorizd_X_train,\n",
    "    Y_train,\n",
    "    epochs=100,\n",
    ")"
   ]
  },
  {
   "cell_type": "code",
   "execution_count": null,
   "metadata": {
    "execution": {
     "iopub.status.busy": "2023-07-21T22:10:31.398905Z",
     "iopub.status.idle": "2023-07-21T22:10:31.399369Z",
     "shell.execute_reply": "2023-07-21T22:10:31.399153Z",
     "shell.execute_reply.started": "2023-07-21T22:10:31.399133Z"
    },
    "papermill": {
     "duration": 0.134887,
     "end_time": "2021-02-08T08:52:49.954736",
     "exception": false,
     "start_time": "2021-02-08T08:52:49.819849",
     "status": "completed"
    },
    "tags": [],
    "trusted": true
   },
   "outputs": [
    {
     "name": "stdout",
     "output_type": "stream",
     "text": [
      "10/10 [==============================] - 0s 5ms/step - loss: 2.1979 - accuracy: 0.0000e+00\n"
     ]
    },
    {
     "data": {
      "text/plain": [
       "[2.1979026794433594, 0.0]"
      ]
     },
     "execution_count": 61,
     "metadata": {},
     "output_type": "execute_result"
    }
   ],
   "source": [
    "model.evaluate(\n",
    "    vectorizd_X_test,\n",
    "    Y_test\n",
    ")"
   ]
  },
  {
   "cell_type": "code",
   "execution_count": null,
   "metadata": {
    "execution": {
     "iopub.status.busy": "2023-07-21T22:10:31.401332Z",
     "iopub.status.idle": "2023-07-21T22:10:31.402119Z",
     "shell.execute_reply": "2023-07-21T22:10:31.401753Z",
     "shell.execute_reply.started": "2023-07-21T22:10:31.401723Z"
    },
    "papermill": {
     "duration": 0.228343,
     "end_time": "2021-02-08T08:52:50.233981",
     "exception": false,
     "start_time": "2021-02-08T08:52:50.005638",
     "status": "completed"
    },
    "tags": [],
    "trusted": true
   },
   "outputs": [
    {
     "data": {
      "text/plain": [
       "Text(0.5, 0, 'epoch')"
      ]
     },
     "execution_count": 62,
     "metadata": {},
     "output_type": "execute_result"
    },
    {
     "data": {
      "image/png": "[encoded data removed]",
      "text/plain": [
       "<Figure size 640x480 with 1 Axes>"
      ]
     },
     "metadata": {},
     "output_type": "display_data"
    }
   ],
   "source": [
    "plt.plot(history.history['accuracy'])\n",
    "plt.title('model accuracy')\n",
    "plt.ylabel('accuracy')\n",
    "plt.xlabel('epoch')"
   ]
  },
  {
   "cell_type": "code",
   "execution_count": null,
   "metadata": {
    "execution": {
     "iopub.status.busy": "2023-07-21T22:10:31.404331Z",
     "iopub.status.idle": "2023-07-21T22:10:31.404925Z",
     "shell.execute_reply": "2023-07-21T22:10:31.404653Z",
     "shell.execute_reply.started": "2023-07-21T22:10:31.404625Z"
    },
    "papermill": {
     "duration": 0.060302,
     "end_time": "2021-02-08T08:52:50.344966",
     "exception": false,
     "start_time": "2021-02-08T08:52:50.284664",
     "status": "completed"
    },
    "tags": [],
    "trusted": true
   },
   "outputs": [],
   "source": [
    "predict_msg = [\n",
    "    \"Go until jurong point, crazy.. Available only in bugis n great world la e buffet... Cine there got amore wat...\",\n",
    "    \"Ok lar... Joking wif u oni...\",\n",
    "    \"Free entry in 2 a wkly comp to win FA Cup final tkts 21st May 2005. Text FA to 87121 to receive entry question(std txt rate)T&C's apply 08452810075over18's\"]"
   ]
  },
  {
   "cell_type": "code",
   "execution_count": null,
   "metadata": {
    "execution": {
     "iopub.status.busy": "2023-07-21T22:10:31.407782Z",
     "iopub.status.idle": "2023-07-21T22:10:31.408369Z",
     "shell.execute_reply": "2023-07-21T22:10:31.408108Z",
     "shell.execute_reply.started": "2023-07-21T22:10:31.408081Z"
    },
    "papermill": {
     "duration": 0.18574,
     "end_time": "2021-02-08T08:52:50.578092",
     "exception": false,
     "start_time": "2021-02-08T08:52:50.392352",
     "status": "completed"
    },
    "tags": [],
    "trusted": true
   },
   "outputs": [
    {
     "name": "stdout",
     "output_type": "stream",
     "text": [
      "1/1 [==============================] - 0s 107ms/step\n"
     ]
    },
    {
     "data": {
      "text/plain": [
       "array([[0.3812535 ],\n",
       "       [0.3669098 ],\n",
       "       [0.39351216]], dtype=float32)"
      ]
     },
     "execution_count": 64,
     "metadata": {},
     "output_type": "execute_result"
    }
   ],
   "source": [
    "vectorize_layer.adapt(predict_msg)\n",
    "vectorizd_predict_msg = vectorize_layer(predict_msg)\n",
    "\n",
    "model.predict(vectorizd_predict_msg)"
   ]
  }
 ],
 "metadata": {
  "kernelspec": {
   "display_name": "Python 3",
   "language": "python",
   "name": "python3"
  },
  "language_info": {
   "codemirror_mode": {
    "name": "ipython",
    "version": 3
   },
   "file_extension": ".py",
   "mimetype": "text/x-python",
   "name": "python",
   "nbconvert_exporter": "python",
   "pygments_lexer": "ipython3",
   "version": "3.10.12"
  },
  "papermill": {
   "default_parameters": {},
   "duration": 32.053119,
   "end_time": "2021-02-08T08:52:52.370459",
   "environment_variables": {},
   "exception": null,
   "input_path": "__notebook__.ipynb",
   "output_path": "__notebook__.ipynb",
   "parameters": {},
   "start_time": "2021-02-08T08:52:20.317340",
   "version": "2.2.2"
  }
 },
 "nbformat": 4,
 "nbformat_minor": 4
}
