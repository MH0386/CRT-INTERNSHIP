{
 "cells": [
  {
   "cell_type": "code",
   "execution_count": 301,
   "metadata": {
    "ExecuteTime": {
     "end_time": "2023-07-22T16:49:51.278028900Z",
     "start_time": "2023-07-22T16:49:51.159449100Z"
    },
    "execution": {
     "iopub.execute_input": "2023-07-21T22:10:30.692464Z",
     "iopub.status.busy": "2023-07-21T22:10:30.688580Z",
     "iopub.status.idle": "2023-07-21T22:10:30.705859Z",
     "shell.execute_reply": "2023-07-21T22:10:30.704299Z",
     "shell.execute_reply.started": "2023-07-21T22:10:30.692394Z"
    },
    "papermill": {
     "duration": 12.169917,
     "end_time": "2021-02-08T08:52:40.750380",
     "exception": false,
     "start_time": "2021-02-08T08:52:28.580463",
     "status": "completed"
    },
    "tags": [],
    "trusted": true
   },
   "outputs": [],
   "source": [
    "import tensorflow as tf\n",
    "import numpy as np\n",
    "import pandas as pd\n",
    "import polars as pl\n",
    "import matplotlib.pyplot as plt\n",
    "from sklearn.model_selection import train_test_split\n",
    "from tensorflow.keras.preprocessing.text import Tokenizer\n",
    "from tensorflow.keras.preprocessing.sequence import pad_sequences\n",
    "from tensorflow.keras.layers import TextVectorization\n",
    "import seaborn as sns"
   ]
  },
  {
   "cell_type": "code",
   "execution_count": 302,
   "metadata": {
    "ExecuteTime": {
     "end_time": "2023-07-22T16:49:51.423666400Z",
     "start_time": "2023-07-22T16:49:51.165453800Z"
    },
    "execution": {
     "iopub.execute_input": "2023-07-21T22:10:30.710058Z",
     "iopub.status.busy": "2023-07-21T22:10:30.709011Z",
     "iopub.status.idle": "2023-07-21T22:10:30.726753Z",
     "shell.execute_reply": "2023-07-21T22:10:30.725129Z",
     "shell.execute_reply.started": "2023-07-21T22:10:30.709997Z"
    },
    "papermill": {
     "duration": 0.088819,
     "end_time": "2021-02-08T08:52:40.856378",
     "exception": false,
     "start_time": "2021-02-08T08:52:40.767559",
     "status": "completed"
    },
    "tags": [],
    "trusted": true
   },
   "outputs": [],
   "source": [
    "data = pl.read_csv('SPAM text message 20170820 - Data.csv')"
   ]
  },
  {
   "cell_type": "code",
   "execution_count": 303,
   "metadata": {
    "ExecuteTime": {
     "end_time": "2023-07-22T16:49:51.458202500Z",
     "start_time": "2023-07-22T16:49:51.261486700Z"
    },
    "execution": {
     "iopub.execute_input": "2023-07-21T22:10:30.729677Z",
     "iopub.status.busy": "2023-07-21T22:10:30.729195Z",
     "iopub.status.idle": "2023-07-21T22:10:30.742943Z",
     "shell.execute_reply": "2023-07-21T22:10:30.741354Z",
     "shell.execute_reply.started": "2023-07-21T22:10:30.729637Z"
    },
    "papermill": {
     "duration": 0.071468,
     "end_time": "2021-02-08T08:52:40.955785",
     "exception": false,
     "start_time": "2021-02-08T08:52:40.884317",
     "status": "completed"
    },
    "tags": [],
    "trusted": true
   },
   "outputs": [
    {
     "data": {
      "text/html": [
       "<div><style>\n",
       ".dataframe > thead > tr > th,\n",
       ".dataframe > tbody > tr > td {\n",
       "  text-align: right;\n",
       "}\n",
       "</style>\n",
       "<small>shape: (5_572, 2)</small><table border=\"1\" class=\"dataframe\"><thead><tr><th>Category</th><th>Message</th></tr><tr><td>str</td><td>str</td></tr></thead><tbody><tr><td>&quot;ham&quot;</td><td>&quot;Go until juron…</td></tr><tr><td>&quot;ham&quot;</td><td>&quot;Ok lar... Joki…</td></tr><tr><td>&quot;spam&quot;</td><td>&quot;Free entry in …</td></tr><tr><td>&quot;ham&quot;</td><td>&quot;U dun say so e…</td></tr><tr><td>&quot;ham&quot;</td><td>&quot;Nah I don&#x27;t th…</td></tr><tr><td>&quot;spam&quot;</td><td>&quot;FreeMsg Hey th…</td></tr><tr><td>&quot;ham&quot;</td><td>&quot;Even my brothe…</td></tr><tr><td>&quot;ham&quot;</td><td>&quot;As per your re…</td></tr><tr><td>&quot;spam&quot;</td><td>&quot;WINNER!! As a …</td></tr><tr><td>&quot;spam&quot;</td><td>&quot;Had your mobil…</td></tr><tr><td>&quot;ham&quot;</td><td>&quot;I&#x27;m gonna be h…</td></tr><tr><td>&quot;spam&quot;</td><td>&quot;SIX chances to…</td></tr><tr><td>&hellip;</td><td>&hellip;</td></tr><tr><td>&quot;ham&quot;</td><td>&quot;Anything lor. …</td></tr><tr><td>&quot;ham&quot;</td><td>&quot;Get me out of …</td></tr><tr><td>&quot;ham&quot;</td><td>&quot;Ok lor... Sony…</td></tr><tr><td>&quot;ham&quot;</td><td>&quot;Ard 6 like dat…</td></tr><tr><td>&quot;ham&quot;</td><td>&quot;Why don&#x27;t you …</td></tr><tr><td>&quot;ham&quot;</td><td>&quot;Huh y lei...&quot;</td></tr><tr><td>&quot;spam&quot;</td><td>&quot;REMINDER FROM …</td></tr><tr><td>&quot;spam&quot;</td><td>&quot;This is the 2n…</td></tr><tr><td>&quot;ham&quot;</td><td>&quot;Will ü b going…</td></tr><tr><td>&quot;ham&quot;</td><td>&quot;Pity, * was in…</td></tr><tr><td>&quot;ham&quot;</td><td>&quot;The guy did so…</td></tr><tr><td>&quot;ham&quot;</td><td>&quot;Rofl. Its true…</td></tr></tbody></table></div>"
      ],
      "text/plain": [
       "shape: (5_572, 2)\n",
       "┌──────────┬───────────────────────────────────┐\n",
       "│ Category ┆ Message                           │\n",
       "│ ---      ┆ ---                               │\n",
       "│ str      ┆ str                               │\n",
       "╞══════════╪═══════════════════════════════════╡\n",
       "│ ham      ┆ Go until jurong point, crazy.. A… │\n",
       "│ ham      ┆ Ok lar... Joking wif u oni...     │\n",
       "│ spam     ┆ Free entry in 2 a wkly comp to w… │\n",
       "│ ham      ┆ U dun say so early hor... U c al… │\n",
       "│ …        ┆ …                                 │\n",
       "│ ham      ┆ Will ü b going to esplanade fr h… │\n",
       "│ ham      ┆ Pity, * was in mood for that. So… │\n",
       "│ ham      ┆ The guy did some bitching but I … │\n",
       "│ ham      ┆ Rofl. Its true to its name        │\n",
       "└──────────┴───────────────────────────────────┘"
      ]
     },
     "execution_count": 303,
     "metadata": {},
     "output_type": "execute_result"
    }
   ],
   "source": [
    "data"
   ]
  },
  {
   "cell_type": "code",
   "execution_count": 304,
   "metadata": {
    "ExecuteTime": {
     "end_time": "2023-07-22T16:49:51.459713400Z",
     "start_time": "2023-07-22T16:49:51.268487900Z"
    },
    "execution": {
     "iopub.execute_input": "2023-07-21T22:10:30.746633Z",
     "iopub.status.busy": "2023-07-21T22:10:30.746140Z",
     "iopub.status.idle": "2023-07-21T22:10:30.759819Z",
     "shell.execute_reply": "2023-07-21T22:10:30.758637Z",
     "shell.execute_reply.started": "2023-07-21T22:10:30.746582Z"
    },
    "papermill": {
     "duration": 0.106915,
     "end_time": "2021-02-08T08:52:41.080492",
     "exception": false,
     "start_time": "2021-02-08T08:52:40.973577",
     "status": "completed"
    },
    "tags": [],
    "trusted": true
   },
   "outputs": [
    {
     "data": {
      "text/html": [
       "<div><style>\n",
       ".dataframe > thead > tr > th,\n",
       ".dataframe > tbody > tr > td {\n",
       "  text-align: right;\n",
       "}\n",
       "</style>\n",
       "<small>shape: (2, 2)</small><table border=\"1\" class=\"dataframe\"><thead><tr><th>Category</th><th>count</th></tr><tr><td>str</td><td>u32</td></tr></thead><tbody><tr><td>&quot;spam&quot;</td><td>747</td></tr><tr><td>&quot;ham&quot;</td><td>4825</td></tr></tbody></table></div>"
      ],
      "text/plain": [
       "shape: (2, 2)\n",
       "┌──────────┬───────┐\n",
       "│ Category ┆ count │\n",
       "│ ---      ┆ ---   │\n",
       "│ str      ┆ u32   │\n",
       "╞══════════╪═══════╡\n",
       "│ spam     ┆ 747   │\n",
       "│ ham      ┆ 4825  │\n",
       "└──────────┴───────┘"
      ]
     },
     "execution_count": 304,
     "metadata": {},
     "output_type": "execute_result"
    }
   ],
   "source": [
    "data.groupby('Category').count()"
   ]
  },
  {
   "cell_type": "code",
   "execution_count": 305,
   "metadata": {
    "ExecuteTime": {
     "end_time": "2023-07-22T16:49:51.459713400Z",
     "start_time": "2023-07-22T16:49:51.305756400Z"
    },
    "execution": {
     "iopub.execute_input": "2023-07-21T22:10:30.762478Z",
     "iopub.status.busy": "2023-07-21T22:10:30.762020Z",
     "iopub.status.idle": "2023-07-21T22:10:30.773022Z",
     "shell.execute_reply": "2023-07-21T22:10:30.771809Z",
     "shell.execute_reply.started": "2023-07-21T22:10:30.762435Z"
    },
    "papermill": {
     "duration": 0.045957,
     "end_time": "2021-02-08T08:52:41.608830",
     "exception": false,
     "start_time": "2021-02-08T08:52:41.562873",
     "status": "completed"
    },
    "tags": [],
    "trusted": true
   },
   "outputs": [],
   "source": [
    "ham_msg = data.filter(pl.col('Category') == 'ham')\n",
    "spam_msg = data.filter(pl.col('Category') == 'spam')"
   ]
  },
  {
   "cell_type": "code",
   "execution_count": 306,
   "metadata": {
    "ExecuteTime": {
     "end_time": "2023-07-22T16:49:51.459713400Z",
     "start_time": "2023-07-22T16:49:51.324168Z"
    },
    "execution": {
     "iopub.execute_input": "2023-07-21T22:10:30.775678Z",
     "iopub.status.busy": "2023-07-21T22:10:30.775214Z",
     "iopub.status.idle": "2023-07-21T22:10:30.787353Z",
     "shell.execute_reply": "2023-07-21T22:10:30.786145Z",
     "shell.execute_reply.started": "2023-07-21T22:10:30.775637Z"
    },
    "papermill": {
     "duration": 0.044657,
     "end_time": "2021-02-08T08:52:41.684788",
     "exception": false,
     "start_time": "2021-02-08T08:52:41.640131",
     "status": "completed"
    },
    "tags": [],
    "trusted": true
   },
   "outputs": [],
   "source": [
    "#randomly taking data from ham_ msg\n",
    "ham_msg = ham_msg.sample(n=len(spam_msg))"
   ]
  },
  {
   "cell_type": "code",
   "execution_count": 307,
   "metadata": {
    "ExecuteTime": {
     "end_time": "2023-07-22T16:49:51.460727600Z",
     "start_time": "2023-07-22T16:49:51.329168600Z"
    },
    "execution": {
     "iopub.execute_input": "2023-07-21T22:10:30.791214Z",
     "iopub.status.busy": "2023-07-21T22:10:30.790459Z",
     "iopub.status.idle": "2023-07-21T22:10:30.802644Z",
     "shell.execute_reply": "2023-07-21T22:10:30.801502Z",
     "shell.execute_reply.started": "2023-07-21T22:10:30.791168Z"
    },
    "papermill": {
     "duration": 0.042903,
     "end_time": "2021-02-08T08:52:41.760274",
     "exception": false,
     "start_time": "2021-02-08T08:52:41.717371",
     "status": "completed"
    },
    "tags": [],
    "trusted": true
   },
   "outputs": [
    {
     "name": "stdout",
     "output_type": "stream",
     "text": [
      "(747, 2) (747, 2)\n"
     ]
    }
   ],
   "source": [
    "print(ham_msg.shape, spam_msg.shape)"
   ]
  },
  {
   "cell_type": "code",
   "execution_count": 308,
   "metadata": {
    "ExecuteTime": {
     "end_time": "2023-07-22T16:49:51.460727600Z",
     "start_time": "2023-07-22T16:49:51.338174700Z"
    },
    "collapsed": false,
    "execution": {
     "iopub.execute_input": "2023-07-21T22:10:30.805095Z",
     "iopub.status.busy": "2023-07-21T22:10:30.804387Z",
     "iopub.status.idle": "2023-07-21T22:10:30.821067Z",
     "shell.execute_reply": "2023-07-21T22:10:30.819755Z",
     "shell.execute_reply.started": "2023-07-21T22:10:30.805053Z"
    },
    "jupyter": {
     "outputs_hidden": false
    },
    "trusted": true
   },
   "outputs": [
    {
     "data": {
      "text/html": [
       "<div><style>\n",
       ".dataframe > thead > tr > th,\n",
       ".dataframe > tbody > tr > td {\n",
       "  text-align: right;\n",
       "}\n",
       "</style>\n",
       "<small>shape: (5_572, 2)</small><table border=\"1\" class=\"dataframe\"><thead><tr><th>Category</th><th>Message</th></tr><tr><td>str</td><td>str</td></tr></thead><tbody><tr><td>&quot;ham&quot;</td><td>&quot;Go until juron…</td></tr><tr><td>&quot;ham&quot;</td><td>&quot;Ok lar... Joki…</td></tr><tr><td>&quot;spam&quot;</td><td>&quot;Free entry in …</td></tr><tr><td>&quot;ham&quot;</td><td>&quot;U dun say so e…</td></tr><tr><td>&quot;ham&quot;</td><td>&quot;Nah I don&#x27;t th…</td></tr><tr><td>&quot;spam&quot;</td><td>&quot;FreeMsg Hey th…</td></tr><tr><td>&quot;ham&quot;</td><td>&quot;Even my brothe…</td></tr><tr><td>&quot;ham&quot;</td><td>&quot;As per your re…</td></tr><tr><td>&quot;spam&quot;</td><td>&quot;WINNER!! As a …</td></tr><tr><td>&quot;spam&quot;</td><td>&quot;Had your mobil…</td></tr><tr><td>&quot;ham&quot;</td><td>&quot;I&#x27;m gonna be h…</td></tr><tr><td>&quot;spam&quot;</td><td>&quot;SIX chances to…</td></tr><tr><td>&hellip;</td><td>&hellip;</td></tr><tr><td>&quot;ham&quot;</td><td>&quot;Anything lor. …</td></tr><tr><td>&quot;ham&quot;</td><td>&quot;Get me out of …</td></tr><tr><td>&quot;ham&quot;</td><td>&quot;Ok lor... Sony…</td></tr><tr><td>&quot;ham&quot;</td><td>&quot;Ard 6 like dat…</td></tr><tr><td>&quot;ham&quot;</td><td>&quot;Why don&#x27;t you …</td></tr><tr><td>&quot;ham&quot;</td><td>&quot;Huh y lei...&quot;</td></tr><tr><td>&quot;spam&quot;</td><td>&quot;REMINDER FROM …</td></tr><tr><td>&quot;spam&quot;</td><td>&quot;This is the 2n…</td></tr><tr><td>&quot;ham&quot;</td><td>&quot;Will ü b going…</td></tr><tr><td>&quot;ham&quot;</td><td>&quot;Pity, * was in…</td></tr><tr><td>&quot;ham&quot;</td><td>&quot;The guy did so…</td></tr><tr><td>&quot;ham&quot;</td><td>&quot;Rofl. Its true…</td></tr></tbody></table></div>"
      ],
      "text/plain": [
       "shape: (5_572, 2)\n",
       "┌──────────┬───────────────────────────────────┐\n",
       "│ Category ┆ Message                           │\n",
       "│ ---      ┆ ---                               │\n",
       "│ str      ┆ str                               │\n",
       "╞══════════╪═══════════════════════════════════╡\n",
       "│ ham      ┆ Go until jurong point, crazy.. A… │\n",
       "│ ham      ┆ Ok lar... Joking wif u oni...     │\n",
       "│ spam     ┆ Free entry in 2 a wkly comp to w… │\n",
       "│ ham      ┆ U dun say so early hor... U c al… │\n",
       "│ …        ┆ …                                 │\n",
       "│ ham      ┆ Will ü b going to esplanade fr h… │\n",
       "│ ham      ┆ Pity, * was in mood for that. So… │\n",
       "│ ham      ┆ The guy did some bitching but I … │\n",
       "│ ham      ┆ Rofl. Its true to its name        │\n",
       "└──────────┴───────────────────────────────────┘"
      ]
     },
     "execution_count": 308,
     "metadata": {},
     "output_type": "execute_result"
    }
   ],
   "source": [
    "data"
   ]
  },
  {
   "cell_type": "code",
   "execution_count": 309,
   "metadata": {
    "ExecuteTime": {
     "end_time": "2023-07-22T16:49:51.461727Z",
     "start_time": "2023-07-22T16:49:51.350345600Z"
    },
    "collapsed": false,
    "execution": {
     "iopub.execute_input": "2023-07-21T22:10:30.823899Z",
     "iopub.status.busy": "2023-07-21T22:10:30.823354Z",
     "iopub.status.idle": "2023-07-21T22:10:30.833783Z",
     "shell.execute_reply": "2023-07-21T22:10:30.831790Z",
     "shell.execute_reply.started": "2023-07-21T22:10:30.823851Z"
    },
    "jupyter": {
     "outputs_hidden": false
    },
    "trusted": true
   },
   "outputs": [],
   "source": [
    "balanced_data = ham_msg.vstack(spam_msg)\n",
    "balanced_data = balanced_data.with_columns(\n",
    "    pl.when(pl.col(\"Category\") == 'spam').then(1).otherwise(0).alias('Category')\n",
    ")"
   ]
  },
  {
   "cell_type": "code",
   "execution_count": 310,
   "metadata": {
    "ExecuteTime": {
     "end_time": "2023-07-22T16:49:51.461727Z",
     "start_time": "2023-07-22T16:49:51.365348200Z"
    },
    "collapsed": false,
    "execution": {
     "iopub.execute_input": "2023-07-21T22:10:30.838694Z",
     "iopub.status.busy": "2023-07-21T22:10:30.838211Z",
     "iopub.status.idle": "2023-07-21T22:10:30.853491Z",
     "shell.execute_reply": "2023-07-21T22:10:30.851637Z",
     "shell.execute_reply.started": "2023-07-21T22:10:30.838655Z"
    },
    "jupyter": {
     "outputs_hidden": false
    },
    "trusted": true
   },
   "outputs": [
    {
     "data": {
      "text/html": [
       "<div><style>\n",
       ".dataframe > thead > tr > th,\n",
       ".dataframe > tbody > tr > td {\n",
       "  text-align: right;\n",
       "}\n",
       "</style>\n",
       "<small>shape: (1_494, 2)</small><table border=\"1\" class=\"dataframe\"><thead><tr><th>Category</th><th>Message</th></tr><tr><td>i32</td><td>str</td></tr></thead><tbody><tr><td>0</td><td>&quot;When did dad g…</td></tr><tr><td>0</td><td>&quot;Haha... They c…</td></tr><tr><td>0</td><td>&quot;Hey, a guy I k…</td></tr><tr><td>0</td><td>&quot;Let Ur Heart B…</td></tr><tr><td>0</td><td>&quot;Princess, i li…</td></tr><tr><td>0</td><td>&quot;As per your re…</td></tr><tr><td>0</td><td>&quot;Imagine Life W…</td></tr><tr><td>0</td><td>&quot;Gam gone after…</td></tr><tr><td>0</td><td>&quot;Am in gobi art…</td></tr><tr><td>0</td><td>&quot;Get ready for …</td></tr><tr><td>0</td><td>&quot;Hmm...Bad news…</td></tr><tr><td>0</td><td>&quot;Fine if thats…</td></tr><tr><td>&hellip;</td><td>&hellip;</td></tr><tr><td>1</td><td>&quot;URGENT We are …</td></tr><tr><td>1</td><td>&quot;2p per min to …</td></tr><tr><td>1</td><td>&quot;Marvel Mobile …</td></tr><tr><td>1</td><td>&quot;SMS SERVICES. …</td></tr><tr><td>1</td><td>&quot;PRIVATE! Your …</td></tr><tr><td>1</td><td>&quot;You are awarde…</td></tr><tr><td>1</td><td>&quot;PRIVATE! Your …</td></tr><tr><td>1</td><td>&quot;Want explicit …</td></tr><tr><td>1</td><td>&quot;ASKED 3MOBILE …</td></tr><tr><td>1</td><td>&quot;Had your contr…</td></tr><tr><td>1</td><td>&quot;REMINDER FROM …</td></tr><tr><td>1</td><td>&quot;This is the 2n…</td></tr></tbody></table></div>"
      ],
      "text/plain": [
       "shape: (1_494, 2)\n",
       "┌──────────┬───────────────────────────────────┐\n",
       "│ Category ┆ Message                           │\n",
       "│ ---      ┆ ---                               │\n",
       "│ i32      ┆ str                               │\n",
       "╞══════════╪═══════════════════════════════════╡\n",
       "│ 0        ┆ When did dad get back.            │\n",
       "│ 0        ┆ Haha... They cant what... At the… │\n",
       "│ 0        ┆ Hey, a guy I know is breathing d… │\n",
       "│ 0        ┆ Let Ur Heart Be Ur Compass Ur Mi… │\n",
       "│ …        ┆ …                                 │\n",
       "│ 1        ┆ ASKED 3MOBILE IF 0870 CHATLINES … │\n",
       "│ 1        ┆ Had your contract mobile 11 Mnth… │\n",
       "│ 1        ┆ REMINDER FROM O2: To get 2.50 po… │\n",
       "│ 1        ┆ This is the 2nd time we have tri… │\n",
       "└──────────┴───────────────────────────────────┘"
      ]
     },
     "execution_count": 310,
     "metadata": {},
     "output_type": "execute_result"
    }
   ],
   "source": [
    "balanced_data"
   ]
  },
  {
   "cell_type": "code",
   "execution_count": 311,
   "metadata": {
    "ExecuteTime": {
     "end_time": "2023-07-22T16:55:12.355733900Z",
     "start_time": "2023-07-22T16:55:12.294705800Z"
    },
    "execution": {
     "iopub.execute_input": "2023-07-21T22:10:30.856172Z",
     "iopub.status.busy": "2023-07-21T22:10:30.855759Z",
     "iopub.status.idle": "2023-07-21T22:10:30.869575Z",
     "shell.execute_reply": "2023-07-21T22:10:30.867719Z",
     "shell.execute_reply.started": "2023-07-21T22:10:30.856138Z"
    },
    "papermill": {
     "duration": 0.037443,
     "end_time": "2021-02-08T08:52:42.184497",
     "exception": false,
     "start_time": "2021-02-08T08:52:42.147054",
     "status": "completed"
    },
    "tags": [],
    "trusted": true
   },
   "outputs": [],
   "source": [
    "X_train, X_test, Y_train, Y_test = train_test_split(\n",
    "    balanced_data['Message'], \n",
    "    balanced_data['Category'],\n",
    "    test_size=0.2,\n",
    "    random_state=42\n",
    ")"
   ]
  },
  {
   "cell_type": "code",
   "execution_count": 312,
   "metadata": {
    "ExecuteTime": {
     "end_time": "2023-07-22T16:58:09.582366300Z",
     "start_time": "2023-07-22T16:58:09.517374300Z"
    },
    "collapsed": false
   },
   "outputs": [
    {
     "data": {
      "text/plain": [
       "array([\"Sorry, I'll call later\",\n",
       "       \"Good morning, my boytoy! How's those yummy lips ? Where's my sexy buns now ? What do you do ? Do you think of me ? Do you crave me ? Do you need me ?\",\n",
       "       'Hello darling how are you today? I would love to have a chat, why dont you tell me what you look like and what you are in to sexy?',\n",
       "       ...,\n",
       "       'You have an important customer service announcement from PREMIER. Call FREEPHONE 0800 542 0578 now!',\n",
       "       'URGENT! Your Mobile number has been awarded with a £2000 prize GUARANTEED. Call 09061790126 from land line. Claim 3030. Valid 12hrs only 150ppm',\n",
       "       'How come it takes so little time for a child who is afraid of the dark to become a teenager who wants to stay out all night?'],\n",
       "      dtype=object)"
      ]
     },
     "execution_count": 312,
     "metadata": {},
     "output_type": "execute_result"
    }
   ],
   "source": [
    "X_train = np.array(X_train, dtype=np.chararray)\n",
    "X_test = np.array(X_test, dtype=np.chararray)\n",
    "X_train"
   ]
  },
  {
   "cell_type": "code",
   "execution_count": 313,
   "metadata": {
    "ExecuteTime": {
     "end_time": "2023-07-22T16:58:12.024765900Z",
     "start_time": "2023-07-22T16:58:11.996677200Z"
    },
    "execution": {
     "iopub.execute_input": "2023-07-21T22:10:30.873464Z",
     "iopub.status.busy": "2023-07-21T22:10:30.872588Z",
     "iopub.status.idle": "2023-07-21T22:10:31.008908Z",
     "shell.execute_reply": "2023-07-21T22:10:31.007097Z",
     "shell.execute_reply.started": "2023-07-21T22:10:30.873406Z"
    },
    "trusted": true
   },
   "outputs": [
    {
     "data": {
      "text/plain": [
       "<tf.Tensor: shape=(1195, 790), dtype=int64, numpy=\n",
       "array([[ 156,   99,    5, ...,    0,    0,    0],\n",
       "       [ 102,  304,   30, ...,    0,    0,    0],\n",
       "       [ 344, 1598,   76, ...,    0,    0,    0],\n",
       "       ...,\n",
       "       [   3,   19,  118, ...,    0,    0,    0],\n",
       "       [  69,    8,   32, ...,    0,    0,    0],\n",
       "       [  76,  117,   41, ...,    0,    0,    0]])>"
      ]
     },
     "execution_count": 313,
     "metadata": {},
     "output_type": "execute_result"
    }
   ],
   "source": [
    "max_features = 5000  # Maximum vocab size.\n",
    "max_len = max([len(message) for message in balanced_data['Message']])  # Sequence length to pad the outputs to.\n",
    "\n",
    "# Create the layer.\n",
    "vectorize_layer = tf.keras.layers.TextVectorization(\n",
    "    max_tokens=max_features,\n",
    "    output_mode='int',\n",
    "    output_sequence_length=max_len\n",
    ")\n",
    "vectorize_layer.adapt(X_test)\n",
    "vectorizd_X_test = vectorize_layer(X_test)\n",
    "\n",
    "vectorize_layer.adapt(X_train)\n",
    "vectorizd_X_train = vectorize_layer(X_train)\n",
    "vectorizd_X_train"
   ]
  },
  {
   "cell_type": "code",
   "execution_count": 314,
   "metadata": {},
   "outputs": [],
   "source": [
    "Y_train = np.array(Y_train, dtype=np.int64)\n",
    "Y_test = np.array(Y_test, dtype=np.int64)"
   ]
  },
  {
   "cell_type": "code",
   "execution_count": 315,
   "metadata": {
    "ExecuteTime": {
     "end_time": "2023-07-22T16:58:45.603911900Z",
     "start_time": "2023-07-22T16:58:45.463562800Z"
    },
    "execution": {
     "iopub.execute_input": "2023-07-21T22:10:31.142429Z",
     "iopub.status.busy": "2023-07-21T22:10:31.141861Z",
     "iopub.status.idle": "2023-07-21T22:10:31.211471Z",
     "shell.execute_reply": "2023-07-21T22:10:31.209952Z",
     "shell.execute_reply.started": "2023-07-21T22:10:31.142394Z"
    },
    "papermill": {
     "duration": 0.207504,
     "end_time": "2021-02-08T08:52:42.884963",
     "exception": false,
     "start_time": "2021-02-08T08:52:42.677459",
     "status": "completed"
    },
    "tags": [],
    "trusted": true
   },
   "outputs": [],
   "source": [
    "#model\n",
    "model = tf.keras.models.Sequential(\n",
    "    [\n",
    "        tf.keras.layers.Dense(64, activation='relu', input_shape=(max_len,)),\n",
    "        tf.keras.layers.Dense(64, activation='relu'),\n",
    "        tf.keras.layers.Dense(64, activation='relu'),\n",
    "        tf.keras.layers.Dense(1, activation='sigmoid')\n",
    "    ]\n",
    ")"
   ]
  },
  {
   "cell_type": "code",
   "execution_count": 316,
   "metadata": {
    "ExecuteTime": {
     "end_time": "2023-07-22T16:58:45.621372400Z",
     "start_time": "2023-07-22T16:58:45.533566600Z"
    },
    "execution": {
     "iopub.execute_input": "2023-07-21T22:10:31.214132Z",
     "iopub.status.busy": "2023-07-21T22:10:31.213282Z",
     "iopub.status.idle": "2023-07-21T22:10:31.232538Z",
     "shell.execute_reply": "2023-07-21T22:10:31.230979Z",
     "shell.execute_reply.started": "2023-07-21T22:10:31.214084Z"
    },
    "papermill": {
     "duration": 0.064816,
     "end_time": "2021-02-08T08:52:42.990022",
     "exception": false,
     "start_time": "2021-02-08T08:52:42.925206",
     "status": "completed"
    },
    "tags": [],
    "trusted": true
   },
   "outputs": [],
   "source": [
    "model.compile(\n",
    "    loss=tf.keras.losses.BinaryCrossentropy(from_logits=True),\n",
    "    metrics=['accuracy'],\n",
    "    optimizer='adam'\n",
    ")"
   ]
  },
  {
   "cell_type": "code",
   "execution_count": 317,
   "metadata": {
    "ExecuteTime": {
     "end_time": "2023-07-22T16:58:57.924788300Z",
     "start_time": "2023-07-22T16:58:57.847980300Z"
    },
    "collapsed": false
   },
   "outputs": [
    {
     "name": "stdout",
     "output_type": "stream",
     "text": [
      "Epoch 1/100\n"
     ]
    },
    {
     "name": "stderr",
     "output_type": "stream",
     "text": [
      "/home/mohamed/anaconda3/lib/python3.11/site-packages/keras/src/backend.py:5805: UserWarning: \"`binary_crossentropy` received `from_logits=True`, but the `output` argument was produced by a Sigmoid activation and thus does not represent logits. Was this intended?\n",
      "  output, from_logits = _get_logits(\n"
     ]
    },
    {
     "name": "stdout",
     "output_type": "stream",
     "text": [
      "38/38 [==============================] - 7s 15ms/step - loss: 13.1437 - accuracy: 0.6402\n",
      "Epoch 2/100\n",
      "38/38 [==============================] - 1s 22ms/step - loss: 3.8744 - accuracy: 0.7473\n",
      "Epoch 3/100\n",
      "38/38 [==============================] - 1s 20ms/step - loss: 1.6454 - accuracy: 0.8126\n",
      "Epoch 4/100\n",
      "38/38 [==============================] - 1s 18ms/step - loss: 1.0157 - accuracy: 0.8552\n",
      "Epoch 5/100\n",
      "38/38 [==============================] - 1s 20ms/step - loss: 0.7487 - accuracy: 0.8661\n",
      "Epoch 6/100\n",
      "38/38 [==============================] - 1s 17ms/step - loss: 0.3901 - accuracy: 0.9146\n",
      "Epoch 7/100\n",
      "38/38 [==============================] - 1s 22ms/step - loss: 0.2529 - accuracy: 0.9356\n",
      "Epoch 8/100\n",
      "38/38 [==============================] - 1s 19ms/step - loss: 0.2120 - accuracy: 0.9448\n",
      "Epoch 9/100\n",
      "38/38 [==============================] - 1s 19ms/step - loss: 0.1484 - accuracy: 0.9640\n",
      "Epoch 10/100\n",
      "38/38 [==============================] - 1s 17ms/step - loss: 0.1825 - accuracy: 0.9598\n",
      "Epoch 11/100\n",
      "38/38 [==============================] - 1s 15ms/step - loss: 0.1061 - accuracy: 0.9724\n",
      "Epoch 12/100\n",
      "38/38 [==============================] - 1s 18ms/step - loss: 0.1170 - accuracy: 0.9657\n",
      "Epoch 13/100\n",
      "38/38 [==============================] - 1s 19ms/step - loss: 0.1933 - accuracy: 0.9556\n",
      "Epoch 14/100\n",
      "38/38 [==============================] - 1s 16ms/step - loss: 0.1148 - accuracy: 0.9665\n",
      "Epoch 15/100\n",
      "38/38 [==============================] - 1s 14ms/step - loss: 0.1622 - accuracy: 0.9690\n",
      "Epoch 16/100\n",
      "38/38 [==============================] - 0s 12ms/step - loss: 0.1009 - accuracy: 0.9766\n",
      "Epoch 17/100\n",
      "38/38 [==============================] - 0s 12ms/step - loss: 0.0743 - accuracy: 0.9799\n",
      "Epoch 18/100\n",
      "38/38 [==============================] - 0s 11ms/step - loss: 0.0841 - accuracy: 0.9791\n",
      "Epoch 19/100\n",
      "38/38 [==============================] - 0s 12ms/step - loss: 0.1419 - accuracy: 0.9657\n",
      "Epoch 20/100\n",
      "38/38 [==============================] - 1s 13ms/step - loss: 0.2301 - accuracy: 0.9607\n",
      "Epoch 21/100\n",
      "38/38 [==============================] - 1s 14ms/step - loss: 0.2341 - accuracy: 0.9473\n",
      "Epoch 22/100\n",
      "38/38 [==============================] - 1s 15ms/step - loss: 0.1716 - accuracy: 0.9548\n",
      "Epoch 23/100\n",
      "38/38 [==============================] - 0s 12ms/step - loss: 0.1396 - accuracy: 0.9623\n",
      "Epoch 24/100\n",
      "38/38 [==============================] - 1s 14ms/step - loss: 0.1779 - accuracy: 0.9540\n",
      "Epoch 25/100\n",
      "38/38 [==============================] - 0s 13ms/step - loss: 0.1675 - accuracy: 0.9565\n",
      "Epoch 26/100\n",
      "38/38 [==============================] - 0s 12ms/step - loss: 0.2664 - accuracy: 0.9473\n",
      "Epoch 27/100\n",
      "38/38 [==============================] - 1s 14ms/step - loss: 0.2462 - accuracy: 0.9439\n",
      "Epoch 28/100\n",
      "38/38 [==============================] - 1s 13ms/step - loss: 0.1613 - accuracy: 0.9573\n",
      "Epoch 29/100\n",
      "38/38 [==============================] - 1s 15ms/step - loss: 0.1366 - accuracy: 0.9690\n",
      "Epoch 30/100\n",
      "38/38 [==============================] - 1s 14ms/step - loss: 0.1515 - accuracy: 0.9632\n",
      "Epoch 31/100\n",
      "38/38 [==============================] - 1s 15ms/step - loss: 0.1792 - accuracy: 0.9548\n",
      "Epoch 32/100\n",
      "38/38 [==============================] - 1s 13ms/step - loss: 0.1438 - accuracy: 0.9649\n",
      "Epoch 33/100\n",
      "38/38 [==============================] - 1s 15ms/step - loss: 0.1362 - accuracy: 0.9674\n",
      "Epoch 34/100\n",
      "38/38 [==============================] - 1s 14ms/step - loss: 0.0477 - accuracy: 0.9849\n",
      "Epoch 35/100\n",
      "38/38 [==============================] - 0s 13ms/step - loss: 0.1039 - accuracy: 0.9732\n",
      "Epoch 36/100\n",
      "38/38 [==============================] - 0s 12ms/step - loss: 0.1074 - accuracy: 0.9707\n",
      "Epoch 37/100\n",
      "38/38 [==============================] - 0s 12ms/step - loss: 0.0792 - accuracy: 0.9833\n",
      "Epoch 38/100\n",
      "38/38 [==============================] - 0s 12ms/step - loss: 0.1108 - accuracy: 0.9707\n",
      "Epoch 39/100\n",
      "38/38 [==============================] - 0s 13ms/step - loss: 0.0995 - accuracy: 0.9757\n",
      "Epoch 40/100\n",
      "38/38 [==============================] - 1s 15ms/step - loss: 0.1423 - accuracy: 0.9732\n",
      "Epoch 41/100\n",
      "38/38 [==============================] - 0s 12ms/step - loss: 0.1252 - accuracy: 0.9766\n",
      "Epoch 42/100\n",
      "38/38 [==============================] - 0s 12ms/step - loss: 0.1192 - accuracy: 0.9724\n",
      "Epoch 43/100\n",
      "38/38 [==============================] - 1s 17ms/step - loss: 0.0678 - accuracy: 0.9799\n",
      "Epoch 44/100\n",
      "38/38 [==============================] - 0s 13ms/step - loss: 0.1006 - accuracy: 0.9808\n",
      "Epoch 45/100\n",
      "38/38 [==============================] - 0s 13ms/step - loss: 0.0793 - accuracy: 0.9791\n",
      "Epoch 46/100\n",
      "38/38 [==============================] - 1s 13ms/step - loss: 0.0461 - accuracy: 0.9891\n",
      "Epoch 47/100\n",
      "38/38 [==============================] - 1s 13ms/step - loss: 0.0586 - accuracy: 0.9849\n",
      "Epoch 48/100\n",
      "38/38 [==============================] - 0s 12ms/step - loss: 0.0548 - accuracy: 0.9874\n",
      "Epoch 49/100\n",
      "38/38 [==============================] - 0s 10ms/step - loss: 0.0397 - accuracy: 0.9900\n",
      "Epoch 50/100\n",
      "38/38 [==============================] - 0s 13ms/step - loss: 0.0310 - accuracy: 0.9900\n",
      "Epoch 51/100\n",
      "38/38 [==============================] - 1s 15ms/step - loss: 0.0563 - accuracy: 0.9900\n",
      "Epoch 52/100\n",
      "38/38 [==============================] - 0s 13ms/step - loss: 0.0347 - accuracy: 0.9900\n",
      "Epoch 53/100\n",
      "38/38 [==============================] - 0s 11ms/step - loss: 0.0278 - accuracy: 0.9908\n",
      "Epoch 54/100\n",
      "38/38 [==============================] - 0s 13ms/step - loss: 0.0407 - accuracy: 0.9916\n",
      "Epoch 55/100\n",
      "38/38 [==============================] - 0s 10ms/step - loss: 0.0253 - accuracy: 0.9933\n",
      "Epoch 56/100\n",
      "38/38 [==============================] - 0s 10ms/step - loss: 0.0350 - accuracy: 0.9900\n",
      "Epoch 57/100\n",
      "38/38 [==============================] - 0s 11ms/step - loss: 0.0615 - accuracy: 0.9824\n",
      "Epoch 58/100\n",
      "38/38 [==============================] - 0s 10ms/step - loss: 0.0677 - accuracy: 0.9841\n",
      "Epoch 59/100\n",
      "38/38 [==============================] - 0s 12ms/step - loss: 0.1487 - accuracy: 0.9724\n",
      "Epoch 60/100\n",
      "38/38 [==============================] - 0s 13ms/step - loss: 0.2297 - accuracy: 0.9448\n",
      "Epoch 61/100\n",
      "38/38 [==============================] - 0s 12ms/step - loss: 0.2796 - accuracy: 0.9347\n",
      "Epoch 62/100\n",
      "38/38 [==============================] - 0s 12ms/step - loss: 0.4158 - accuracy: 0.9289\n",
      "Epoch 63/100\n",
      "38/38 [==============================] - 0s 11ms/step - loss: 0.2451 - accuracy: 0.9490\n",
      "Epoch 64/100\n",
      "38/38 [==============================] - 0s 10ms/step - loss: 0.3436 - accuracy: 0.9322\n",
      "Epoch 65/100\n",
      "38/38 [==============================] - 0s 9ms/step - loss: 0.4694 - accuracy: 0.9230\n",
      "Epoch 66/100\n",
      "38/38 [==============================] - 0s 9ms/step - loss: 0.3071 - accuracy: 0.9372\n",
      "Epoch 67/100\n",
      "38/38 [==============================] - 0s 9ms/step - loss: 0.2161 - accuracy: 0.9565\n",
      "Epoch 68/100\n",
      "38/38 [==============================] - 0s 8ms/step - loss: 0.1660 - accuracy: 0.9615\n",
      "Epoch 69/100\n",
      "38/38 [==============================] - 0s 10ms/step - loss: 0.1770 - accuracy: 0.9515\n",
      "Epoch 70/100\n",
      "38/38 [==============================] - 0s 11ms/step - loss: 0.0978 - accuracy: 0.9674\n",
      "Epoch 71/100\n",
      "38/38 [==============================] - 0s 11ms/step - loss: 0.0990 - accuracy: 0.9699\n",
      "Epoch 72/100\n",
      "38/38 [==============================] - 0s 10ms/step - loss: 0.0476 - accuracy: 0.9858\n",
      "Epoch 73/100\n",
      "38/38 [==============================] - 0s 10ms/step - loss: 0.0461 - accuracy: 0.9883\n",
      "Epoch 74/100\n",
      "38/38 [==============================] - 0s 10ms/step - loss: 0.0270 - accuracy: 0.9925\n",
      "Epoch 75/100\n",
      "38/38 [==============================] - 0s 10ms/step - loss: 0.0205 - accuracy: 0.9950\n",
      "Epoch 76/100\n",
      "38/38 [==============================] - 0s 9ms/step - loss: 0.0224 - accuracy: 0.9925\n",
      "Epoch 77/100\n",
      "38/38 [==============================] - 0s 10ms/step - loss: 0.0221 - accuracy: 0.9925\n",
      "Epoch 78/100\n",
      "38/38 [==============================] - 0s 12ms/step - loss: 0.0191 - accuracy: 0.9941\n",
      "Epoch 79/100\n",
      "38/38 [==============================] - 1s 14ms/step - loss: 0.0186 - accuracy: 0.9933\n",
      "Epoch 80/100\n",
      "38/38 [==============================] - 0s 9ms/step - loss: 0.0211 - accuracy: 0.9925\n",
      "Epoch 81/100\n",
      "38/38 [==============================] - 0s 10ms/step - loss: 0.0144 - accuracy: 0.9950\n",
      "Epoch 82/100\n",
      "38/38 [==============================] - 0s 10ms/step - loss: 0.0134 - accuracy: 0.9958\n",
      "Epoch 83/100\n",
      "38/38 [==============================] - 0s 10ms/step - loss: 0.0137 - accuracy: 0.9950\n",
      "Epoch 84/100\n",
      "38/38 [==============================] - 0s 9ms/step - loss: 0.0194 - accuracy: 0.9925\n",
      "Epoch 85/100\n",
      "38/38 [==============================] - 0s 9ms/step - loss: 0.0243 - accuracy: 0.9916\n",
      "Epoch 86/100\n",
      "38/38 [==============================] - 0s 7ms/step - loss: 0.0498 - accuracy: 0.9858\n",
      "Epoch 87/100\n",
      "38/38 [==============================] - 0s 8ms/step - loss: 0.0744 - accuracy: 0.9874\n",
      "Epoch 88/100\n",
      "38/38 [==============================] - 0s 9ms/step - loss: 0.0375 - accuracy: 0.9866\n",
      "Epoch 89/100\n",
      "38/38 [==============================] - 0s 9ms/step - loss: 0.0498 - accuracy: 0.9908\n",
      "Epoch 90/100\n",
      "38/38 [==============================] - 0s 9ms/step - loss: 0.0277 - accuracy: 0.9908\n",
      "Epoch 91/100\n",
      "38/38 [==============================] - 0s 10ms/step - loss: 0.0450 - accuracy: 0.9891\n",
      "Epoch 92/100\n",
      "38/38 [==============================] - 0s 11ms/step - loss: 0.0531 - accuracy: 0.9824\n",
      "Epoch 93/100\n",
      "38/38 [==============================] - 0s 11ms/step - loss: 0.1271 - accuracy: 0.9766\n",
      "Epoch 94/100\n",
      "38/38 [==============================] - 0s 10ms/step - loss: 0.1348 - accuracy: 0.9757\n",
      "Epoch 95/100\n",
      "38/38 [==============================] - 0s 10ms/step - loss: 0.0704 - accuracy: 0.9799\n",
      "Epoch 96/100\n",
      "38/38 [==============================] - 0s 9ms/step - loss: 0.0730 - accuracy: 0.9824\n",
      "Epoch 97/100\n",
      "38/38 [==============================] - 0s 9ms/step - loss: 0.1133 - accuracy: 0.9749\n",
      "Epoch 98/100\n",
      "38/38 [==============================] - 0s 9ms/step - loss: 0.1442 - accuracy: 0.9682\n",
      "Epoch 99/100\n",
      "38/38 [==============================] - 0s 9ms/step - loss: 0.1594 - accuracy: 0.9699\n",
      "Epoch 100/100\n",
      "38/38 [==============================] - 0s 8ms/step - loss: 0.4421 - accuracy: 0.9205\n"
     ]
    }
   ],
   "source": [
    "history=model.fit(\n",
    "    vectorizd_X_train,\n",
    "    Y_train,\n",
    "    epochs=100,\n",
    "    batch_size=32\n",
    ")"
   ]
  },
  {
   "cell_type": "code",
   "execution_count": 318,
   "metadata": {
    "execution": {
     "iopub.status.busy": "2023-07-21T22:10:31.398905Z",
     "iopub.status.idle": "2023-07-21T22:10:31.399369Z",
     "shell.execute_reply": "2023-07-21T22:10:31.399153Z",
     "shell.execute_reply.started": "2023-07-21T22:10:31.399133Z"
    },
    "papermill": {
     "duration": 0.134887,
     "end_time": "2021-02-08T08:52:49.954736",
     "exception": false,
     "start_time": "2021-02-08T08:52:49.819849",
     "status": "completed"
    },
    "tags": [],
    "trusted": true
   },
   "outputs": [
    {
     "name": "stdout",
     "output_type": "stream",
     "text": [
      "10/10 [==============================] - 0s 5ms/step - loss: 3.0534 - accuracy: 0.6421\n"
     ]
    },
    {
     "data": {
      "text/plain": [
       "[3.053405284881592, 0.6421404480934143]"
      ]
     },
     "execution_count": 318,
     "metadata": {},
     "output_type": "execute_result"
    }
   ],
   "source": [
    "model.evaluate(\n",
    "    vectorizd_X_test,\n",
    "    Y_test\n",
    ")"
   ]
  },
  {
   "cell_type": "code",
   "execution_count": 319,
   "metadata": {
    "execution": {
     "iopub.status.busy": "2023-07-21T22:10:31.401332Z",
     "iopub.status.idle": "2023-07-21T22:10:31.402119Z",
     "shell.execute_reply": "2023-07-21T22:10:31.401753Z",
     "shell.execute_reply.started": "2023-07-21T22:10:31.401723Z"
    },
    "papermill": {
     "duration": 0.228343,
     "end_time": "2021-02-08T08:52:50.233981",
     "exception": false,
     "start_time": "2021-02-08T08:52:50.005638",
     "status": "completed"
    },
    "tags": [],
    "trusted": true
   },
   "outputs": [
    {
     "data": {
      "text/plain": [
       "Text(0.5, 0, 'epoch')"
      ]
     },
     "execution_count": 319,
     "metadata": {},
     "output_type": "execute_result"
    },
    {
     "data": {
      "image/png": "[encoded data removed]",
      "text/plain": [
       "<Figure size 640x480 with 1 Axes>"
      ]
     },
     "metadata": {},
     "output_type": "display_data"
    }
   ],
   "source": [
    "plt.plot(history.history['accuracy'])\n",
    "plt.title('model accuracy')\n",
    "plt.ylabel('accuracy')\n",
    "plt.xlabel('epoch')"
   ]
  },
  {
   "cell_type": "code",
   "execution_count": 320,
   "metadata": {
    "execution": {
     "iopub.status.busy": "2023-07-21T22:10:31.404331Z",
     "iopub.status.idle": "2023-07-21T22:10:31.404925Z",
     "shell.execute_reply": "2023-07-21T22:10:31.404653Z",
     "shell.execute_reply.started": "2023-07-21T22:10:31.404625Z"
    },
    "papermill": {
     "duration": 0.060302,
     "end_time": "2021-02-08T08:52:50.344966",
     "exception": false,
     "start_time": "2021-02-08T08:52:50.284664",
     "status": "completed"
    },
    "tags": [],
    "trusted": true
   },
   "outputs": [],
   "source": [
    "predict_msg = [\n",
    "    \"Go until jurong point, crazy.. Available only in bugis n great world la e buffet... Cine there got amore wat...\",\n",
    "    \"Ok lar... Joking wif u oni...\",\n",
    "    \"Free entry in 2 a wkly comp to win FA Cup final tkts 21st May 2005. Text FA to 87121 to receive entry question(std txt rate)T&C's apply 08452810075over18's\"]"
   ]
  },
  {
   "cell_type": "code",
   "execution_count": 321,
   "metadata": {
    "execution": {
     "iopub.status.busy": "2023-07-21T22:10:31.407782Z",
     "iopub.status.idle": "2023-07-21T22:10:31.408369Z",
     "shell.execute_reply": "2023-07-21T22:10:31.408108Z",
     "shell.execute_reply.started": "2023-07-21T22:10:31.408081Z"
    },
    "papermill": {
     "duration": 0.18574,
     "end_time": "2021-02-08T08:52:50.578092",
     "exception": false,
     "start_time": "2021-02-08T08:52:50.392352",
     "status": "completed"
    },
    "tags": [],
    "trusted": true
   },
   "outputs": [
    {
     "name": "stdout",
     "output_type": "stream",
     "text": [
      "1/1 [==============================] - 0s 317ms/step\n"
     ]
    },
    {
     "data": {
      "text/plain": [
       "array([[0.28914064],\n",
       "       [0.1738804 ],\n",
       "       [0.33571908]], dtype=float32)"
      ]
     },
     "execution_count": 321,
     "metadata": {},
     "output_type": "execute_result"
    }
   ],
   "source": [
    "vectorize_layer.adapt(predict_msg)\n",
    "vectorizd_predict_msg = vectorize_layer(predict_msg)\n",
    "\n",
    "model.predict(vectorizd_predict_msg)"
   ]
  }
 ],
 "metadata": {
  "kernelspec": {
   "display_name": "Python 3",
   "language": "python",
   "name": "python3"
  },
  "language_info": {
   "codemirror_mode": {
    "name": "ipython",
    "version": 3
   },
   "file_extension": ".py",
   "mimetype": "text/x-python",
   "name": "python",
   "nbconvert_exporter": "python",
   "pygments_lexer": "ipython3",
   "version": "3.10.12"
  },
  "papermill": {
   "default_parameters": {},
   "duration": 32.053119,
   "end_time": "2021-02-08T08:52:52.370459",
   "environment_variables": {},
   "exception": null,
   "input_path": "__notebook__.ipynb",
   "output_path": "__notebook__.ipynb",
   "parameters": {},
   "start_time": "2021-02-08T08:52:20.317340",
   "version": "2.2.2"
  }
 },
 "nbformat": 4,
 "nbformat_minor": 4
}
