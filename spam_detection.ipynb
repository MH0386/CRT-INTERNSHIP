{
 "cells": [
  {
   "cell_type": "code",
   "execution_count": 22,
   "metadata": {
    "execution": {
     "iopub.execute_input": "2023-07-21T22:10:30.692464Z",
     "iopub.status.busy": "2023-07-21T22:10:30.688580Z",
     "iopub.status.idle": "2023-07-21T22:10:30.705859Z",
     "shell.execute_reply": "2023-07-21T22:10:30.704299Z",
     "shell.execute_reply.started": "2023-07-21T22:10:30.692394Z"
    },
    "papermill": {
     "duration": 12.169917,
     "end_time": "2021-02-08T08:52:40.750380",
     "exception": false,
     "start_time": "2021-02-08T08:52:28.580463",
     "status": "completed"
    },
    "tags": [],
    "trusted": true,
    "ExecuteTime": {
     "end_time": "2023-07-27T11:42:23.772478600Z",
     "start_time": "2023-07-27T11:42:23.619856100Z"
    }
   },
   "outputs": [],
   "source": [
    "import tensorflow as tf\n",
    "import numpy as np\n",
    "import polars as pl\n",
    "import matplotlib.pyplot as plt\n",
    "from sklearn.model_selection import train_test_split\n",
    "from tensorflow.keras.layers import TextVectorization\n",
    "from tensorflow.keras.layers import Dense, Embedding, GlobalAveragePooling1D, Dropout\n",
    "from keras.utils import to_categorical"
   ]
  },
  {
   "cell_type": "code",
   "execution_count": 23,
   "metadata": {
    "execution": {
     "iopub.execute_input": "2023-07-21T22:10:30.710058Z",
     "iopub.status.busy": "2023-07-21T22:10:30.709011Z",
     "iopub.status.idle": "2023-07-21T22:10:30.726753Z",
     "shell.execute_reply": "2023-07-21T22:10:30.725129Z",
     "shell.execute_reply.started": "2023-07-21T22:10:30.709997Z"
    },
    "papermill": {
     "duration": 0.088819,
     "end_time": "2021-02-08T08:52:40.856378",
     "exception": false,
     "start_time": "2021-02-08T08:52:40.767559",
     "status": "completed"
    },
    "tags": [],
    "trusted": true,
    "ExecuteTime": {
     "end_time": "2023-07-27T11:42:23.918480500Z",
     "start_time": "2023-07-27T11:42:23.639855Z"
    }
   },
   "outputs": [],
   "source": [
    "try:\n",
    "    data = pl.read_csv('SPAM text message 20170820 - Data.csv')\n",
    "except:\n",
    "    data = pl.read_csv('/kaggle/input/spam-text-message-classification/SPAM text message 20170820 - Data.csv')\n",
    "finally:\n",
    "    data"
   ]
  },
  {
   "cell_type": "code",
   "execution_count": 24,
   "metadata": {
    "execution": {
     "iopub.execute_input": "2023-07-21T22:10:30.746633Z",
     "iopub.status.busy": "2023-07-21T22:10:30.746140Z",
     "iopub.status.idle": "2023-07-21T22:10:30.759819Z",
     "shell.execute_reply": "2023-07-21T22:10:30.758637Z",
     "shell.execute_reply.started": "2023-07-21T22:10:30.746582Z"
    },
    "papermill": {
     "duration": 0.106915,
     "end_time": "2021-02-08T08:52:41.080492",
     "exception": false,
     "start_time": "2021-02-08T08:52:40.973577",
     "status": "completed"
    },
    "tags": [],
    "trusted": true,
    "ExecuteTime": {
     "end_time": "2023-07-27T11:42:23.959473200Z",
     "start_time": "2023-07-27T11:42:23.648856300Z"
    }
   },
   "outputs": [
    {
     "data": {
      "text/plain": "shape: (2, 2)\n┌──────────┬───────┐\n│ Category ┆ count │\n│ ---      ┆ ---   │\n│ str      ┆ u32   │\n╞══════════╪═══════╡\n│ ham      ┆ 4825  │\n│ spam     ┆ 747   │\n└──────────┴───────┘",
      "text/html": "<div><style>\n.dataframe > thead > tr > th,\n.dataframe > tbody > tr > td {\n  text-align: right;\n}\n</style>\n<small>shape: (2, 2)</small><table border=\"1\" class=\"dataframe\"><thead><tr><th>Category</th><th>count</th></tr><tr><td>str</td><td>u32</td></tr></thead><tbody><tr><td>&quot;ham&quot;</td><td>4825</td></tr><tr><td>&quot;spam&quot;</td><td>747</td></tr></tbody></table></div>"
     },
     "execution_count": 24,
     "metadata": {},
     "output_type": "execute_result"
    }
   ],
   "source": [
    "data.groupby('Category').count()"
   ]
  },
  {
   "cell_type": "code",
   "execution_count": 25,
   "metadata": {
    "execution": {
     "iopub.execute_input": "2023-07-21T22:10:30.762478Z",
     "iopub.status.busy": "2023-07-21T22:10:30.762020Z",
     "iopub.status.idle": "2023-07-21T22:10:30.773022Z",
     "shell.execute_reply": "2023-07-21T22:10:30.771809Z",
     "shell.execute_reply.started": "2023-07-21T22:10:30.762435Z"
    },
    "papermill": {
     "duration": 0.045957,
     "end_time": "2021-02-08T08:52:41.608830",
     "exception": false,
     "start_time": "2021-02-08T08:52:41.562873",
     "status": "completed"
    },
    "tags": [],
    "trusted": true,
    "ExecuteTime": {
     "end_time": "2023-07-27T11:42:23.972511900Z",
     "start_time": "2023-07-27T11:42:23.778475100Z"
    }
   },
   "outputs": [],
   "source": [
    "ham_msg = data.filter(pl.col('Category') == 'ham')\n",
    "spam_msg = data.filter(pl.col('Category') == 'spam')"
   ]
  },
  {
   "cell_type": "code",
   "execution_count": 26,
   "metadata": {
    "execution": {
     "iopub.execute_input": "2023-07-21T22:10:30.775678Z",
     "iopub.status.busy": "2023-07-21T22:10:30.775214Z",
     "iopub.status.idle": "2023-07-21T22:10:30.787353Z",
     "shell.execute_reply": "2023-07-21T22:10:30.786145Z",
     "shell.execute_reply.started": "2023-07-21T22:10:30.775637Z"
    },
    "papermill": {
     "duration": 0.044657,
     "end_time": "2021-02-08T08:52:41.684788",
     "exception": false,
     "start_time": "2021-02-08T08:52:41.640131",
     "status": "completed"
    },
    "tags": [],
    "trusted": true,
    "ExecuteTime": {
     "end_time": "2023-07-27T11:42:23.973511100Z",
     "start_time": "2023-07-27T11:42:23.789480100Z"
    }
   },
   "outputs": [],
   "source": [
    "#randomly taking data from ham_ msg\n",
    "ham_msg = ham_msg.sample(n=len(spam_msg))"
   ]
  },
  {
   "cell_type": "code",
   "execution_count": 27,
   "metadata": {
    "execution": {
     "iopub.execute_input": "2023-07-21T22:10:30.791214Z",
     "iopub.status.busy": "2023-07-21T22:10:30.790459Z",
     "iopub.status.idle": "2023-07-21T22:10:30.802644Z",
     "shell.execute_reply": "2023-07-21T22:10:30.801502Z",
     "shell.execute_reply.started": "2023-07-21T22:10:30.791168Z"
    },
    "papermill": {
     "duration": 0.042903,
     "end_time": "2021-02-08T08:52:41.760274",
     "exception": false,
     "start_time": "2021-02-08T08:52:41.717371",
     "status": "completed"
    },
    "tags": [],
    "trusted": true,
    "ExecuteTime": {
     "end_time": "2023-07-27T11:42:23.973511100Z",
     "start_time": "2023-07-27T11:42:23.808479300Z"
    }
   },
   "outputs": [
    {
     "name": "stdout",
     "output_type": "stream",
     "text": [
      "(747, 2) (747, 2)\n"
     ]
    }
   ],
   "source": [
    "print(ham_msg.shape, spam_msg.shape)"
   ]
  },
  {
   "cell_type": "code",
   "execution_count": 28,
   "metadata": {
    "collapsed": false,
    "execution": {
     "iopub.execute_input": "2023-07-21T22:10:30.805095Z",
     "iopub.status.busy": "2023-07-21T22:10:30.804387Z",
     "iopub.status.idle": "2023-07-21T22:10:30.821067Z",
     "shell.execute_reply": "2023-07-21T22:10:30.819755Z",
     "shell.execute_reply.started": "2023-07-21T22:10:30.805053Z"
    },
    "jupyter": {
     "outputs_hidden": false
    },
    "trusted": true,
    "ExecuteTime": {
     "end_time": "2023-07-27T11:42:23.974474500Z",
     "start_time": "2023-07-27T11:42:23.825481800Z"
    }
   },
   "outputs": [
    {
     "data": {
      "text/plain": "shape: (5_572, 2)\n┌──────────┬───────────────────────────────────┐\n│ Category ┆ Message                           │\n│ ---      ┆ ---                               │\n│ str      ┆ str                               │\n╞══════════╪═══════════════════════════════════╡\n│ ham      ┆ Go until jurong point, crazy.. A… │\n│ ham      ┆ Ok lar... Joking wif u oni...     │\n│ spam     ┆ Free entry in 2 a wkly comp to w… │\n│ ham      ┆ U dun say so early hor... U c al… │\n│ …        ┆ …                                 │\n│ ham      ┆ Will ü b going to esplanade fr h… │\n│ ham      ┆ Pity, * was in mood for that. So… │\n│ ham      ┆ The guy did some bitching but I … │\n│ ham      ┆ Rofl. Its true to its name        │\n└──────────┴───────────────────────────────────┘",
      "text/html": "<div><style>\n.dataframe > thead > tr > th,\n.dataframe > tbody > tr > td {\n  text-align: right;\n}\n</style>\n<small>shape: (5_572, 2)</small><table border=\"1\" class=\"dataframe\"><thead><tr><th>Category</th><th>Message</th></tr><tr><td>str</td><td>str</td></tr></thead><tbody><tr><td>&quot;ham&quot;</td><td>&quot;Go until juron…</td></tr><tr><td>&quot;ham&quot;</td><td>&quot;Ok lar... Joki…</td></tr><tr><td>&quot;spam&quot;</td><td>&quot;Free entry in …</td></tr><tr><td>&quot;ham&quot;</td><td>&quot;U dun say so e…</td></tr><tr><td>&quot;ham&quot;</td><td>&quot;Nah I don&#x27;t th…</td></tr><tr><td>&quot;spam&quot;</td><td>&quot;FreeMsg Hey th…</td></tr><tr><td>&quot;ham&quot;</td><td>&quot;Even my brothe…</td></tr><tr><td>&quot;ham&quot;</td><td>&quot;As per your re…</td></tr><tr><td>&quot;spam&quot;</td><td>&quot;WINNER!! As a …</td></tr><tr><td>&quot;spam&quot;</td><td>&quot;Had your mobil…</td></tr><tr><td>&quot;ham&quot;</td><td>&quot;I&#x27;m gonna be h…</td></tr><tr><td>&quot;spam&quot;</td><td>&quot;SIX chances to…</td></tr><tr><td>&hellip;</td><td>&hellip;</td></tr><tr><td>&quot;ham&quot;</td><td>&quot;Anything lor. …</td></tr><tr><td>&quot;ham&quot;</td><td>&quot;Get me out of …</td></tr><tr><td>&quot;ham&quot;</td><td>&quot;Ok lor... Sony…</td></tr><tr><td>&quot;ham&quot;</td><td>&quot;Ard 6 like dat…</td></tr><tr><td>&quot;ham&quot;</td><td>&quot;Why don&#x27;t you …</td></tr><tr><td>&quot;ham&quot;</td><td>&quot;Huh y lei...&quot;</td></tr><tr><td>&quot;spam&quot;</td><td>&quot;REMINDER FROM …</td></tr><tr><td>&quot;spam&quot;</td><td>&quot;This is the 2n…</td></tr><tr><td>&quot;ham&quot;</td><td>&quot;Will ü b going…</td></tr><tr><td>&quot;ham&quot;</td><td>&quot;Pity, * was in…</td></tr><tr><td>&quot;ham&quot;</td><td>&quot;The guy did so…</td></tr><tr><td>&quot;ham&quot;</td><td>&quot;Rofl. Its true…</td></tr></tbody></table></div>"
     },
     "execution_count": 28,
     "metadata": {},
     "output_type": "execute_result"
    }
   ],
   "source": [
    "data"
   ]
  },
  {
   "cell_type": "code",
   "execution_count": 29,
   "metadata": {
    "collapsed": false,
    "execution": {
     "iopub.execute_input": "2023-07-21T22:10:30.823899Z",
     "iopub.status.busy": "2023-07-21T22:10:30.823354Z",
     "iopub.status.idle": "2023-07-21T22:10:30.833783Z",
     "shell.execute_reply": "2023-07-21T22:10:30.831790Z",
     "shell.execute_reply.started": "2023-07-21T22:10:30.823851Z"
    },
    "jupyter": {
     "outputs_hidden": false
    },
    "trusted": true,
    "ExecuteTime": {
     "end_time": "2023-07-27T11:42:23.974474500Z",
     "start_time": "2023-07-27T11:42:23.840477100Z"
    }
   },
   "outputs": [],
   "source": [
    "balanced_data = ham_msg.vstack(spam_msg)\n",
    "balanced_data = balanced_data.with_columns(\n",
    "    pl.when(pl.col(\"Category\") == 'spam').then(1).otherwise(0).alias('Category')\n",
    ")"
   ]
  },
  {
   "cell_type": "code",
   "execution_count": 30,
   "metadata": {
    "collapsed": false,
    "execution": {
     "iopub.execute_input": "2023-07-21T22:10:30.838694Z",
     "iopub.status.busy": "2023-07-21T22:10:30.838211Z",
     "iopub.status.idle": "2023-07-21T22:10:30.853491Z",
     "shell.execute_reply": "2023-07-21T22:10:30.851637Z",
     "shell.execute_reply.started": "2023-07-21T22:10:30.838655Z"
    },
    "jupyter": {
     "outputs_hidden": false
    },
    "trusted": true,
    "ExecuteTime": {
     "end_time": "2023-07-27T11:42:23.975477Z",
     "start_time": "2023-07-27T11:42:23.857480700Z"
    }
   },
   "outputs": [
    {
     "data": {
      "text/plain": "shape: (1_494, 2)\n┌──────────┬───────────────────────────────────┐\n│ Category ┆ Message                           │\n│ ---      ┆ ---                               │\n│ i32      ┆ str                               │\n╞══════════╪═══════════════════════════════════╡\n│ 0        ┆ Ok i found dis pierre cardin one… │\n│ 0        ┆ I havent lei.. Next mon can?      │\n│ 0        ┆ Haha figures, well I found the p… │\n│ 0        ┆ Hey chief, can you give me a bel… │\n│ …        ┆ …                                 │\n│ 1        ┆ ASKED 3MOBILE IF 0870 CHATLINES … │\n│ 1        ┆ Had your contract mobile 11 Mnth… │\n│ 1        ┆ REMINDER FROM O2: To get 2.50 po… │\n│ 1        ┆ This is the 2nd time we have tri… │\n└──────────┴───────────────────────────────────┘",
      "text/html": "<div><style>\n.dataframe > thead > tr > th,\n.dataframe > tbody > tr > td {\n  text-align: right;\n}\n</style>\n<small>shape: (1_494, 2)</small><table border=\"1\" class=\"dataframe\"><thead><tr><th>Category</th><th>Message</th></tr><tr><td>i32</td><td>str</td></tr></thead><tbody><tr><td>0</td><td>&quot;Ok i found dis…</td></tr><tr><td>0</td><td>&quot;I havent lei..…</td></tr><tr><td>0</td><td>&quot;Haha figures, …</td></tr><tr><td>0</td><td>&quot;Hey chief, can…</td></tr><tr><td>0</td><td>&quot;Even my brothe…</td></tr><tr><td>0</td><td>&quot;Thx. All will …</td></tr><tr><td>0</td><td>&quot;You intrepid d…</td></tr><tr><td>0</td><td>&quot;Sweet heart ho…</td></tr><tr><td>0</td><td>&quot;Hi Jon, Pete h…</td></tr><tr><td>0</td><td>&quot;Lmao!nice 1&quot;</td></tr><tr><td>0</td><td>&quot;Eh u remember …</td></tr><tr><td>0</td><td>&quot;Lol alright i …</td></tr><tr><td>&hellip;</td><td>&hellip;</td></tr><tr><td>1</td><td>&quot;URGENT We are …</td></tr><tr><td>1</td><td>&quot;2p per min to …</td></tr><tr><td>1</td><td>&quot;Marvel Mobile …</td></tr><tr><td>1</td><td>&quot;SMS SERVICES. …</td></tr><tr><td>1</td><td>&quot;PRIVATE! Your …</td></tr><tr><td>1</td><td>&quot;You are awarde…</td></tr><tr><td>1</td><td>&quot;PRIVATE! Your …</td></tr><tr><td>1</td><td>&quot;Want explicit …</td></tr><tr><td>1</td><td>&quot;ASKED 3MOBILE …</td></tr><tr><td>1</td><td>&quot;Had your contr…</td></tr><tr><td>1</td><td>&quot;REMINDER FROM …</td></tr><tr><td>1</td><td>&quot;This is the 2n…</td></tr></tbody></table></div>"
     },
     "execution_count": 30,
     "metadata": {},
     "output_type": "execute_result"
    }
   ],
   "source": [
    "balanced_data"
   ]
  },
  {
   "cell_type": "code",
   "execution_count": 31,
   "metadata": {
    "execution": {
     "iopub.execute_input": "2023-07-21T22:10:30.856172Z",
     "iopub.status.busy": "2023-07-21T22:10:30.855759Z",
     "iopub.status.idle": "2023-07-21T22:10:30.869575Z",
     "shell.execute_reply": "2023-07-21T22:10:30.867719Z",
     "shell.execute_reply.started": "2023-07-21T22:10:30.856138Z"
    },
    "papermill": {
     "duration": 0.037443,
     "end_time": "2021-02-08T08:52:42.184497",
     "exception": false,
     "start_time": "2021-02-08T08:52:42.147054",
     "status": "completed"
    },
    "tags": [],
    "trusted": true,
    "ExecuteTime": {
     "end_time": "2023-07-27T11:42:23.975477Z",
     "start_time": "2023-07-27T11:42:23.875473400Z"
    }
   },
   "outputs": [],
   "source": [
    "X_train, X_test, Y_train, Y_test = train_test_split(\n",
    "    balanced_data['Message'],\n",
    "    balanced_data['Category'],\n",
    "    test_size=0.2,\n",
    "    random_state=42\n",
    ")"
   ]
  },
  {
   "cell_type": "code",
   "execution_count": 32,
   "metadata": {
    "collapsed": false,
    "ExecuteTime": {
     "end_time": "2023-07-27T11:42:23.975477Z",
     "start_time": "2023-07-27T11:42:23.889477500Z"
    }
   },
   "outputs": [
    {
     "data": {
      "text/plain": "array(['Printer is cool. I mean groovy. Wine is groovying',\n       'Nutter. Cutter. Ctter. Cttergg. Cttargg. Ctargg. Ctagg. ie you',\n       'Hello darling how are you today? I would love to have a chat, why dont you tell me what you look like and what you are in to sexy?',\n       ...,\n       'You have an important customer service announcement from PREMIER. Call FREEPHONE 0800 542 0578 now!',\n       'URGENT! Your Mobile number has been awarded with a £2000 prize GUARANTEED. Call 09061790126 from land line. Claim 3030. Valid 12hrs only 150ppm',\n       'How come it takes so little time for a child who is afraid of the dark to become a teenager who wants to stay out all night?'],\n      dtype=object)"
     },
     "execution_count": 32,
     "metadata": {},
     "output_type": "execute_result"
    }
   ],
   "source": [
    "X_train = np.array(X_train, dtype=np.chararray)\n",
    "X_test = np.array(X_test, dtype=np.chararray)\n",
    "X_train"
   ]
  },
  {
   "cell_type": "code",
   "execution_count": 33,
   "metadata": {
    "execution": {
     "iopub.execute_input": "2023-07-21T22:10:30.873464Z",
     "iopub.status.busy": "2023-07-21T22:10:30.872588Z",
     "iopub.status.idle": "2023-07-21T22:10:31.008908Z",
     "shell.execute_reply": "2023-07-21T22:10:31.007097Z",
     "shell.execute_reply.started": "2023-07-21T22:10:30.873406Z"
    },
    "trusted": true,
    "ExecuteTime": {
     "end_time": "2023-07-27T11:42:24.636408Z",
     "start_time": "2023-07-27T11:42:23.931479800Z"
    }
   },
   "outputs": [],
   "source": [
    "vocab_size = 10000\n",
    "sequence_length = 100\n",
    "\n",
    "# Create the layer.\n",
    "vectorized_layer = TextVectorization(\n",
    "    max_tokens=vocab_size,\n",
    "    output_mode='int',\n",
    "    output_sequence_length=sequence_length\n",
    ")\n",
    "\n",
    "X_test = tf.expand_dims(X_test, -1) # add a new dimension\n",
    "X_test = tf.squeeze(X_test, axis=1)\n",
    "\n",
    "X_train = tf.expand_dims(X_train, -1) # add a new dimension\n",
    "X_train = tf.squeeze(X_train, axis=1)\n",
    "\n",
    "vectorized_layer.adapt(X_test)\n",
    "vectorized_X_test = vectorized_layer(X_test)\n",
    "\n",
    "vectorized_layer.adapt(X_train)\n",
    "vectorized_X_train = vectorized_layer(X_train)"
   ]
  },
  {
   "cell_type": "code",
   "execution_count": 34,
   "metadata": {
    "ExecuteTime": {
     "end_time": "2023-07-27T11:42:24.676395200Z",
     "start_time": "2023-07-27T11:42:24.359394700Z"
    }
   },
   "outputs": [],
   "source": [
    "Y_train = np.array(Y_train, dtype=np.int64)\n",
    "Y_test = np.array(Y_test, dtype=np.int64)"
   ]
  },
  {
   "cell_type": "markdown",
   "source": [
    "# model"
   ],
   "metadata": {
    "collapsed": false
   }
  },
  {
   "cell_type": "code",
   "execution_count": 35,
   "metadata": {
    "execution": {
     "iopub.execute_input": "2023-07-21T22:10:31.142429Z",
     "iopub.status.busy": "2023-07-21T22:10:31.141861Z",
     "iopub.status.idle": "2023-07-21T22:10:31.211471Z",
     "shell.execute_reply": "2023-07-21T22:10:31.209952Z",
     "shell.execute_reply.started": "2023-07-21T22:10:31.142394Z"
    },
    "papermill": {
     "duration": 0.207504,
     "end_time": "2021-02-08T08:52:42.884963",
     "exception": false,
     "start_time": "2021-02-08T08:52:42.677459",
     "status": "completed"
    },
    "tags": [],
    "trusted": true,
    "ExecuteTime": {
     "end_time": "2023-07-27T11:42:24.678396700Z",
     "start_time": "2023-07-27T11:42:24.383403100Z"
    }
   },
   "outputs": [],
   "source": [
    "model = tf.keras.models.Sequential(\n",
    "    [\n",
    "        Embedding(vocab_size + 1, 100, input_length=sequence_length),\n",
    "        tf.keras.layers.Flatten(),\n",
    "        tf.keras.layers.Dense(64, activation='relu'),\n",
    "        tf.keras.layers.Dense(64, activation='relu'),\n",
    "        Dense(1, activation='sigmoid')\n",
    "    ]\n",
    ")"
   ]
  },
  {
   "cell_type": "code",
   "execution_count": 36,
   "metadata": {
    "execution": {
     "iopub.execute_input": "2023-07-21T22:10:31.214132Z",
     "iopub.status.busy": "2023-07-21T22:10:31.213282Z",
     "iopub.status.idle": "2023-07-21T22:10:31.232538Z",
     "shell.execute_reply": "2023-07-21T22:10:31.230979Z",
     "shell.execute_reply.started": "2023-07-21T22:10:31.214084Z"
    },
    "papermill": {
     "duration": 0.064816,
     "end_time": "2021-02-08T08:52:42.990022",
     "exception": false,
     "start_time": "2021-02-08T08:52:42.925206",
     "status": "completed"
    },
    "tags": [],
    "trusted": true,
    "ExecuteTime": {
     "end_time": "2023-07-27T11:42:24.755092Z",
     "start_time": "2023-07-27T11:42:24.486428900Z"
    }
   },
   "outputs": [],
   "source": [
    "model.compile(\n",
    "    loss=tf.keras.losses.BinaryCrossentropy(from_logits=True),\n",
    "    metrics=['accuracy'],\n",
    "    optimizer='adam'\n",
    ")"
   ]
  },
  {
   "cell_type": "code",
   "execution_count": 37,
   "metadata": {
    "collapsed": false,
    "ExecuteTime": {
     "end_time": "2023-07-27T11:43:13.697028Z",
     "start_time": "2023-07-27T11:42:24.520412800Z"
    }
   },
   "outputs": [
    {
     "name": "stdout",
     "output_type": "stream",
     "text": [
      "Epoch 1/50\n"
     ]
    },
    {
     "name": "stderr",
     "output_type": "stream",
     "text": [
      "C:\\Users\\moham\\anaconda3\\lib\\site-packages\\keras\\src\\backend.py:5805: UserWarning: \"`binary_crossentropy` received `from_logits=True`, but the `output` argument was produced by a Sigmoid activation and thus does not represent logits. Was this intended?\n",
      "  output, from_logits = _get_logits(\n"
     ]
    },
    {
     "name": "stdout",
     "output_type": "stream",
     "text": [
      "30/30 [==============================] - 3s 38ms/step - loss: 0.5172 - accuracy: 0.7490 - val_loss: 0.4102 - val_accuracy: 0.8285\n",
      "Epoch 2/50\n",
      "30/30 [==============================] - 1s 30ms/step - loss: 0.2640 - accuracy: 0.9038 - val_loss: 0.2310 - val_accuracy: 0.9121\n",
      "Epoch 3/50\n",
      "30/30 [==============================] - 1s 29ms/step - loss: 0.0961 - accuracy: 0.9759 - val_loss: 0.2122 - val_accuracy: 0.9121\n",
      "Epoch 4/50\n",
      "30/30 [==============================] - 1s 29ms/step - loss: 0.0399 - accuracy: 0.9927 - val_loss: 0.2144 - val_accuracy: 0.9247\n",
      "Epoch 5/50\n",
      "30/30 [==============================] - 1s 32ms/step - loss: 0.0160 - accuracy: 0.9948 - val_loss: 0.1698 - val_accuracy: 0.9331\n",
      "Epoch 6/50\n",
      "30/30 [==============================] - 1s 31ms/step - loss: 0.0054 - accuracy: 0.9990 - val_loss: 0.1871 - val_accuracy: 0.9372\n",
      "Epoch 7/50\n",
      "30/30 [==============================] - 1s 30ms/step - loss: 0.0025 - accuracy: 1.0000 - val_loss: 0.1824 - val_accuracy: 0.9372\n",
      "Epoch 8/50\n",
      "30/30 [==============================] - 1s 32ms/step - loss: 0.0013 - accuracy: 1.0000 - val_loss: 0.1867 - val_accuracy: 0.9372\n",
      "Epoch 9/50\n",
      "30/30 [==============================] - 1s 31ms/step - loss: 9.0271e-04 - accuracy: 1.0000 - val_loss: 0.1903 - val_accuracy: 0.9372\n",
      "Epoch 10/50\n",
      "30/30 [==============================] - 1s 33ms/step - loss: 6.9244e-04 - accuracy: 1.0000 - val_loss: 0.1934 - val_accuracy: 0.9372\n",
      "Epoch 11/50\n",
      "30/30 [==============================] - 1s 30ms/step - loss: 4.9911e-04 - accuracy: 1.0000 - val_loss: 0.1952 - val_accuracy: 0.9372\n",
      "Epoch 12/50\n",
      "30/30 [==============================] - 1s 30ms/step - loss: 3.8120e-04 - accuracy: 1.0000 - val_loss: 0.1977 - val_accuracy: 0.9372\n",
      "Epoch 13/50\n",
      "30/30 [==============================] - 1s 29ms/step - loss: 3.1788e-04 - accuracy: 1.0000 - val_loss: 0.1993 - val_accuracy: 0.9372\n",
      "Epoch 14/50\n",
      "30/30 [==============================] - 1s 31ms/step - loss: 2.5756e-04 - accuracy: 1.0000 - val_loss: 0.2013 - val_accuracy: 0.9372\n",
      "Epoch 15/50\n",
      "30/30 [==============================] - 1s 34ms/step - loss: 2.1765e-04 - accuracy: 1.0000 - val_loss: 0.2031 - val_accuracy: 0.9372\n",
      "Epoch 16/50\n",
      "30/30 [==============================] - 1s 33ms/step - loss: 1.9314e-04 - accuracy: 1.0000 - val_loss: 0.2051 - val_accuracy: 0.9414\n",
      "Epoch 17/50\n",
      "30/30 [==============================] - 1s 33ms/step - loss: 1.6433e-04 - accuracy: 1.0000 - val_loss: 0.2065 - val_accuracy: 0.9414\n",
      "Epoch 18/50\n",
      "30/30 [==============================] - 1s 35ms/step - loss: 1.4288e-04 - accuracy: 1.0000 - val_loss: 0.2078 - val_accuracy: 0.9372\n",
      "Epoch 19/50\n",
      "30/30 [==============================] - 1s 32ms/step - loss: 1.2649e-04 - accuracy: 1.0000 - val_loss: 0.2095 - val_accuracy: 0.9414\n",
      "Epoch 20/50\n",
      "30/30 [==============================] - 1s 32ms/step - loss: 1.1277e-04 - accuracy: 1.0000 - val_loss: 0.2106 - val_accuracy: 0.9414\n",
      "Epoch 21/50\n",
      "30/30 [==============================] - 1s 34ms/step - loss: 1.0092e-04 - accuracy: 1.0000 - val_loss: 0.2118 - val_accuracy: 0.9414\n",
      "Epoch 22/50\n",
      "30/30 [==============================] - 1s 33ms/step - loss: 9.1533e-05 - accuracy: 1.0000 - val_loss: 0.2132 - val_accuracy: 0.9414\n",
      "Epoch 23/50\n",
      "30/30 [==============================] - 1s 32ms/step - loss: 8.2645e-05 - accuracy: 1.0000 - val_loss: 0.2142 - val_accuracy: 0.9414\n",
      "Epoch 24/50\n",
      "30/30 [==============================] - 1s 32ms/step - loss: 7.5406e-05 - accuracy: 1.0000 - val_loss: 0.2154 - val_accuracy: 0.9414\n",
      "Epoch 25/50\n",
      "30/30 [==============================] - 1s 32ms/step - loss: 6.8968e-05 - accuracy: 1.0000 - val_loss: 0.2166 - val_accuracy: 0.9414\n",
      "Epoch 26/50\n",
      "30/30 [==============================] - 1s 31ms/step - loss: 6.3661e-05 - accuracy: 1.0000 - val_loss: 0.2176 - val_accuracy: 0.9414\n",
      "Epoch 27/50\n",
      "30/30 [==============================] - 1s 32ms/step - loss: 5.8501e-05 - accuracy: 1.0000 - val_loss: 0.2185 - val_accuracy: 0.9414\n",
      "Epoch 28/50\n",
      "30/30 [==============================] - 1s 33ms/step - loss: 5.3914e-05 - accuracy: 1.0000 - val_loss: 0.2196 - val_accuracy: 0.9414\n",
      "Epoch 29/50\n",
      "30/30 [==============================] - 1s 32ms/step - loss: 5.0163e-05 - accuracy: 1.0000 - val_loss: 0.2207 - val_accuracy: 0.9414\n",
      "Epoch 30/50\n",
      "30/30 [==============================] - 1s 31ms/step - loss: 4.6657e-05 - accuracy: 1.0000 - val_loss: 0.2216 - val_accuracy: 0.9414\n",
      "Epoch 31/50\n",
      "30/30 [==============================] - 1s 32ms/step - loss: 4.3345e-05 - accuracy: 1.0000 - val_loss: 0.2224 - val_accuracy: 0.9414\n",
      "Epoch 32/50\n",
      "30/30 [==============================] - 1s 31ms/step - loss: 4.0757e-05 - accuracy: 1.0000 - val_loss: 0.2233 - val_accuracy: 0.9414\n",
      "Epoch 33/50\n",
      "30/30 [==============================] - 1s 32ms/step - loss: 3.8157e-05 - accuracy: 1.0000 - val_loss: 0.2242 - val_accuracy: 0.9414\n",
      "Epoch 34/50\n",
      "30/30 [==============================] - 1s 31ms/step - loss: 3.5647e-05 - accuracy: 1.0000 - val_loss: 0.2250 - val_accuracy: 0.9414\n",
      "Epoch 35/50\n",
      "30/30 [==============================] - 1s 36ms/step - loss: 3.3639e-05 - accuracy: 1.0000 - val_loss: 0.2259 - val_accuracy: 0.9414\n",
      "Epoch 36/50\n",
      "30/30 [==============================] - 1s 33ms/step - loss: 3.1469e-05 - accuracy: 1.0000 - val_loss: 0.2267 - val_accuracy: 0.9414\n",
      "Epoch 37/50\n",
      "30/30 [==============================] - 1s 33ms/step - loss: 2.9753e-05 - accuracy: 1.0000 - val_loss: 0.2276 - val_accuracy: 0.9414\n",
      "Epoch 38/50\n",
      "30/30 [==============================] - 1s 31ms/step - loss: 2.8048e-05 - accuracy: 1.0000 - val_loss: 0.2283 - val_accuracy: 0.9414\n",
      "Epoch 39/50\n",
      "30/30 [==============================] - 1s 31ms/step - loss: 2.6500e-05 - accuracy: 1.0000 - val_loss: 0.2290 - val_accuracy: 0.9414\n",
      "Epoch 40/50\n",
      "30/30 [==============================] - 1s 31ms/step - loss: 2.5020e-05 - accuracy: 1.0000 - val_loss: 0.2298 - val_accuracy: 0.9414\n",
      "Epoch 41/50\n",
      "30/30 [==============================] - 1s 30ms/step - loss: 2.3773e-05 - accuracy: 1.0000 - val_loss: 0.2305 - val_accuracy: 0.9414\n",
      "Epoch 42/50\n",
      "30/30 [==============================] - 1s 32ms/step - loss: 2.2613e-05 - accuracy: 1.0000 - val_loss: 0.2312 - val_accuracy: 0.9414\n",
      "Epoch 43/50\n",
      "30/30 [==============================] - 1s 31ms/step - loss: 2.1391e-05 - accuracy: 1.0000 - val_loss: 0.2319 - val_accuracy: 0.9414\n",
      "Epoch 44/50\n",
      "30/30 [==============================] - 1s 32ms/step - loss: 2.0331e-05 - accuracy: 1.0000 - val_loss: 0.2326 - val_accuracy: 0.9414\n",
      "Epoch 45/50\n",
      "30/30 [==============================] - 1s 30ms/step - loss: 1.9384e-05 - accuracy: 1.0000 - val_loss: 0.2332 - val_accuracy: 0.9414\n",
      "Epoch 46/50\n",
      "30/30 [==============================] - 1s 32ms/step - loss: 1.8461e-05 - accuracy: 1.0000 - val_loss: 0.2339 - val_accuracy: 0.9414\n",
      "Epoch 47/50\n",
      "30/30 [==============================] - 1s 30ms/step - loss: 1.7621e-05 - accuracy: 1.0000 - val_loss: 0.2344 - val_accuracy: 0.9414\n",
      "Epoch 48/50\n",
      "30/30 [==============================] - 1s 31ms/step - loss: 1.6822e-05 - accuracy: 1.0000 - val_loss: 0.2351 - val_accuracy: 0.9414\n",
      "Epoch 49/50\n",
      "30/30 [==============================] - 1s 30ms/step - loss: 1.6110e-05 - accuracy: 1.0000 - val_loss: 0.2357 - val_accuracy: 0.9414\n",
      "Epoch 50/50\n",
      "30/30 [==============================] - 1s 34ms/step - loss: 1.5366e-05 - accuracy: 1.0000 - val_loss: 0.2364 - val_accuracy: 0.9414\n"
     ]
    }
   ],
   "source": [
    "history = model.fit(\n",
    "    vectorized_X_train,\n",
    "    Y_train,\n",
    "    epochs=50,\n",
    "    validation_split=0.2,\n",
    ")"
   ]
  },
  {
   "cell_type": "code",
   "execution_count": 38,
   "metadata": {
    "execution": {
     "iopub.status.busy": "2023-07-21T22:10:31.398905Z",
     "iopub.status.idle": "2023-07-21T22:10:31.399369Z",
     "shell.execute_reply": "2023-07-21T22:10:31.399153Z",
     "shell.execute_reply.started": "2023-07-21T22:10:31.399133Z"
    },
    "papermill": {
     "duration": 0.134887,
     "end_time": "2021-02-08T08:52:49.954736",
     "exception": false,
     "start_time": "2021-02-08T08:52:49.819849",
     "status": "completed"
    },
    "tags": [],
    "trusted": true,
    "ExecuteTime": {
     "end_time": "2023-07-27T11:43:13.932261900Z",
     "start_time": "2023-07-27T11:43:13.701573500Z"
    }
   },
   "outputs": [
    {
     "name": "stdout",
     "output_type": "stream",
     "text": [
      "10/10 [==============================] - 0s 4ms/step - loss: 1.4281 - accuracy: 0.7291\n"
     ]
    },
    {
     "data": {
      "text/plain": "[1.4281102418899536, 0.7290970087051392]"
     },
     "execution_count": 38,
     "metadata": {},
     "output_type": "execute_result"
    }
   ],
   "source": [
    "model.evaluate(\n",
    "    vectorized_X_test,\n",
    "    Y_test\n",
    ")"
   ]
  },
  {
   "cell_type": "code",
   "execution_count": 39,
   "metadata": {
    "execution": {
     "iopub.status.busy": "2023-07-21T22:10:31.401332Z",
     "iopub.status.idle": "2023-07-21T22:10:31.402119Z",
     "shell.execute_reply": "2023-07-21T22:10:31.401753Z",
     "shell.execute_reply.started": "2023-07-21T22:10:31.401723Z"
    },
    "papermill": {
     "duration": 0.228343,
     "end_time": "2021-02-08T08:52:50.233981",
     "exception": false,
     "start_time": "2021-02-08T08:52:50.005638",
     "status": "completed"
    },
    "tags": [],
    "trusted": true,
    "ExecuteTime": {
     "end_time": "2023-07-27T11:43:14.273310100Z",
     "start_time": "2023-07-27T11:43:13.893233300Z"
    }
   },
   "outputs": [
    {
     "data": {
      "text/plain": "<matplotlib.legend.Legend at 0x1e4ffe7c9d0>"
     },
     "execution_count": 39,
     "metadata": {},
     "output_type": "execute_result"
    },
    {
     "data": {
      "text/plain": "<Figure size 640x480 with 1 Axes>",
      "image/png": "[encoded data removed]"
     },
     "metadata": {},
     "output_type": "display_data"
    }
   ],
   "source": [
    "plt.plot(history.history['accuracy'])\n",
    "plt.plot(history.history['val_accuracy'])\n",
    "plt.title('model accuracy')\n",
    "plt.ylabel('accuracy')\n",
    "plt.xlabel('epoch')\n",
    "plt.legend(['train', 'valid'])"
   ]
  },
  {
   "cell_type": "code",
   "execution_count": 40,
   "metadata": {
    "execution": {
     "iopub.status.busy": "2023-07-21T22:10:31.404331Z",
     "iopub.status.idle": "2023-07-21T22:10:31.404925Z",
     "shell.execute_reply": "2023-07-21T22:10:31.404653Z",
     "shell.execute_reply.started": "2023-07-21T22:10:31.404625Z"
    },
    "papermill": {
     "duration": 0.060302,
     "end_time": "2021-02-08T08:52:50.344966",
     "exception": false,
     "start_time": "2021-02-08T08:52:50.284664",
     "status": "completed"
    },
    "tags": [],
    "trusted": true,
    "ExecuteTime": {
     "end_time": "2023-07-27T11:43:14.423487600Z",
     "start_time": "2023-07-27T11:43:14.277693200Z"
    }
   },
   "outputs": [],
   "source": [
    "predict_msg = [\n",
    "    \"Go until jurong point, crazy.. Available only in bugis n great world la e buffet... Cine there got amore wat...\",\n",
    "    \"Ok lar... Joking wif u oni...\",\n",
    "    \"Free entry in 2 a wkly comp to win FA Cup final tkts 21st May 2005. Text FA to 87121 to receive entry question(std txt rate)T&C's apply 08452810075over18's\"]"
   ]
  },
  {
   "cell_type": "code",
   "execution_count": 41,
   "metadata": {
    "execution": {
     "iopub.status.busy": "2023-07-21T22:10:31.407782Z",
     "iopub.status.idle": "2023-07-21T22:10:31.408369Z",
     "shell.execute_reply": "2023-07-21T22:10:31.408108Z",
     "shell.execute_reply.started": "2023-07-21T22:10:31.408081Z"
    },
    "papermill": {
     "duration": 0.18574,
     "end_time": "2021-02-08T08:52:50.578092",
     "exception": false,
     "start_time": "2021-02-08T08:52:50.392352",
     "status": "completed"
    },
    "tags": [],
    "trusted": true,
    "ExecuteTime": {
     "end_time": "2023-07-27T11:43:14.606483400Z",
     "start_time": "2023-07-27T11:43:14.292710200Z"
    }
   },
   "outputs": [
    {
     "name": "stdout",
     "output_type": "stream",
     "text": [
      "1/1 [==============================] - 0s 108ms/step\n"
     ]
    },
    {
     "data": {
      "text/plain": "array([[0.999585  ],\n       [0.06891108],\n       [0.21795009]], dtype=float32)"
     },
     "execution_count": 41,
     "metadata": {},
     "output_type": "execute_result"
    }
   ],
   "source": [
    "vectorized_layer.adapt(predict_msg)\n",
    "vectorized_predict_msg = vectorized_layer(predict_msg)\n",
    "model.predict(vectorized_predict_msg)"
   ]
  }
 ],
 "metadata": {
  "kernelspec": {
   "display_name": "Python 3",
   "language": "python",
   "name": "python3"
  },
  "language_info": {
   "codemirror_mode": {
    "name": "ipython",
    "version": 3
   },
   "file_extension": ".py",
   "mimetype": "text/x-python",
   "name": "python",
   "nbconvert_exporter": "python",
   "pygments_lexer": "ipython3",
   "version": "3.10.12"
  },
  "papermill": {
   "default_parameters": {},
   "duration": 32.053119,
   "end_time": "2021-02-08T08:52:52.370459",
   "environment_variables": {},
   "exception": null,
   "input_path": "__notebook__.ipynb",
   "output_path": "__notebook__.ipynb",
   "parameters": {},
   "start_time": "2021-02-08T08:52:20.317340",
   "version": "2.2.2"
  }
 },
 "nbformat": 4,
 "nbformat_minor": 4
}
