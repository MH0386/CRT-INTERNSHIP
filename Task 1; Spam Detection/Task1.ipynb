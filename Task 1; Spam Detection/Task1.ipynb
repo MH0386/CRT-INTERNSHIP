{
 "cells": [
  {
   "cell_type": "code",
   "execution_count": 16,
   "outputs": [],
   "source": [
    "import numpy as np\n",
    "import pandas as pd\n",
    "import matplotlib.pyplot as plt\n",
    "import os\n",
    "from os import walk\n",
    "import tensorflow as tf\n",
    "from tensorflow import keras\n",
    "import tensorflow_datasets\n",
    "from tensorflow.keras.datasets import mnist\n",
    "import tensorflow_datasets as tfds"
   ],
   "metadata": {
    "collapsed": false,
    "ExecuteTime": {
     "end_time": "2023-07-16T17:31:12.368088500Z",
     "start_time": "2023-07-16T17:31:12.161539700Z"
    }
   }
  },
  {
   "cell_type": "code",
   "execution_count": 17,
   "outputs": [
    {
     "data": {
      "text/plain": "'2.13.0'"
     },
     "execution_count": 17,
     "metadata": {},
     "output_type": "execute_result"
    }
   ],
   "source": [
    "tf.__version__"
   ],
   "metadata": {
    "collapsed": false,
    "ExecuteTime": {
     "end_time": "2023-07-16T17:31:12.374606900Z",
     "start_time": "2023-07-16T17:31:12.223601500Z"
    }
   }
  },
  {
   "cell_type": "code",
   "execution_count": 18,
   "outputs": [
    {
     "data": {
      "text/plain": "True"
     },
     "execution_count": 18,
     "metadata": {},
     "output_type": "execute_result"
    }
   ],
   "source": [
    "tf.test.is_built_with_cuda()"
   ],
   "metadata": {
    "collapsed": false,
    "ExecuteTime": {
     "end_time": "2023-07-16T17:31:12.376606400Z",
     "start_time": "2023-07-16T17:31:12.224602100Z"
    }
   }
  },
  {
   "cell_type": "code",
   "execution_count": 19,
   "outputs": [
    {
     "data": {
      "text/plain": "[]"
     },
     "execution_count": 19,
     "metadata": {},
     "output_type": "execute_result"
    }
   ],
   "source": [
    "tf.config.list_physical_devices('GPU')"
   ],
   "metadata": {
    "collapsed": false,
    "ExecuteTime": {
     "end_time": "2023-07-16T17:31:12.376606400Z",
     "start_time": "2023-07-16T17:31:12.224602100Z"
    }
   }
  },
  {
   "cell_type": "code",
   "execution_count": 20,
   "outputs": [],
   "source": [
    "(x_train, y_train), (x_test, y_test) = mnist.load_data()"
   ],
   "metadata": {
    "collapsed": false,
    "ExecuteTime": {
     "end_time": "2023-07-16T17:31:12.600209400Z",
     "start_time": "2023-07-16T17:31:12.224602100Z"
    }
   }
  },
  {
   "cell_type": "code",
   "execution_count": 21,
   "outputs": [
    {
     "data": {
      "text/plain": "<tensorflow_datasets.video.ucf101.Ucf101 at 0x7fc0711ce050>"
     },
     "execution_count": 21,
     "metadata": {},
     "output_type": "execute_result"
    }
   ],
   "source": [
    "ucf101 = tensorflow_datasets.video.ucf101.Ucf101()\n",
    "ucf101"
   ],
   "metadata": {
    "collapsed": false,
    "ExecuteTime": {
     "end_time": "2023-07-16T17:31:16.357396900Z",
     "start_time": "2023-07-16T17:31:12.601227300Z"
    }
   }
  },
  {
   "cell_type": "code",
   "execution_count": 22,
   "outputs": [
    {
     "ename": "AttributeError",
     "evalue": "module 'tensorflow_datasets' has no attribute 'load_dataset'",
     "output_type": "error",
     "traceback": [
      "\u001B[0;31m---------------------------------------------------------------------------\u001B[0m",
      "\u001B[0;31mAttributeError\u001B[0m                            Traceback (most recent call last)",
      "Cell \u001B[0;32mIn[22], line 1\u001B[0m\n\u001B[0;32m----> 1\u001B[0m dataset \u001B[38;5;241m=\u001B[39m tfds\u001B[38;5;241m.\u001B[39mload_dataset(\u001B[38;5;124m'\u001B[39m\u001B[38;5;124mucf101\u001B[39m\u001B[38;5;124m'\u001B[39m)\n",
      "\u001B[0;31mAttributeError\u001B[0m: module 'tensorflow_datasets' has no attribute 'load_dataset'"
     ]
    }
   ],
   "source": [
    "dataset = tfds.load_dataset('ucf101')"
   ],
   "metadata": {
    "collapsed": false,
    "ExecuteTime": {
     "end_time": "2023-07-16T17:31:16.361923100Z",
     "start_time": "2023-07-16T17:31:16.357396900Z"
    }
   }
  },
  {
   "cell_type": "code",
   "execution_count": 24,
   "outputs": [
    {
     "name": "stdout",
     "output_type": "stream",
     "text": [
      "\u001B[1mDownloading and preparing dataset 6.48 GiB (download: 6.48 GiB, generated: Unknown size, total: 6.48 GiB) to /home/mohamed/tensorflow_datasets/ucf101/ucf101_1_256/2.0.0...\u001B[0m\n"
     ]
    },
    {
     "name": "stderr",
     "output_type": "stream",
     "text": [
      "WARNING:urllib3.connectionpool:Retrying (Retry(total=1, connect=None, read=None, redirect=None, status=None)) after connection broken by 'SSLError(SSLCertVerificationError(1, '[SSL: CERTIFICATE_VERIFY_FAILED] certificate verify failed: unable to get local issuer certificate (_ssl.c:1002)'))': /data/UCF101/UCF101TrainTestSplits-RecognitionTask.zip\n"
     ]
    },
    {
     "data": {
      "text/plain": "Dl Completed...: 0 url [00:00, ? url/s]",
      "application/vnd.jupyter.widget-view+json": {
       "version_major": 2,
       "version_minor": 0,
       "model_id": "4bb431e76250471383a0ed20e692139f"
      }
     },
     "metadata": {},
     "output_type": "display_data"
    },
    {
     "data": {
      "text/plain": "Dl Size...: 0 MiB [00:00, ? MiB/s]",
      "application/vnd.jupyter.widget-view+json": {
       "version_major": 2,
       "version_minor": 0,
       "model_id": "067688cbf4ca43a981e16da794573df5"
      }
     },
     "metadata": {},
     "output_type": "display_data"
    },
    {
     "data": {
      "text/plain": "Extraction completed...: 0 file [00:00, ? file/s]",
      "application/vnd.jupyter.widget-view+json": {
       "version_major": 2,
       "version_minor": 0,
       "model_id": "177afb58e56e4ae3bb479c8f0a6b538a"
      }
     },
     "metadata": {},
     "output_type": "display_data"
    },
    {
     "name": "stderr",
     "output_type": "stream",
     "text": [
      "WARNING:urllib3.connectionpool:Retrying (Retry(total=9, connect=None, read=None, redirect=None, status=None)) after connection broken by 'SSLError(SSLCertVerificationError(1, '[SSL: CERTIFICATE_VERIFY_FAILED] certificate verify failed: unable to get local issuer certificate (_ssl.c:1002)'))': /data/UCF101/UCF101TrainTestSplits-RecognitionTask.zip\n",
      "WARNING:urllib3.connectionpool:Retrying (Retry(total=8, connect=None, read=None, redirect=None, status=None)) after connection broken by 'SSLError(SSLCertVerificationError(1, '[SSL: CERTIFICATE_VERIFY_FAILED] certificate verify failed: unable to get local issuer certificate (_ssl.c:1002)'))': /data/UCF101/UCF101TrainTestSplits-RecognitionTask.zip\n"
     ]
    },
    {
     "ename": "KeyboardInterrupt",
     "evalue": "",
     "output_type": "error",
     "traceback": [
      "\u001B[0;31m---------------------------------------------------------------------------\u001B[0m",
      "\u001B[0;31mKeyboardInterrupt\u001B[0m                         Traceback (most recent call last)",
      "Cell \u001B[0;32mIn[24], line 1\u001B[0m\n\u001B[0;32m----> 1\u001B[0m x_train \u001B[38;5;241m=\u001B[39m tfds\u001B[38;5;241m.\u001B[39mload(\u001B[38;5;124m'\u001B[39m\u001B[38;5;124mucf101\u001B[39m\u001B[38;5;124m'\u001B[39m)\n\u001B[1;32m      2\u001B[0m x_train\n",
      "File \u001B[0;32m~/anaconda3/lib/python3.11/site-packages/tensorflow_datasets/core/logging/__init__.py:169\u001B[0m, in \u001B[0;36m_FunctionDecorator.__call__\u001B[0;34m(self, function, instance, args, kwargs)\u001B[0m\n\u001B[1;32m    167\u001B[0m metadata \u001B[38;5;241m=\u001B[39m \u001B[38;5;28mself\u001B[39m\u001B[38;5;241m.\u001B[39m_start_call()\n\u001B[1;32m    168\u001B[0m \u001B[38;5;28;01mtry\u001B[39;00m:\n\u001B[0;32m--> 169\u001B[0m   \u001B[38;5;28;01mreturn\u001B[39;00m function(\u001B[38;5;241m*\u001B[39margs, \u001B[38;5;241m*\u001B[39m\u001B[38;5;241m*\u001B[39mkwargs)\n\u001B[1;32m    170\u001B[0m \u001B[38;5;28;01mexcept\u001B[39;00m \u001B[38;5;167;01mException\u001B[39;00m:\n\u001B[1;32m    171\u001B[0m   metadata\u001B[38;5;241m.\u001B[39mmark_error()\n",
      "File \u001B[0;32m~/anaconda3/lib/python3.11/site-packages/tensorflow_datasets/core/load.py:640\u001B[0m, in \u001B[0;36mload\u001B[0;34m(name, split, data_dir, batch_size, shuffle_files, download, as_supervised, decoders, read_config, with_info, builder_kwargs, download_and_prepare_kwargs, as_dataset_kwargs, try_gcs)\u001B[0m\n\u001B[1;32m    521\u001B[0m \u001B[38;5;250m\u001B[39m\u001B[38;5;124;03m\"\"\"Loads the named dataset into a `tf.data.Dataset`.\u001B[39;00m\n\u001B[1;32m    522\u001B[0m \n\u001B[1;32m    523\u001B[0m \u001B[38;5;124;03m`tfds.load` is a convenience method that:\u001B[39;00m\n\u001B[0;32m   (...)\u001B[0m\n\u001B[1;32m    632\u001B[0m \u001B[38;5;124;03m    Split-specific information is available in `ds_info.splits`.\u001B[39;00m\n\u001B[1;32m    633\u001B[0m \u001B[38;5;124;03m\"\"\"\u001B[39;00m\n\u001B[1;32m    634\u001B[0m dbuilder \u001B[38;5;241m=\u001B[39m _fetch_builder(\n\u001B[1;32m    635\u001B[0m     name,\n\u001B[1;32m    636\u001B[0m     data_dir,\n\u001B[1;32m    637\u001B[0m     builder_kwargs,\n\u001B[1;32m    638\u001B[0m     try_gcs,\n\u001B[1;32m    639\u001B[0m )\n\u001B[0;32m--> 640\u001B[0m _download_and_prepare_builder(dbuilder, download, download_and_prepare_kwargs)\n\u001B[1;32m    642\u001B[0m \u001B[38;5;28;01mif\u001B[39;00m as_dataset_kwargs \u001B[38;5;129;01mis\u001B[39;00m \u001B[38;5;28;01mNone\u001B[39;00m:\n\u001B[1;32m    643\u001B[0m   as_dataset_kwargs \u001B[38;5;241m=\u001B[39m {}\n",
      "File \u001B[0;32m~/anaconda3/lib/python3.11/site-packages/tensorflow_datasets/core/load.py:499\u001B[0m, in \u001B[0;36m_download_and_prepare_builder\u001B[0;34m(dbuilder, download, download_and_prepare_kwargs)\u001B[0m\n\u001B[1;32m    497\u001B[0m \u001B[38;5;28;01mif\u001B[39;00m download:\n\u001B[1;32m    498\u001B[0m   download_and_prepare_kwargs \u001B[38;5;241m=\u001B[39m download_and_prepare_kwargs \u001B[38;5;129;01mor\u001B[39;00m {}\n\u001B[0;32m--> 499\u001B[0m   dbuilder\u001B[38;5;241m.\u001B[39mdownload_and_prepare(\u001B[38;5;241m*\u001B[39m\u001B[38;5;241m*\u001B[39mdownload_and_prepare_kwargs)\n",
      "File \u001B[0;32m~/anaconda3/lib/python3.11/site-packages/tensorflow_datasets/core/logging/__init__.py:169\u001B[0m, in \u001B[0;36m_FunctionDecorator.__call__\u001B[0;34m(self, function, instance, args, kwargs)\u001B[0m\n\u001B[1;32m    167\u001B[0m metadata \u001B[38;5;241m=\u001B[39m \u001B[38;5;28mself\u001B[39m\u001B[38;5;241m.\u001B[39m_start_call()\n\u001B[1;32m    168\u001B[0m \u001B[38;5;28;01mtry\u001B[39;00m:\n\u001B[0;32m--> 169\u001B[0m   \u001B[38;5;28;01mreturn\u001B[39;00m function(\u001B[38;5;241m*\u001B[39margs, \u001B[38;5;241m*\u001B[39m\u001B[38;5;241m*\u001B[39mkwargs)\n\u001B[1;32m    170\u001B[0m \u001B[38;5;28;01mexcept\u001B[39;00m \u001B[38;5;167;01mException\u001B[39;00m:\n\u001B[1;32m    171\u001B[0m   metadata\u001B[38;5;241m.\u001B[39mmark_error()\n",
      "File \u001B[0;32m~/anaconda3/lib/python3.11/site-packages/tensorflow_datasets/core/dataset_builder.py:646\u001B[0m, in \u001B[0;36mDatasetBuilder.download_and_prepare\u001B[0;34m(self, download_dir, download_config, file_format)\u001B[0m\n\u001B[1;32m    644\u001B[0m   \u001B[38;5;28mself\u001B[39m\u001B[38;5;241m.\u001B[39minfo\u001B[38;5;241m.\u001B[39mread_from_directory(\u001B[38;5;28mself\u001B[39m\u001B[38;5;241m.\u001B[39m_data_dir)\n\u001B[1;32m    645\u001B[0m \u001B[38;5;28;01melse\u001B[39;00m:\n\u001B[0;32m--> 646\u001B[0m   \u001B[38;5;28mself\u001B[39m\u001B[38;5;241m.\u001B[39m_download_and_prepare(\n\u001B[1;32m    647\u001B[0m       dl_manager\u001B[38;5;241m=\u001B[39mdl_manager,\n\u001B[1;32m    648\u001B[0m       download_config\u001B[38;5;241m=\u001B[39mdownload_config,\n\u001B[1;32m    649\u001B[0m   )\n\u001B[1;32m    651\u001B[0m   \u001B[38;5;66;03m# NOTE: If modifying the lines below to put additional information in\u001B[39;00m\n\u001B[1;32m    652\u001B[0m   \u001B[38;5;66;03m# DatasetInfo, you'll likely also want to update\u001B[39;00m\n\u001B[1;32m    653\u001B[0m   \u001B[38;5;66;03m# DatasetInfo.read_from_directory to possibly restore these attributes\u001B[39;00m\n\u001B[1;32m    654\u001B[0m   \u001B[38;5;66;03m# when reading from package data.\u001B[39;00m\n\u001B[1;32m    655\u001B[0m   \u001B[38;5;28mself\u001B[39m\u001B[38;5;241m.\u001B[39minfo\u001B[38;5;241m.\u001B[39mdownload_size \u001B[38;5;241m=\u001B[39m dl_manager\u001B[38;5;241m.\u001B[39mdownloaded_size\n",
      "File \u001B[0;32m~/anaconda3/lib/python3.11/site-packages/tensorflow_datasets/core/dataset_builder.py:1498\u001B[0m, in \u001B[0;36mGeneratorBasedBuilder._download_and_prepare\u001B[0;34m(self, dl_manager, download_config)\u001B[0m\n\u001B[1;32m   1496\u001B[0m \u001B[38;5;28;01melse\u001B[39;00m:\n\u001B[1;32m   1497\u001B[0m   optional_pipeline_kwargs \u001B[38;5;241m=\u001B[39m {}\n\u001B[0;32m-> 1498\u001B[0m split_generators \u001B[38;5;241m=\u001B[39m \u001B[38;5;28mself\u001B[39m\u001B[38;5;241m.\u001B[39m_split_generators(  \u001B[38;5;66;03m# pylint: disable=unexpected-keyword-arg\u001B[39;00m\n\u001B[1;32m   1499\u001B[0m     dl_manager, \u001B[38;5;241m*\u001B[39m\u001B[38;5;241m*\u001B[39moptional_pipeline_kwargs\n\u001B[1;32m   1500\u001B[0m )\n\u001B[1;32m   1501\u001B[0m \u001B[38;5;66;03m# TODO(tfds): Could be removed once all datasets are migrated.\u001B[39;00m\n\u001B[1;32m   1502\u001B[0m \u001B[38;5;66;03m# https://github.com/tensorflow/datasets/issues/2537\u001B[39;00m\n\u001B[1;32m   1503\u001B[0m \u001B[38;5;66;03m# Legacy mode (eventually convert list[SplitGeneratorLegacy] -> dict)\u001B[39;00m\n\u001B[1;32m   1504\u001B[0m split_generators \u001B[38;5;241m=\u001B[39m split_builder\u001B[38;5;241m.\u001B[39mnormalize_legacy_split_generators(\n\u001B[1;32m   1505\u001B[0m     split_generators\u001B[38;5;241m=\u001B[39msplit_generators,\n\u001B[1;32m   1506\u001B[0m     generator_fn\u001B[38;5;241m=\u001B[39m\u001B[38;5;28mself\u001B[39m\u001B[38;5;241m.\u001B[39m_generate_examples,\n\u001B[1;32m   1507\u001B[0m     is_beam\u001B[38;5;241m=\u001B[39m\u001B[38;5;28misinstance\u001B[39m(\u001B[38;5;28mself\u001B[39m, BeamBasedBuilder),\n\u001B[1;32m   1508\u001B[0m )\n",
      "File \u001B[0;32m~/anaconda3/lib/python3.11/site-packages/tensorflow_datasets/video/ucf101.py:167\u001B[0m, in \u001B[0;36mUcf101._split_generators\u001B[0;34m(self, dl_manager)\u001B[0m\n\u001B[1;32m    161\u001B[0m splits_folder \u001B[38;5;241m=\u001B[39m \u001B[38;5;124m'\u001B[39m\u001B[38;5;124mucfTrainTestlist\u001B[39m\u001B[38;5;124m'\u001B[39m\n\u001B[1;32m    163\u001B[0m urls_to_download \u001B[38;5;241m=\u001B[39m {\n\u001B[1;32m    164\u001B[0m     \u001B[38;5;124m'\u001B[39m\u001B[38;5;124mvideos\u001B[39m\u001B[38;5;124m'\u001B[39m: UCF_101_URL,\n\u001B[1;32m    165\u001B[0m     \u001B[38;5;124m'\u001B[39m\u001B[38;5;124msplits\u001B[39m\u001B[38;5;124m'\u001B[39m: SPLITS_URL,\n\u001B[1;32m    166\u001B[0m }\n\u001B[0;32m--> 167\u001B[0m downloaded_urls \u001B[38;5;241m=\u001B[39m dl_manager\u001B[38;5;241m.\u001B[39mdownload_and_extract(urls_to_download)\n\u001B[1;32m    169\u001B[0m \u001B[38;5;28;01mreturn\u001B[39;00m [\n\u001B[1;32m    170\u001B[0m     tfds\u001B[38;5;241m.\u001B[39mcore\u001B[38;5;241m.\u001B[39mSplitGenerator(\n\u001B[1;32m    171\u001B[0m         name\u001B[38;5;241m=\u001B[39mtfds\u001B[38;5;241m.\u001B[39mSplit\u001B[38;5;241m.\u001B[39mTRAIN,\n\u001B[0;32m   (...)\u001B[0m\n\u001B[1;32m    189\u001B[0m     ),\n\u001B[1;32m    190\u001B[0m ]\n",
      "File \u001B[0;32m~/anaconda3/lib/python3.11/site-packages/tensorflow_datasets/core/download/download_manager.py:687\u001B[0m, in \u001B[0;36mDownloadManager.download_and_extract\u001B[0;34m(self, url_or_urls)\u001B[0m\n\u001B[1;32m    685\u001B[0m \u001B[38;5;28;01mwith\u001B[39;00m \u001B[38;5;28mself\u001B[39m\u001B[38;5;241m.\u001B[39m_downloader\u001B[38;5;241m.\u001B[39mtqdm():\n\u001B[1;32m    686\u001B[0m   \u001B[38;5;28;01mwith\u001B[39;00m \u001B[38;5;28mself\u001B[39m\u001B[38;5;241m.\u001B[39m_extractor\u001B[38;5;241m.\u001B[39mtqdm():\n\u001B[0;32m--> 687\u001B[0m     \u001B[38;5;28;01mreturn\u001B[39;00m _map_promise(\u001B[38;5;28mself\u001B[39m\u001B[38;5;241m.\u001B[39m_download_extract, url_or_urls)\n",
      "File \u001B[0;32m~/anaconda3/lib/python3.11/site-packages/tensorflow_datasets/core/download/download_manager.py:830\u001B[0m, in \u001B[0;36m_map_promise\u001B[0;34m(map_fn, all_inputs)\u001B[0m\n\u001B[1;32m    826\u001B[0m \u001B[38;5;250m\u001B[39m\u001B[38;5;124;03m\"\"\"Map the function into each element and resolve the promise.\"\"\"\u001B[39;00m\n\u001B[1;32m    827\u001B[0m all_promises \u001B[38;5;241m=\u001B[39m tree_utils\u001B[38;5;241m.\u001B[39mmap_structure(\n\u001B[1;32m    828\u001B[0m     map_fn, all_inputs\n\u001B[1;32m    829\u001B[0m )  \u001B[38;5;66;03m# Apply the function\u001B[39;00m\n\u001B[0;32m--> 830\u001B[0m res \u001B[38;5;241m=\u001B[39m tree_utils\u001B[38;5;241m.\u001B[39mmap_structure(\n\u001B[1;32m    831\u001B[0m     \u001B[38;5;28;01mlambda\u001B[39;00m p: p\u001B[38;5;241m.\u001B[39mget(), all_promises\n\u001B[1;32m    832\u001B[0m )  \u001B[38;5;66;03m# Wait promises\u001B[39;00m\n\u001B[1;32m    833\u001B[0m \u001B[38;5;28;01mreturn\u001B[39;00m res\n",
      "File \u001B[0;32m~/anaconda3/lib/python3.11/site-packages/tree/__init__.py:435\u001B[0m, in \u001B[0;36mmap_structure\u001B[0;34m(func, *structures, **kwargs)\u001B[0m\n\u001B[1;32m    432\u001B[0m \u001B[38;5;28;01mfor\u001B[39;00m other \u001B[38;5;129;01min\u001B[39;00m structures[\u001B[38;5;241m1\u001B[39m:]:\n\u001B[1;32m    433\u001B[0m   assert_same_structure(structures[\u001B[38;5;241m0\u001B[39m], other, check_types\u001B[38;5;241m=\u001B[39mcheck_types)\n\u001B[1;32m    434\u001B[0m \u001B[38;5;28;01mreturn\u001B[39;00m unflatten_as(structures[\u001B[38;5;241m0\u001B[39m],\n\u001B[0;32m--> 435\u001B[0m                     [func(\u001B[38;5;241m*\u001B[39margs) \u001B[38;5;28;01mfor\u001B[39;00m args \u001B[38;5;129;01min\u001B[39;00m \u001B[38;5;28mzip\u001B[39m(\u001B[38;5;241m*\u001B[39m\u001B[38;5;28mmap\u001B[39m(flatten, structures))])\n",
      "File \u001B[0;32m~/anaconda3/lib/python3.11/site-packages/tree/__init__.py:435\u001B[0m, in \u001B[0;36m<listcomp>\u001B[0;34m(.0)\u001B[0m\n\u001B[1;32m    432\u001B[0m \u001B[38;5;28;01mfor\u001B[39;00m other \u001B[38;5;129;01min\u001B[39;00m structures[\u001B[38;5;241m1\u001B[39m:]:\n\u001B[1;32m    433\u001B[0m   assert_same_structure(structures[\u001B[38;5;241m0\u001B[39m], other, check_types\u001B[38;5;241m=\u001B[39mcheck_types)\n\u001B[1;32m    434\u001B[0m \u001B[38;5;28;01mreturn\u001B[39;00m unflatten_as(structures[\u001B[38;5;241m0\u001B[39m],\n\u001B[0;32m--> 435\u001B[0m                     [func(\u001B[38;5;241m*\u001B[39margs) \u001B[38;5;28;01mfor\u001B[39;00m args \u001B[38;5;129;01min\u001B[39;00m \u001B[38;5;28mzip\u001B[39m(\u001B[38;5;241m*\u001B[39m\u001B[38;5;28mmap\u001B[39m(flatten, structures))])\n",
      "File \u001B[0;32m~/anaconda3/lib/python3.11/site-packages/tensorflow_datasets/core/download/download_manager.py:831\u001B[0m, in \u001B[0;36m_map_promise.<locals>.<lambda>\u001B[0;34m(p)\u001B[0m\n\u001B[1;32m    826\u001B[0m \u001B[38;5;250m\u001B[39m\u001B[38;5;124;03m\"\"\"Map the function into each element and resolve the promise.\"\"\"\u001B[39;00m\n\u001B[1;32m    827\u001B[0m all_promises \u001B[38;5;241m=\u001B[39m tree_utils\u001B[38;5;241m.\u001B[39mmap_structure(\n\u001B[1;32m    828\u001B[0m     map_fn, all_inputs\n\u001B[1;32m    829\u001B[0m )  \u001B[38;5;66;03m# Apply the function\u001B[39;00m\n\u001B[1;32m    830\u001B[0m res \u001B[38;5;241m=\u001B[39m tree_utils\u001B[38;5;241m.\u001B[39mmap_structure(\n\u001B[0;32m--> 831\u001B[0m     \u001B[38;5;28;01mlambda\u001B[39;00m p: p\u001B[38;5;241m.\u001B[39mget(), all_promises\n\u001B[1;32m    832\u001B[0m )  \u001B[38;5;66;03m# Wait promises\u001B[39;00m\n\u001B[1;32m    833\u001B[0m \u001B[38;5;28;01mreturn\u001B[39;00m res\n",
      "File \u001B[0;32m~/anaconda3/lib/python3.11/site-packages/promise/promise.py:511\u001B[0m, in \u001B[0;36mPromise.get\u001B[0;34m(self, timeout)\u001B[0m\n\u001B[1;32m    508\u001B[0m \u001B[38;5;28;01mdef\u001B[39;00m \u001B[38;5;21mget\u001B[39m(\u001B[38;5;28mself\u001B[39m, timeout\u001B[38;5;241m=\u001B[39m\u001B[38;5;28;01mNone\u001B[39;00m):\n\u001B[1;32m    509\u001B[0m     \u001B[38;5;66;03m# type: (Optional[float]) -> T\u001B[39;00m\n\u001B[1;32m    510\u001B[0m     target \u001B[38;5;241m=\u001B[39m \u001B[38;5;28mself\u001B[39m\u001B[38;5;241m.\u001B[39m_target()\n\u001B[0;32m--> 511\u001B[0m     \u001B[38;5;28mself\u001B[39m\u001B[38;5;241m.\u001B[39m_wait(timeout \u001B[38;5;129;01mor\u001B[39;00m DEFAULT_TIMEOUT)\n\u001B[1;32m    512\u001B[0m     \u001B[38;5;28;01mreturn\u001B[39;00m \u001B[38;5;28mself\u001B[39m\u001B[38;5;241m.\u001B[39m_target_settled_value(_raise\u001B[38;5;241m=\u001B[39m\u001B[38;5;28;01mTrue\u001B[39;00m)\n",
      "File \u001B[0;32m~/anaconda3/lib/python3.11/site-packages/promise/promise.py:506\u001B[0m, in \u001B[0;36mPromise._wait\u001B[0;34m(self, timeout)\u001B[0m\n\u001B[1;32m    504\u001B[0m \u001B[38;5;28;01mdef\u001B[39;00m \u001B[38;5;21m_wait\u001B[39m(\u001B[38;5;28mself\u001B[39m, timeout\u001B[38;5;241m=\u001B[39m\u001B[38;5;28;01mNone\u001B[39;00m):\n\u001B[1;32m    505\u001B[0m     \u001B[38;5;66;03m# type: (Optional[float]) -> None\u001B[39;00m\n\u001B[0;32m--> 506\u001B[0m     \u001B[38;5;28mself\u001B[39m\u001B[38;5;241m.\u001B[39mwait(\u001B[38;5;28mself\u001B[39m, timeout)\n",
      "File \u001B[0;32m~/anaconda3/lib/python3.11/site-packages/promise/promise.py:502\u001B[0m, in \u001B[0;36mPromise.wait\u001B[0;34m(cls, promise, timeout)\u001B[0m\n\u001B[1;32m    499\u001B[0m \u001B[38;5;129m@classmethod\u001B[39m\n\u001B[1;32m    500\u001B[0m \u001B[38;5;28;01mdef\u001B[39;00m \u001B[38;5;21mwait\u001B[39m(\u001B[38;5;28mcls\u001B[39m, promise, timeout\u001B[38;5;241m=\u001B[39m\u001B[38;5;28;01mNone\u001B[39;00m):\n\u001B[1;32m    501\u001B[0m     \u001B[38;5;66;03m# type: (Promise, Optional[float]) -> None\u001B[39;00m\n\u001B[0;32m--> 502\u001B[0m     async_instance\u001B[38;5;241m.\u001B[39mwait(promise, timeout)\n",
      "File \u001B[0;32m~/anaconda3/lib/python3.11/site-packages/promise/async_.py:117\u001B[0m, in \u001B[0;36mAsync.wait\u001B[0;34m(self, promise, timeout)\u001B[0m\n\u001B[1;32m    113\u001B[0m     \u001B[38;5;28;01mif\u001B[39;00m \u001B[38;5;129;01mnot\u001B[39;00m promise\u001B[38;5;241m.\u001B[39mis_pending:\n\u001B[1;32m    114\u001B[0m         \u001B[38;5;66;03m# We return if the promise is already\u001B[39;00m\n\u001B[1;32m    115\u001B[0m         \u001B[38;5;66;03m# fulfilled or rejected\u001B[39;00m\n\u001B[1;32m    116\u001B[0m         \u001B[38;5;28;01mreturn\u001B[39;00m\n\u001B[0;32m--> 117\u001B[0m target\u001B[38;5;241m.\u001B[39mscheduler\u001B[38;5;241m.\u001B[39mwait(target, timeout)\n",
      "File \u001B[0;32m~/anaconda3/lib/python3.11/site-packages/promise/schedulers/immediate.py:25\u001B[0m, in \u001B[0;36mImmediateScheduler.wait\u001B[0;34m(self, promise, timeout)\u001B[0m\n\u001B[1;32m     22\u001B[0m     e\u001B[38;5;241m.\u001B[39mset()\n\u001B[1;32m     24\u001B[0m promise\u001B[38;5;241m.\u001B[39m_then(on_resolve_or_reject, on_resolve_or_reject)\n\u001B[0;32m---> 25\u001B[0m waited \u001B[38;5;241m=\u001B[39m e\u001B[38;5;241m.\u001B[39mwait(timeout)\n\u001B[1;32m     26\u001B[0m \u001B[38;5;28;01mif\u001B[39;00m \u001B[38;5;129;01mnot\u001B[39;00m waited:\n\u001B[1;32m     27\u001B[0m     \u001B[38;5;28;01mraise\u001B[39;00m \u001B[38;5;167;01mException\u001B[39;00m(\u001B[38;5;124m\"\u001B[39m\u001B[38;5;124mTimeout\u001B[39m\u001B[38;5;124m\"\u001B[39m)\n",
      "File \u001B[0;32m~/anaconda3/lib/python3.11/threading.py:622\u001B[0m, in \u001B[0;36mEvent.wait\u001B[0;34m(self, timeout)\u001B[0m\n\u001B[1;32m    620\u001B[0m signaled \u001B[38;5;241m=\u001B[39m \u001B[38;5;28mself\u001B[39m\u001B[38;5;241m.\u001B[39m_flag\n\u001B[1;32m    621\u001B[0m \u001B[38;5;28;01mif\u001B[39;00m \u001B[38;5;129;01mnot\u001B[39;00m signaled:\n\u001B[0;32m--> 622\u001B[0m     signaled \u001B[38;5;241m=\u001B[39m \u001B[38;5;28mself\u001B[39m\u001B[38;5;241m.\u001B[39m_cond\u001B[38;5;241m.\u001B[39mwait(timeout)\n\u001B[1;32m    623\u001B[0m \u001B[38;5;28;01mreturn\u001B[39;00m signaled\n",
      "File \u001B[0;32m~/anaconda3/lib/python3.11/threading.py:320\u001B[0m, in \u001B[0;36mCondition.wait\u001B[0;34m(self, timeout)\u001B[0m\n\u001B[1;32m    318\u001B[0m \u001B[38;5;28;01mtry\u001B[39;00m:    \u001B[38;5;66;03m# restore state no matter what (e.g., KeyboardInterrupt)\u001B[39;00m\n\u001B[1;32m    319\u001B[0m     \u001B[38;5;28;01mif\u001B[39;00m timeout \u001B[38;5;129;01mis\u001B[39;00m \u001B[38;5;28;01mNone\u001B[39;00m:\n\u001B[0;32m--> 320\u001B[0m         waiter\u001B[38;5;241m.\u001B[39macquire()\n\u001B[1;32m    321\u001B[0m         gotit \u001B[38;5;241m=\u001B[39m \u001B[38;5;28;01mTrue\u001B[39;00m\n\u001B[1;32m    322\u001B[0m     \u001B[38;5;28;01melse\u001B[39;00m:\n",
      "\u001B[0;31mKeyboardInterrupt\u001B[0m: "
     ]
    }
   ],
   "source": [
    "x_train = tfds.load('ucf101')\n",
    "x_train"
   ],
   "metadata": {
    "collapsed": false,
    "ExecuteTime": {
     "end_time": "2023-07-16T17:34:05.062427600Z",
     "start_time": "2023-07-16T17:33:08.333592900Z"
    }
   }
  }
 ],
 "metadata": {
  "kernelspec": {
   "display_name": "Python 3",
   "language": "python",
   "name": "python3"
  },
  "language_info": {
   "codemirror_mode": {
    "name": "ipython",
    "version": 2
   },
   "file_extension": ".py",
   "mimetype": "text/x-python",
   "name": "python",
   "nbconvert_exporter": "python",
   "pygments_lexer": "ipython2",
   "version": "2.7.6"
  }
 },
 "nbformat": 4,
 "nbformat_minor": 0
}
