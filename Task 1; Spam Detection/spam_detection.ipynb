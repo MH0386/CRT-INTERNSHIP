{
 "metadata": {
  "kernelspec": {
   "language": "python",
   "display_name": "Python 3",
   "name": "python3"
  },
  "language_info": {
   "name": "python",
   "version": "3.10.12",
   "mimetype": "text/x-python",
   "codemirror_mode": {
    "name": "ipython",
    "version": 3
   },
   "pygments_lexer": "ipython3",
   "nbconvert_exporter": "python",
   "file_extension": ".py"
  }
 },
 "nbformat_minor": 4,
 "nbformat": 4,
 "cells": [
  {
   "cell_type": "code",
   "source": [
    "import numpy as np\n",
    "import pandas as pd\n",
    "import plotly as pl\n",
    "import matplotlib.pyplot as plt\n",
    "import tensorflow as tf\n",
    "from sklearn.model_selection import train_test_split\n",
    "from tensorflow.keras.preprocessing.text import Tokenizer\n",
    "from tensorflow.keras.preprocessing.sequence import pad_sequences"
   ],
   "metadata": {
    "_uuid": "8f2839f25d086af736a60e9eeb907d3b93b6e0e5",
    "_cell_guid": "b1076dfc-b9ad-4769-8c92-a6c4dae69d19",
    "execution": {
     "iopub.status.busy": "2023-07-15T20:49:07.266756Z",
     "iopub.execute_input": "2023-07-15T20:49:07.267197Z",
     "iopub.status.idle": "2023-07-15T20:49:07.311294Z",
     "shell.execute_reply.started": "2023-07-15T20:49:07.267154Z",
     "shell.execute_reply": "2023-07-15T20:49:07.310407Z"
    },
    "trusted": true,
    "ExecuteTime": {
     "end_time": "2023-07-15T22:14:01.619428Z",
     "start_time": "2023-07-15T22:14:00.897660600Z"
    }
   },
   "execution_count": 13,
   "outputs": []
  },
  {
   "cell_type": "code",
   "source": [
    "data = pd.read_csv('SPAM text message 20170820 - Data.csv')\n",
    "data"
   ],
   "metadata": {
    "execution": {
     "iopub.status.busy": "2023-07-15T20:49:07.313195Z",
     "iopub.execute_input": "2023-07-15T20:49:07.313913Z",
     "iopub.status.idle": "2023-07-15T20:49:07.384698Z",
     "shell.execute_reply.started": "2023-07-15T20:49:07.313873Z",
     "shell.execute_reply": "2023-07-15T20:49:07.383269Z"
    },
    "trusted": true,
    "ExecuteTime": {
     "end_time": "2023-07-15T22:09:49.738548300Z",
     "start_time": "2023-07-15T22:09:49.613253900Z"
    }
   },
   "execution_count": 7,
   "outputs": [
    {
     "data": {
      "text/plain": "     Category                                            Message\n0         ham  Go until jurong point, crazy.. Available only ...\n1         ham                      Ok lar... Joking wif u oni...\n2        spam  Free entry in 2 a wkly comp to win FA Cup fina...\n3         ham  U dun say so early hor... U c already then say...\n4         ham  Nah I don't think he goes to usf, he lives aro...\n...       ...                                                ...\n5567     spam  This is the 2nd time we have tried 2 contact u...\n5568      ham               Will ü b going to esplanade fr home?\n5569      ham  Pity, * was in mood for that. So...any other s...\n5570      ham  The guy did some bitching but I acted like i'd...\n5571      ham                         Rofl. Its true to its name\n\n[5572 rows x 2 columns]",
      "text/html": "<div>\n<style scoped>\n    .dataframe tbody tr th:only-of-type {\n        vertical-align: middle;\n    }\n\n    .dataframe tbody tr th {\n        vertical-align: top;\n    }\n\n    .dataframe thead th {\n        text-align: right;\n    }\n</style>\n<table border=\"1\" class=\"dataframe\">\n  <thead>\n    <tr style=\"text-align: right;\">\n      <th></th>\n      <th>Category</th>\n      <th>Message</th>\n    </tr>\n  </thead>\n  <tbody>\n    <tr>\n      <th>0</th>\n      <td>ham</td>\n      <td>Go until jurong point, crazy.. Available only ...</td>\n    </tr>\n    <tr>\n      <th>1</th>\n      <td>ham</td>\n      <td>Ok lar... Joking wif u oni...</td>\n    </tr>\n    <tr>\n      <th>2</th>\n      <td>spam</td>\n      <td>Free entry in 2 a wkly comp to win FA Cup fina...</td>\n    </tr>\n    <tr>\n      <th>3</th>\n      <td>ham</td>\n      <td>U dun say so early hor... U c already then say...</td>\n    </tr>\n    <tr>\n      <th>4</th>\n      <td>ham</td>\n      <td>Nah I don't think he goes to usf, he lives aro...</td>\n    </tr>\n    <tr>\n      <th>...</th>\n      <td>...</td>\n      <td>...</td>\n    </tr>\n    <tr>\n      <th>5567</th>\n      <td>spam</td>\n      <td>This is the 2nd time we have tried 2 contact u...</td>\n    </tr>\n    <tr>\n      <th>5568</th>\n      <td>ham</td>\n      <td>Will ü b going to esplanade fr home?</td>\n    </tr>\n    <tr>\n      <th>5569</th>\n      <td>ham</td>\n      <td>Pity, * was in mood for that. So...any other s...</td>\n    </tr>\n    <tr>\n      <th>5570</th>\n      <td>ham</td>\n      <td>The guy did some bitching but I acted like i'd...</td>\n    </tr>\n    <tr>\n      <th>5571</th>\n      <td>ham</td>\n      <td>Rofl. Its true to its name</td>\n    </tr>\n  </tbody>\n</table>\n<p>5572 rows × 2 columns</p>\n</div>"
     },
     "execution_count": 7,
     "metadata": {},
     "output_type": "execute_result"
    }
   ]
  },
  {
   "cell_type": "code",
   "execution_count": 8,
   "outputs": [
    {
     "data": {
      "text/plain": "Category\nham     4825\nspam     747\nName: count, dtype: int64"
     },
     "execution_count": 8,
     "metadata": {},
     "output_type": "execute_result"
    }
   ],
   "source": [
    "data['Category'].value_counts()"
   ],
   "metadata": {
    "collapsed": false,
    "ExecuteTime": {
     "end_time": "2023-07-15T22:10:06.824717100Z",
     "start_time": "2023-07-15T22:10:06.821718300Z"
    }
   }
  },
  {
   "cell_type": "code",
   "execution_count": 15,
   "outputs": [
    {
     "data": {
      "text/plain": "<BarContainer object of 2 artists>"
     },
     "execution_count": 15,
     "metadata": {},
     "output_type": "execute_result"
    },
    {
     "data": {
      "text/plain": "<Figure size 640x480 with 1 Axes>",
      "image/png": "[encoded data removed]"
     },
     "metadata": {},
     "output_type": "display_data"
    }
   ],
   "source": [
    "plt.bar(data['Category'].value_counts().index, data['Category'].value_counts())"
   ],
   "metadata": {
    "collapsed": false,
    "ExecuteTime": {
     "end_time": "2023-07-15T22:14:41.069153400Z",
     "start_time": "2023-07-15T22:14:40.833273300Z"
    }
   }
  },
  {
   "cell_type": "code",
   "execution_count": 17,
   "outputs": [],
   "source": [
    "ham_msg = data[data.Category == 'ham']\n",
    "spam_msg = data[data.Category == 'spam']"
   ],
   "metadata": {
    "collapsed": false,
    "ExecuteTime": {
     "end_time": "2023-07-15T22:22:46.164649500Z",
     "start_time": "2023-07-15T22:22:46.154650300Z"
    }
   }
  }
 ]
}
