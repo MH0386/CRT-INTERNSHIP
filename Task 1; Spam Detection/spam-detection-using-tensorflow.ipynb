{
 "cells": [
  {
   "cell_type": "code",
   "execution_count": 139,
   "metadata": {
    "execution": {
     "iopub.execute_input": "2021-02-08T08:52:28.614384Z",
     "iopub.status.busy": "2021-02-08T08:52:28.613491Z",
     "iopub.status.idle": "2021-02-08T08:52:40.750158Z",
     "shell.execute_reply": "2021-02-08T08:52:40.749176Z"
    },
    "papermill": {
     "duration": 12.169917,
     "end_time": "2021-02-08T08:52:40.750380",
     "exception": false,
     "start_time": "2021-02-08T08:52:28.580463",
     "status": "completed"
    },
    "tags": []
   },
   "outputs": [],
   "source": [
    "import tensorflow as tf\n",
    "import numpy as np\n",
    "import pandas as pd\n",
    "import polars as pl\n",
    "import matplotlib.pyplot as plt\n",
    "from sklearn.model_selection import train_test_split\n",
    "from tensorflow.keras.preprocessing.text import Tokenizer\n",
    "from tensorflow.keras.preprocessing.sequence import pad_sequences\n",
    "import seaborn as sns"
   ]
  },
  {
   "cell_type": "code",
   "execution_count": 140,
   "metadata": {
    "execution": {
     "iopub.execute_input": "2021-02-08T08:52:40.791669Z",
     "iopub.status.busy": "2021-02-08T08:52:40.790985Z",
     "iopub.status.idle": "2021-02-08T08:52:40.856194Z",
     "shell.execute_reply": "2021-02-08T08:52:40.855261Z"
    },
    "papermill": {
     "duration": 0.088819,
     "end_time": "2021-02-08T08:52:40.856378",
     "exception": false,
     "start_time": "2021-02-08T08:52:40.767559",
     "status": "completed"
    },
    "tags": []
   },
   "outputs": [],
   "source": [
    "data = pl.read_csv('SPAM text message 20170820 - Data.csv')"
   ]
  },
  {
   "cell_type": "code",
   "execution_count": 141,
   "metadata": {
    "execution": {
     "iopub.execute_input": "2021-02-08T08:52:40.927753Z",
     "iopub.status.busy": "2021-02-08T08:52:40.926815Z",
     "iopub.status.idle": "2021-02-08T08:52:40.954800Z",
     "shell.execute_reply": "2021-02-08T08:52:40.955587Z"
    },
    "papermill": {
     "duration": 0.071468,
     "end_time": "2021-02-08T08:52:40.955785",
     "exception": false,
     "start_time": "2021-02-08T08:52:40.884317",
     "status": "completed"
    },
    "tags": []
   },
   "outputs": [],
   "source": [
    "data"
   ]
  },
  {
   "cell_type": "code",
   "execution_count": 142,
   "metadata": {
    "execution": {
     "iopub.execute_input": "2021-02-08T08:52:41.007316Z",
     "iopub.status.busy": "2021-02-08T08:52:41.006368Z",
     "iopub.status.idle": "2021-02-08T08:52:41.080339Z",
     "shell.execute_reply": "2021-02-08T08:52:41.079657Z"
    },
    "papermill": {
     "duration": 0.106915,
     "end_time": "2021-02-08T08:52:41.080492",
     "exception": false,
     "start_time": "2021-02-08T08:52:40.973577",
     "status": "completed"
    },
    "tags": []
   },
   "outputs": [],
   "source": [
    "data.groupby('Category').count()"
   ]
  },
  {
   "cell_type": "code",
   "execution_count": 143,
   "metadata": {
    "execution": {
     "iopub.execute_input": "2021-02-08T08:52:41.597230Z",
     "iopub.status.busy": "2021-02-08T08:52:41.596316Z",
     "iopub.status.idle": "2021-02-08T08:52:41.607896Z",
     "shell.execute_reply": "2021-02-08T08:52:41.608598Z"
    },
    "papermill": {
     "duration": 0.045957,
     "end_time": "2021-02-08T08:52:41.608830",
     "exception": false,
     "start_time": "2021-02-08T08:52:41.562873",
     "status": "completed"
    },
    "tags": []
   },
   "outputs": [],
   "source": [
    "ham_msg = data.filter(pl.col('Category') == 'ham')\n",
    "spam_msg = data.filter(pl.col('Category') == 'spam')"
   ]
  },
  {
   "cell_type": "code",
   "execution_count": 144,
   "metadata": {
    "execution": {
     "iopub.execute_input": "2021-02-08T08:52:41.680289Z",
     "iopub.status.busy": "2021-02-08T08:52:41.679409Z",
     "iopub.status.idle": "2021-02-08T08:52:41.683507Z",
     "shell.execute_reply": "2021-02-08T08:52:41.684551Z"
    },
    "papermill": {
     "duration": 0.044657,
     "end_time": "2021-02-08T08:52:41.684788",
     "exception": false,
     "start_time": "2021-02-08T08:52:41.640131",
     "status": "completed"
    },
    "tags": []
   },
   "outputs": [],
   "source": [
    "#randomly taking data from ham_ msg\n",
    "ham_msg = ham_msg.sample(n=len(spam_msg))"
   ]
  },
  {
   "cell_type": "code",
   "execution_count": 145,
   "metadata": {
    "execution": {
     "iopub.execute_input": "2021-02-08T08:52:41.756029Z",
     "iopub.status.busy": "2021-02-08T08:52:41.755156Z",
     "iopub.status.idle": "2021-02-08T08:52:41.758494Z",
     "shell.execute_reply": "2021-02-08T08:52:41.759957Z"
    },
    "papermill": {
     "duration": 0.042903,
     "end_time": "2021-02-08T08:52:41.760274",
     "exception": false,
     "start_time": "2021-02-08T08:52:41.717371",
     "status": "completed"
    },
    "tags": []
   },
   "outputs": [],
   "source": [
    "print(ham_msg.shape, spam_msg.shape)"
   ]
  },
  {
   "cell_type": "code",
   "execution_count": 146,
   "outputs": [],
   "source": [
    "data"
   ],
   "metadata": {
    "collapsed": false
   }
  },
  {
   "cell_type": "code",
   "execution_count": 147,
   "outputs": [],
   "source": [
    "balanced_data = ham_msg.vstack(spam_msg)\n",
    "balanced_data = balanced_data.with_columns(\n",
    "    pl.when(pl.col(\"Category\") == 'spam').then(1).otherwise(0).alias('Category')\n",
    ")"
   ],
   "metadata": {
    "collapsed": false
   }
  },
  {
   "cell_type": "code",
   "execution_count": 148,
   "outputs": [],
   "source": [
    "balanced_data['Category']"
   ],
   "metadata": {
    "collapsed": false
   }
  },
  {
   "cell_type": "code",
   "execution_count": 149,
   "metadata": {
    "execution": {
     "iopub.execute_input": "2021-02-08T08:52:42.045270Z",
     "iopub.status.busy": "2021-02-08T08:52:42.044585Z",
     "iopub.status.idle": "2021-02-08T08:52:42.059615Z",
     "shell.execute_reply": "2021-02-08T08:52:42.060246Z"
    },
    "papermill": {
     "duration": 0.041575,
     "end_time": "2021-02-08T08:52:42.060436",
     "exception": false,
     "start_time": "2021-02-08T08:52:42.018861",
     "status": "completed"
    },
    "tags": []
   },
   "outputs": [],
   "source": [
    "balanced_data.head()"
   ]
  },
  {
   "cell_type": "code",
   "execution_count": 150,
   "metadata": {
    "execution": {
     "iopub.execute_input": "2021-02-08T08:52:42.181044Z",
     "iopub.status.busy": "2021-02-08T08:52:42.179478Z",
     "iopub.status.idle": "2021-02-08T08:52:42.183828Z",
     "shell.execute_reply": "2021-02-08T08:52:42.184308Z"
    },
    "papermill": {
     "duration": 0.037443,
     "end_time": "2021-02-08T08:52:42.184497",
     "exception": false,
     "start_time": "2021-02-08T08:52:42.147054",
     "status": "completed"
    },
    "tags": []
   },
   "outputs": [],
   "source": [
    "train_msg, test_msg, train_labels, test_labels = train_test_split(balanced_data['Message'], balanced_data['Category'],\n",
    "                                                                  test_size=0.2, random_state=434)"
   ]
  },
  {
   "cell_type": "code",
   "execution_count": 151,
   "metadata": {
    "execution": {
     "iopub.execute_input": "2021-02-08T08:52:42.244199Z",
     "iopub.status.busy": "2021-02-08T08:52:42.242382Z",
     "iopub.status.idle": "2021-02-08T08:52:42.247590Z",
     "shell.execute_reply": "2021-02-08T08:52:42.248157Z"
    },
    "papermill": {
     "duration": 0.036887,
     "end_time": "2021-02-08T08:52:42.248341",
     "exception": false,
     "start_time": "2021-02-08T08:52:42.211454",
     "status": "completed"
    },
    "tags": []
   },
   "outputs": [],
   "source": [
    "vocab_size = 500\n",
    "oov_tok = '<OOV>'\n",
    "max_len = 50"
   ]
  },
  {
   "cell_type": "code",
   "execution_count": 152,
   "metadata": {
    "execution": {
     "iopub.execute_input": "2021-02-08T08:52:42.309099Z",
     "iopub.status.busy": "2021-02-08T08:52:42.308437Z",
     "iopub.status.idle": "2021-02-08T08:52:42.352080Z",
     "shell.execute_reply": "2021-02-08T08:52:42.352875Z"
    },
    "papermill": {
     "duration": 0.079236,
     "end_time": "2021-02-08T08:52:42.353061",
     "exception": false,
     "start_time": "2021-02-08T08:52:42.273825",
     "status": "completed"
    },
    "tags": []
   },
   "outputs": [],
   "source": [
    "#preprocessing making tokens out of text\n",
    "token = Tokenizer(num_words=vocab_size, oov_token=oov_tok)\n",
    "token.fit_on_texts(train_msg)"
   ]
  },
  {
   "cell_type": "code",
   "execution_count": 153,
   "metadata": {
    "execution": {
     "iopub.execute_input": "2021-02-08T08:52:42.424170Z",
     "iopub.status.busy": "2021-02-08T08:52:42.418903Z",
     "iopub.status.idle": "2021-02-08T08:52:42.457324Z",
     "shell.execute_reply": "2021-02-08T08:52:42.456777Z"
    },
    "papermill": {
     "duration": 0.078164,
     "end_time": "2021-02-08T08:52:42.457473",
     "exception": false,
     "start_time": "2021-02-08T08:52:42.379309",
     "status": "completed"
    },
    "tags": []
   },
   "outputs": [],
   "source": [
    "word_index = token.word_index\n",
    "word_index"
   ]
  },
  {
   "cell_type": "code",
   "execution_count": 154,
   "metadata": {
    "execution": {
     "iopub.execute_input": "2021-02-08T08:52:42.527342Z",
     "iopub.status.busy": "2021-02-08T08:52:42.521628Z",
     "iopub.status.idle": "2021-02-08T08:52:42.557928Z",
     "shell.execute_reply": "2021-02-08T08:52:42.557207Z"
    },
    "papermill": {
     "duration": 0.075678,
     "end_time": "2021-02-08T08:52:42.558076",
     "exception": false,
     "start_time": "2021-02-08T08:52:42.482398",
     "status": "completed"
    },
    "tags": []
   },
   "outputs": [],
   "source": [
    "padding_type = 'post'\n",
    "truncate_type = 'post'\n",
    "Trainning_seq = token.texts_to_sequences(train_msg)\n",
    "Trainning_pad = pad_sequences(Trainning_seq, maxlen=50, padding=padding_type, truncating=truncate_type)"
   ]
  },
  {
   "cell_type": "code",
   "execution_count": 155,
   "metadata": {
    "execution": {
     "iopub.execute_input": "2021-02-08T08:52:42.631619Z",
     "iopub.status.busy": "2021-02-08T08:52:42.630750Z",
     "iopub.status.idle": "2021-02-08T08:52:42.638342Z",
     "shell.execute_reply": "2021-02-08T08:52:42.637496Z"
    },
    "papermill": {
     "duration": 0.052667,
     "end_time": "2021-02-08T08:52:42.638537",
     "exception": false,
     "start_time": "2021-02-08T08:52:42.585870",
     "status": "completed"
    },
    "tags": []
   },
   "outputs": [],
   "source": [
    "Testing_seq = token.texts_to_sequences(test_msg)\n",
    "Testing_pad = pad_sequences(Testing_seq, maxlen=50, padding=padding_type, truncating=truncate_type)"
   ]
  },
  {
   "cell_type": "code",
   "execution_count": 156,
   "metadata": {
    "execution": {
     "iopub.execute_input": "2021-02-08T08:52:42.725283Z",
     "iopub.status.busy": "2021-02-08T08:52:42.723880Z",
     "iopub.status.idle": "2021-02-08T08:52:42.884744Z",
     "shell.execute_reply": "2021-02-08T08:52:42.882410Z"
    },
    "papermill": {
     "duration": 0.207504,
     "end_time": "2021-02-08T08:52:42.884963",
     "exception": false,
     "start_time": "2021-02-08T08:52:42.677459",
     "status": "completed"
    },
    "tags": []
   },
   "outputs": [],
   "source": [
    "#model\n",
    "model = tf.keras.models.Sequential(\n",
    "    [\n",
    "        tf.keras.layers.Embedding(vocab_size, 16, input_length=50),\n",
    "        tf.keras.layers.GlobalAveragePooling1D(),\n",
    "        tf.keras.layers.Dense(32, activation='relu'),\n",
    "        tf.keras.layers.Dropout(0.3),\n",
    "        tf.keras.layers.Dense(1, activation='sigmoid')\n",
    "    ]\n",
    ")\n"
   ]
  },
  {
   "cell_type": "code",
   "execution_count": 157,
   "metadata": {
    "execution": {
     "iopub.execute_input": "2021-02-08T08:52:42.980103Z",
     "iopub.status.busy": "2021-02-08T08:52:42.976901Z",
     "iopub.status.idle": "2021-02-08T08:52:42.988971Z",
     "shell.execute_reply": "2021-02-08T08:52:42.989792Z"
    },
    "papermill": {
     "duration": 0.064816,
     "end_time": "2021-02-08T08:52:42.990022",
     "exception": false,
     "start_time": "2021-02-08T08:52:42.925206",
     "status": "completed"
    },
    "tags": []
   },
   "outputs": [],
   "source": [
    "model.compile(\n",
    "    loss=tf.keras.losses.BinaryCrossentropy(from_logits=True),\n",
    "    metrics=['accuracy'],\n",
    "    optimizer='adam'\n",
    ")"
   ]
  },
  {
   "cell_type": "code",
   "execution_count": 158,
   "metadata": {
    "execution": {
     "iopub.execute_input": "2021-02-08T08:52:43.075256Z",
     "iopub.status.busy": "2021-02-08T08:52:43.074252Z",
     "iopub.status.idle": "2021-02-08T08:52:49.773161Z",
     "shell.execute_reply": "2021-02-08T08:52:49.771707Z"
    },
    "papermill": {
     "duration": 6.744687,
     "end_time": "2021-02-08T08:52:49.773321",
     "exception": false,
     "start_time": "2021-02-08T08:52:43.028634",
     "status": "completed"
    },
    "tags": []
   },
   "outputs": [],
   "source": [
    "epoch = 30\n",
    "early_stop = tf.keras.callbacks.EarlyStopping(monitor='val_loss', patience=3)\n",
    "history = model.fit(\n",
    "    tf.dtypes.DType(Trainning_pad),\n",
    "    train_labels,\n",
    "    validation_data=(Testing_pad, test_labels),\n",
    "    epochs=epoch,\n",
    "    callbacks=[early_stop],\n",
    "    verbose=2\n",
    ")"
   ]
  },
  {
   "cell_type": "code",
   "execution_count": null,
   "metadata": {
    "execution": {
     "iopub.execute_input": "2021-02-08T08:52:49.872650Z",
     "iopub.status.busy": "2021-02-08T08:52:49.871961Z",
     "iopub.status.idle": "2021-02-08T08:52:49.954585Z",
     "shell.execute_reply": "2021-02-08T08:52:49.953962Z"
    },
    "papermill": {
     "duration": 0.134887,
     "end_time": "2021-02-08T08:52:49.954736",
     "exception": false,
     "start_time": "2021-02-08T08:52:49.819849",
     "status": "completed"
    },
    "tags": []
   },
   "outputs": [],
   "source": [
    "model.evaluate(\n",
    "    Testing_pad,\n",
    "    test_labels\n",
    ")"
   ]
  },
  {
   "cell_type": "code",
   "execution_count": null,
   "metadata": {
    "execution": {
     "iopub.execute_input": "2021-02-08T08:52:50.078227Z",
     "iopub.status.busy": "2021-02-08T08:52:50.077383Z",
     "iopub.status.idle": "2021-02-08T08:52:50.233821Z",
     "shell.execute_reply": "2021-02-08T08:52:50.233100Z"
    },
    "papermill": {
     "duration": 0.228343,
     "end_time": "2021-02-08T08:52:50.233981",
     "exception": false,
     "start_time": "2021-02-08T08:52:50.005638",
     "status": "completed"
    },
    "tags": []
   },
   "outputs": [],
   "source": [
    "plt.plot(history.history['accuracy'])\n",
    "plt.plot(history.history['val_accuracy'])\n",
    "plt.title('model accuracy')\n",
    "plt.ylabel('accuracy')\n",
    "plt.xlabel('epoch')"
   ]
  },
  {
   "cell_type": "code",
   "execution_count": null,
   "metadata": {
    "execution": {
     "iopub.execute_input": "2021-02-08T08:52:50.338915Z",
     "iopub.status.busy": "2021-02-08T08:52:50.338167Z",
     "iopub.status.idle": "2021-02-08T08:52:50.344810Z",
     "shell.execute_reply": "2021-02-08T08:52:50.344115Z"
    },
    "papermill": {
     "duration": 0.060302,
     "end_time": "2021-02-08T08:52:50.344966",
     "exception": false,
     "start_time": "2021-02-08T08:52:50.284664",
     "status": "completed"
    },
    "tags": []
   },
   "outputs": [],
   "source": [
    "predict_msg = [\n",
    "    \"Go until jurong point, crazy.. Available only in bugis n great world la e buffet... Cine there got amore wat...\",\n",
    "    \"Ok lar... Joking wif u oni...\",\n",
    "    \"Free entry in 2 a wkly comp to win FA Cup final tkts 21st May 2005. Text FA to 87121 to receive entry question(std txt rate)T&C's apply 08452810075over18's\"]"
   ]
  },
  {
   "cell_type": "code",
   "execution_count": null,
   "metadata": {
    "execution": {
     "iopub.execute_input": "2021-02-08T08:52:50.449689Z",
     "iopub.status.busy": "2021-02-08T08:52:50.447414Z",
     "iopub.status.idle": "2021-02-08T08:52:50.577853Z",
     "shell.execute_reply": "2021-02-08T08:52:50.576072Z"
    },
    "papermill": {
     "duration": 0.18574,
     "end_time": "2021-02-08T08:52:50.578092",
     "exception": false,
     "start_time": "2021-02-08T08:52:50.392352",
     "status": "completed"
    },
    "tags": []
   },
   "outputs": [],
   "source": [
    "def predict_spam(predict_msg):\n",
    "    new_seq = token.texts_to_sequences(predict_msg)\n",
    "    padded = pad_sequences(new_seq, maxlen=50,\n",
    "                           padding=padding_type,\n",
    "                           truncating='post')\n",
    "    return model.predict(padded)\n",
    "\n",
    "\n",
    "predict_spam(predict_msg)"
   ]
  }
 ],
 "metadata": {
  "kernelspec": {
   "display_name": "Python 3",
   "language": "python",
   "name": "python3"
  },
  "language_info": {
   "codemirror_mode": {
    "name": "ipython",
    "version": 3
   },
   "file_extension": ".py",
   "mimetype": "text/x-python",
   "name": "python",
   "nbconvert_exporter": "python",
   "pygments_lexer": "ipython3",
   "version": "3.7.9"
  },
  "papermill": {
   "default_parameters": {},
   "duration": 32.053119,
   "end_time": "2021-02-08T08:52:52.370459",
   "environment_variables": {},
   "exception": null,
   "input_path": "__notebook__.ipynb",
   "output_path": "__notebook__.ipynb",
   "parameters": {},
   "start_time": "2021-02-08T08:52:20.317340",
   "version": "2.2.2"
  }
 },
 "nbformat": 4,
 "nbformat_minor": 4
}
